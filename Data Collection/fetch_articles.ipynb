{
 "cells": [
  {
   "cell_type": "code",
   "execution_count": 1,
   "metadata": {},
   "outputs": [],
   "source": [
    "import multiprocessing as mp\n",
    "import requests\n",
    "from bs4 import BeautifulSoup\n",
    "import pandas as pd\n",
    "import csv\n",
    "import time\n",
    "from tqdm import tqdm\n",
    "import os\n",
    "import os.path"
   ]
  },
  {
   "cell_type": "code",
   "execution_count": 2,
   "metadata": {},
   "outputs": [],
   "source": [
    "start_year = 2020\n",
    "end_year = 2021\n",
    "\n",
    "start_from_year = 2020\n",
    "start_from_quarter = 1\n",
    "start_from_row = 1\n",
    "stop_at_year = 2021"
   ]
  },
  {
   "cell_type": "code",
   "execution_count": 3,
   "metadata": {},
   "outputs": [],
   "source": [
    "def worker(row, q):\n",
    "    row_text = []\n",
    "    page = requests.get(row[\"url\"]).text\n",
    "    soup = BeautifulSoup(page, 'html.parser')\n",
    "    article_body = soup.select('section[name=articleBody] p')\n",
    "    if len(article_body) == 0:\n",
    "        article_body = soup.select('p.story-body-text')\n",
    "    content = \"\"\n",
    "    for paragraph in article_body:\n",
    "        text_content = (paragraph.get_text()).strip()\n",
    "        if not text_content:\n",
    "            continue\n",
    "        content += (' ' + text_content.replace('\\n', ''))\n",
    "    row['article'] = content\n",
    "    row_text = [row['_id'],row['url'],row['word_count'],row['section'],row['date'],row['type'],row['headline'].replace('\\n', ''),row['abstract'].replace('\\n', ''),row['article'].replace('\\n', '')]\n",
    "    q.put(row_text)\n",
    "    return row_text"
   ]
  },
  {
   "cell_type": "code",
   "execution_count": 4,
   "metadata": {},
   "outputs": [],
   "source": [
    "def listener(q):\n",
    "    while 1:\n",
    "        m = q.get()\n",
    "        if m == 'kill':\n",
    "            break"
   ]
  },
  {
   "cell_type": "code",
   "execution_count": null,
   "metadata": {},
   "outputs": [],
   "source": [
    "for year in range(end_year - start_year):\n",
    "    # Stop at the mentioned year\n",
    "    if start_year+year == stop_at_year:\n",
    "        break\n",
    "    \n",
    "    # Skip fetching previously covered data\n",
    "    if (start_year+year < start_from_year):\n",
    "        continue\n",
    "    \n",
    "    out_file_name = 'articles_{}.csv'.format(start_year+year)\n",
    "    columns = ['_id','url','word_count','section','date','type','headline','abstract','article']\n",
    "    with open(out_file_name, 'a+') as out_file:\n",
    "        writer = csv.writer(out_file)\n",
    "        \n",
    "        # If file is created new or empty, write column names first\n",
    "        if os.path.isfile(out_file_name):\n",
    "            if (os.stat(out_file_name).st_size == 0):\n",
    "                writer.writerow(columns)\n",
    "        else:\n",
    "            writer.writerow(columns)\n",
    "        \n",
    "        for quarter in range(4):\n",
    "            # Skip Quarters as per the customisations\n",
    "            if (start_year+year == start_from_year) and (quarter < start_from_quarter-1):\n",
    "                continue\n",
    "            with open('{}_{}.csv'.format(start_year+year, quarter+1), encoding='utf-8') as meta_file:\n",
    "                data = csv.DictReader(meta_file)\n",
    "                num_articles = 2000\n",
    "                manager = mp.Manager()\n",
    "                q = manager.Queue()    \n",
    "                pool = mp.Pool(10)\n",
    "                \n",
    "                #put listener to work first\n",
    "                watcher = pool.apply_async(listener, (q,))\n",
    "                \n",
    "                #fire off workers\n",
    "                jobs = []\n",
    "                for row in data:\n",
    "                    job = pool.apply_async(worker, (row, q,))\n",
    "                    jobs.append(job)\n",
    "                \n",
    "                # collect results from the workers through the pool result queue\n",
    "                for job in jobs:\n",
    "                    row_val = job.get()\n",
    "                    if not row_val:\n",
    "                        continue\n",
    "                    writer.writerow(row_val)\n",
    "                    \n",
    "                #now we are done, kill the listener\n",
    "                q.put('kill')\n",
    "                pool.close()\n",
    "                pool.join()\n",
    "            print(\"done\")"
   ]
  },
  {
   "cell_type": "code",
   "execution_count": null,
   "metadata": {},
   "outputs": [],
   "source": []
  }
 ],
 "metadata": {
  "kernelspec": {
   "display_name": "Python 3",
   "language": "python",
   "name": "python3"
  },
  "language_info": {
   "codemirror_mode": {
    "name": "ipython",
    "version": 3
   },
   "file_extension": ".py",
   "mimetype": "text/x-python",
   "name": "python",
   "nbconvert_exporter": "python",
   "pygments_lexer": "ipython3",
   "version": "3.8.3"
  }
 },
 "nbformat": 4,
 "nbformat_minor": 4
}

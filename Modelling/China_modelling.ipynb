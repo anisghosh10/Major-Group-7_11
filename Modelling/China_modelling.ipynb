{
 "cells": [
  {
   "cell_type": "code",
   "execution_count": 1,
   "metadata": {},
   "outputs": [],
   "source": [
    "import numpy as np\n",
    "import pandas as pd\n",
    "import matplotlib.pyplot as plt\n",
    "import seaborn as sns\n",
    "from sklearn.metrics import r2_score, mean_squared_error\n",
    "from sklearn.ensemble import AdaBoostRegressor\n",
    "import random\n",
    "import pickle as pkl"
   ]
  },
  {
   "cell_type": "code",
   "execution_count": 2,
   "metadata": {},
   "outputs": [],
   "source": [
    "random.seed(24)"
   ]
  },
  {
   "cell_type": "code",
   "execution_count": 4,
   "metadata": {},
   "outputs": [
    {
     "data": {
      "text/html": [
       "<div>\n",
       "<style scoped>\n",
       "    .dataframe tbody tr th:only-of-type {\n",
       "        vertical-align: middle;\n",
       "    }\n",
       "\n",
       "    .dataframe tbody tr th {\n",
       "        vertical-align: top;\n",
       "    }\n",
       "\n",
       "    .dataframe thead th {\n",
       "        text-align: right;\n",
       "    }\n",
       "</style>\n",
       "<table border=\"1\" class=\"dataframe\">\n",
       "  <thead>\n",
       "    <tr style=\"text-align: right;\">\n",
       "      <th></th>\n",
       "      <th>GDP</th>\n",
       "      <th>FER</th>\n",
       "    </tr>\n",
       "  </thead>\n",
       "  <tbody>\n",
       "    <tr>\n",
       "      <th>0</th>\n",
       "      <td>197.1</td>\n",
       "      <td>1.704542</td>\n",
       "    </tr>\n",
       "    <tr>\n",
       "      <th>1</th>\n",
       "      <td>203.3</td>\n",
       "      <td>1.892542</td>\n",
       "    </tr>\n",
       "    <tr>\n",
       "      <th>2</th>\n",
       "      <td>225.4</td>\n",
       "      <td>1.975675</td>\n",
       "    </tr>\n",
       "    <tr>\n",
       "      <th>3</th>\n",
       "      <td>250.7</td>\n",
       "      <td>2.320042</td>\n",
       "    </tr>\n",
       "    <tr>\n",
       "      <th>4</th>\n",
       "      <td>294.5</td>\n",
       "      <td>2.936658</td>\n",
       "    </tr>\n",
       "  </tbody>\n",
       "</table>\n",
       "</div>"
      ],
      "text/plain": [
       "     GDP       FER\n",
       "0  197.1  1.704542\n",
       "1  203.3  1.892542\n",
       "2  225.4  1.975675\n",
       "3  250.7  2.320042\n",
       "4  294.5  2.936658"
      ]
     },
     "execution_count": 4,
     "metadata": {},
     "output_type": "execute_result"
    }
   ],
   "source": [
    "eco_fac = pd.read_csv('eco_china.csv')\n",
    "eco_fac.head()"
   ]
  },
  {
   "cell_type": "code",
   "execution_count": 5,
   "metadata": {},
   "outputs": [
    {
     "data": {
      "text/html": [
       "<div>\n",
       "<style scoped>\n",
       "    .dataframe tbody tr th:only-of-type {\n",
       "        vertical-align: middle;\n",
       "    }\n",
       "\n",
       "    .dataframe tbody tr th {\n",
       "        vertical-align: top;\n",
       "    }\n",
       "\n",
       "    .dataframe thead th {\n",
       "        text-align: right;\n",
       "    }\n",
       "</style>\n",
       "<table border=\"1\" class=\"dataframe\">\n",
       "  <thead>\n",
       "    <tr style=\"text-align: right;\">\n",
       "      <th></th>\n",
       "      <th>0</th>\n",
       "      <th>1</th>\n",
       "      <th>2</th>\n",
       "      <th>3</th>\n",
       "      <th>4</th>\n",
       "      <th>5</th>\n",
       "      <th>6</th>\n",
       "      <th>7</th>\n",
       "      <th>8</th>\n",
       "      <th>9</th>\n",
       "      <th>10</th>\n",
       "      <th>11</th>\n",
       "      <th>12</th>\n",
       "      <th>13</th>\n",
       "      <th>14</th>\n",
       "    </tr>\n",
       "  </thead>\n",
       "  <tbody>\n",
       "    <tr>\n",
       "      <th>0</th>\n",
       "      <td>0.025855</td>\n",
       "      <td>0.125928</td>\n",
       "      <td>0.054118</td>\n",
       "      <td>0.067509</td>\n",
       "      <td>0.037793</td>\n",
       "      <td>0.062103</td>\n",
       "      <td>0.057768</td>\n",
       "      <td>0.093079</td>\n",
       "      <td>0.032104</td>\n",
       "      <td>0.069524</td>\n",
       "      <td>0.053799</td>\n",
       "      <td>0.089232</td>\n",
       "      <td>0.020576</td>\n",
       "      <td>0.195674</td>\n",
       "      <td>0.014940</td>\n",
       "    </tr>\n",
       "    <tr>\n",
       "      <th>1</th>\n",
       "      <td>0.024390</td>\n",
       "      <td>0.107464</td>\n",
       "      <td>0.049101</td>\n",
       "      <td>0.059169</td>\n",
       "      <td>0.034891</td>\n",
       "      <td>0.060548</td>\n",
       "      <td>0.056063</td>\n",
       "      <td>0.094063</td>\n",
       "      <td>0.027917</td>\n",
       "      <td>0.074106</td>\n",
       "      <td>0.045950</td>\n",
       "      <td>0.088189</td>\n",
       "      <td>0.022177</td>\n",
       "      <td>0.239667</td>\n",
       "      <td>0.016304</td>\n",
       "    </tr>\n",
       "    <tr>\n",
       "      <th>2</th>\n",
       "      <td>0.025450</td>\n",
       "      <td>0.076065</td>\n",
       "      <td>0.035598</td>\n",
       "      <td>0.047638</td>\n",
       "      <td>0.028261</td>\n",
       "      <td>0.041214</td>\n",
       "      <td>0.046687</td>\n",
       "      <td>0.079440</td>\n",
       "      <td>0.030794</td>\n",
       "      <td>0.057839</td>\n",
       "      <td>0.034091</td>\n",
       "      <td>0.071603</td>\n",
       "      <td>0.016388</td>\n",
       "      <td>0.389751</td>\n",
       "      <td>0.019181</td>\n",
       "    </tr>\n",
       "    <tr>\n",
       "      <th>3</th>\n",
       "      <td>0.026685</td>\n",
       "      <td>0.087435</td>\n",
       "      <td>0.042064</td>\n",
       "      <td>0.061242</td>\n",
       "      <td>0.031366</td>\n",
       "      <td>0.051220</td>\n",
       "      <td>0.059974</td>\n",
       "      <td>0.104375</td>\n",
       "      <td>0.038531</td>\n",
       "      <td>0.068460</td>\n",
       "      <td>0.035101</td>\n",
       "      <td>0.074283</td>\n",
       "      <td>0.016077</td>\n",
       "      <td>0.283385</td>\n",
       "      <td>0.019803</td>\n",
       "    </tr>\n",
       "    <tr>\n",
       "      <th>4</th>\n",
       "      <td>0.028514</td>\n",
       "      <td>0.077057</td>\n",
       "      <td>0.046638</td>\n",
       "      <td>0.060663</td>\n",
       "      <td>0.031233</td>\n",
       "      <td>0.060692</td>\n",
       "      <td>0.060507</td>\n",
       "      <td>0.107761</td>\n",
       "      <td>0.041098</td>\n",
       "      <td>0.076824</td>\n",
       "      <td>0.038589</td>\n",
       "      <td>0.085528</td>\n",
       "      <td>0.015696</td>\n",
       "      <td>0.251406</td>\n",
       "      <td>0.017794</td>\n",
       "    </tr>\n",
       "  </tbody>\n",
       "</table>\n",
       "</div>"
      ],
      "text/plain": [
       "          0         1         2         3         4         5         6  \\\n",
       "0  0.025855  0.125928  0.054118  0.067509  0.037793  0.062103  0.057768   \n",
       "1  0.024390  0.107464  0.049101  0.059169  0.034891  0.060548  0.056063   \n",
       "2  0.025450  0.076065  0.035598  0.047638  0.028261  0.041214  0.046687   \n",
       "3  0.026685  0.087435  0.042064  0.061242  0.031366  0.051220  0.059974   \n",
       "4  0.028514  0.077057  0.046638  0.060663  0.031233  0.060692  0.060507   \n",
       "\n",
       "          7         8         9        10        11        12        13  \\\n",
       "0  0.093079  0.032104  0.069524  0.053799  0.089232  0.020576  0.195674   \n",
       "1  0.094063  0.027917  0.074106  0.045950  0.088189  0.022177  0.239667   \n",
       "2  0.079440  0.030794  0.057839  0.034091  0.071603  0.016388  0.389751   \n",
       "3  0.104375  0.038531  0.068460  0.035101  0.074283  0.016077  0.283385   \n",
       "4  0.107761  0.041098  0.076824  0.038589  0.085528  0.015696  0.251406   \n",
       "\n",
       "         14  \n",
       "0  0.014940  \n",
       "1  0.016304  \n",
       "2  0.019181  \n",
       "3  0.019803  \n",
       "4  0.017794  "
      ]
     },
     "execution_count": 5,
     "metadata": {},
     "output_type": "execute_result"
    }
   ],
   "source": [
    "df = pd.read_csv('weights_15.csv')\n",
    "df.head()"
   ]
  },
  {
   "cell_type": "code",
   "execution_count": 6,
   "metadata": {},
   "outputs": [
    {
     "data": {
      "text/plain": [
       "0     0\n",
       "1     0\n",
       "2     0\n",
       "3     0\n",
       "4     0\n",
       "5     0\n",
       "6     0\n",
       "7     0\n",
       "8     0\n",
       "9     0\n",
       "10    0\n",
       "11    0\n",
       "12    0\n",
       "13    0\n",
       "14    0\n",
       "dtype: int64"
      ]
     },
     "execution_count": 6,
     "metadata": {},
     "output_type": "execute_result"
    }
   ],
   "source": [
    "df.isna().sum()"
   ]
  },
  {
   "cell_type": "code",
   "execution_count": 7,
   "metadata": {},
   "outputs": [],
   "source": [
    "new_fer = eco_fac.FER.shift(-1)\n",
    "new_fer = pd.DataFrame(new_fer)\n",
    "new_fer.rename(columns = {'FER':'NEXT_YR_FER'}, inplace=True)"
   ]
  },
  {
   "cell_type": "code",
   "execution_count": 8,
   "metadata": {},
   "outputs": [
    {
     "data": {
      "text/html": [
       "<div>\n",
       "<style scoped>\n",
       "    .dataframe tbody tr th:only-of-type {\n",
       "        vertical-align: middle;\n",
       "    }\n",
       "\n",
       "    .dataframe tbody tr th {\n",
       "        vertical-align: top;\n",
       "    }\n",
       "\n",
       "    .dataframe thead th {\n",
       "        text-align: right;\n",
       "    }\n",
       "</style>\n",
       "<table border=\"1\" class=\"dataframe\">\n",
       "  <thead>\n",
       "    <tr style=\"text-align: right;\">\n",
       "      <th></th>\n",
       "      <th>GDP</th>\n",
       "      <th>FER</th>\n",
       "      <th>NEXT_YR_FER</th>\n",
       "    </tr>\n",
       "  </thead>\n",
       "  <tbody>\n",
       "    <tr>\n",
       "      <th>0</th>\n",
       "      <td>197.1</td>\n",
       "      <td>1.704542</td>\n",
       "      <td>1.892542</td>\n",
       "    </tr>\n",
       "    <tr>\n",
       "      <th>1</th>\n",
       "      <td>203.3</td>\n",
       "      <td>1.892542</td>\n",
       "      <td>1.975675</td>\n",
       "    </tr>\n",
       "    <tr>\n",
       "      <th>2</th>\n",
       "      <td>225.4</td>\n",
       "      <td>1.975675</td>\n",
       "      <td>2.320042</td>\n",
       "    </tr>\n",
       "    <tr>\n",
       "      <th>3</th>\n",
       "      <td>250.7</td>\n",
       "      <td>2.320042</td>\n",
       "      <td>2.936658</td>\n",
       "    </tr>\n",
       "    <tr>\n",
       "      <th>4</th>\n",
       "      <td>294.5</td>\n",
       "      <td>2.936658</td>\n",
       "      <td>3.452792</td>\n",
       "    </tr>\n",
       "  </tbody>\n",
       "</table>\n",
       "</div>"
      ],
      "text/plain": [
       "     GDP       FER  NEXT_YR_FER\n",
       "0  197.1  1.704542     1.892542\n",
       "1  203.3  1.892542     1.975675\n",
       "2  225.4  1.975675     2.320042\n",
       "3  250.7  2.320042     2.936658\n",
       "4  294.5  2.936658     3.452792"
      ]
     },
     "execution_count": 8,
     "metadata": {},
     "output_type": "execute_result"
    }
   ],
   "source": [
    "data = pd.concat([eco_fac,new_fer],axis=1)\n",
    "data.head()"
   ]
  },
  {
   "cell_type": "code",
   "execution_count": 11,
   "metadata": {},
   "outputs": [
    {
     "data": {
      "text/html": [
       "<div>\n",
       "<style scoped>\n",
       "    .dataframe tbody tr th:only-of-type {\n",
       "        vertical-align: middle;\n",
       "    }\n",
       "\n",
       "    .dataframe tbody tr th {\n",
       "        vertical-align: top;\n",
       "    }\n",
       "\n",
       "    .dataframe thead th {\n",
       "        text-align: right;\n",
       "    }\n",
       "</style>\n",
       "<table border=\"1\" class=\"dataframe\">\n",
       "  <thead>\n",
       "    <tr style=\"text-align: right;\">\n",
       "      <th></th>\n",
       "      <th>0</th>\n",
       "      <th>1</th>\n",
       "      <th>2</th>\n",
       "      <th>3</th>\n",
       "      <th>4</th>\n",
       "      <th>5</th>\n",
       "      <th>6</th>\n",
       "      <th>7</th>\n",
       "      <th>8</th>\n",
       "      <th>9</th>\n",
       "      <th>10</th>\n",
       "      <th>11</th>\n",
       "      <th>12</th>\n",
       "      <th>13</th>\n",
       "      <th>14</th>\n",
       "      <th>GDP</th>\n",
       "      <th>FER</th>\n",
       "      <th>NEXT_YR_FER</th>\n",
       "    </tr>\n",
       "  </thead>\n",
       "  <tbody>\n",
       "    <tr>\n",
       "      <th>0</th>\n",
       "      <td>0.025855</td>\n",
       "      <td>0.125928</td>\n",
       "      <td>0.054118</td>\n",
       "      <td>0.067509</td>\n",
       "      <td>0.037793</td>\n",
       "      <td>0.062103</td>\n",
       "      <td>0.057768</td>\n",
       "      <td>0.093079</td>\n",
       "      <td>0.032104</td>\n",
       "      <td>0.069524</td>\n",
       "      <td>0.053799</td>\n",
       "      <td>0.089232</td>\n",
       "      <td>0.020576</td>\n",
       "      <td>0.195674</td>\n",
       "      <td>0.014940</td>\n",
       "      <td>197.1</td>\n",
       "      <td>1.704542</td>\n",
       "      <td>1.892542</td>\n",
       "    </tr>\n",
       "    <tr>\n",
       "      <th>1</th>\n",
       "      <td>0.024390</td>\n",
       "      <td>0.107464</td>\n",
       "      <td>0.049101</td>\n",
       "      <td>0.059169</td>\n",
       "      <td>0.034891</td>\n",
       "      <td>0.060548</td>\n",
       "      <td>0.056063</td>\n",
       "      <td>0.094063</td>\n",
       "      <td>0.027917</td>\n",
       "      <td>0.074106</td>\n",
       "      <td>0.045950</td>\n",
       "      <td>0.088189</td>\n",
       "      <td>0.022177</td>\n",
       "      <td>0.239667</td>\n",
       "      <td>0.016304</td>\n",
       "      <td>203.3</td>\n",
       "      <td>1.892542</td>\n",
       "      <td>1.975675</td>\n",
       "    </tr>\n",
       "    <tr>\n",
       "      <th>2</th>\n",
       "      <td>0.025450</td>\n",
       "      <td>0.076065</td>\n",
       "      <td>0.035598</td>\n",
       "      <td>0.047638</td>\n",
       "      <td>0.028261</td>\n",
       "      <td>0.041214</td>\n",
       "      <td>0.046687</td>\n",
       "      <td>0.079440</td>\n",
       "      <td>0.030794</td>\n",
       "      <td>0.057839</td>\n",
       "      <td>0.034091</td>\n",
       "      <td>0.071603</td>\n",
       "      <td>0.016388</td>\n",
       "      <td>0.389751</td>\n",
       "      <td>0.019181</td>\n",
       "      <td>225.4</td>\n",
       "      <td>1.975675</td>\n",
       "      <td>2.320042</td>\n",
       "    </tr>\n",
       "    <tr>\n",
       "      <th>3</th>\n",
       "      <td>0.026685</td>\n",
       "      <td>0.087435</td>\n",
       "      <td>0.042064</td>\n",
       "      <td>0.061242</td>\n",
       "      <td>0.031366</td>\n",
       "      <td>0.051220</td>\n",
       "      <td>0.059974</td>\n",
       "      <td>0.104375</td>\n",
       "      <td>0.038531</td>\n",
       "      <td>0.068460</td>\n",
       "      <td>0.035101</td>\n",
       "      <td>0.074283</td>\n",
       "      <td>0.016077</td>\n",
       "      <td>0.283385</td>\n",
       "      <td>0.019803</td>\n",
       "      <td>250.7</td>\n",
       "      <td>2.320042</td>\n",
       "      <td>2.936658</td>\n",
       "    </tr>\n",
       "    <tr>\n",
       "      <th>4</th>\n",
       "      <td>0.028514</td>\n",
       "      <td>0.077057</td>\n",
       "      <td>0.046638</td>\n",
       "      <td>0.060663</td>\n",
       "      <td>0.031233</td>\n",
       "      <td>0.060692</td>\n",
       "      <td>0.060507</td>\n",
       "      <td>0.107761</td>\n",
       "      <td>0.041098</td>\n",
       "      <td>0.076824</td>\n",
       "      <td>0.038589</td>\n",
       "      <td>0.085528</td>\n",
       "      <td>0.015696</td>\n",
       "      <td>0.251406</td>\n",
       "      <td>0.017794</td>\n",
       "      <td>294.5</td>\n",
       "      <td>2.936658</td>\n",
       "      <td>3.452792</td>\n",
       "    </tr>\n",
       "  </tbody>\n",
       "</table>\n",
       "</div>"
      ],
      "text/plain": [
       "          0         1         2         3         4         5         6  \\\n",
       "0  0.025855  0.125928  0.054118  0.067509  0.037793  0.062103  0.057768   \n",
       "1  0.024390  0.107464  0.049101  0.059169  0.034891  0.060548  0.056063   \n",
       "2  0.025450  0.076065  0.035598  0.047638  0.028261  0.041214  0.046687   \n",
       "3  0.026685  0.087435  0.042064  0.061242  0.031366  0.051220  0.059974   \n",
       "4  0.028514  0.077057  0.046638  0.060663  0.031233  0.060692  0.060507   \n",
       "\n",
       "          7         8         9        10        11        12        13  \\\n",
       "0  0.093079  0.032104  0.069524  0.053799  0.089232  0.020576  0.195674   \n",
       "1  0.094063  0.027917  0.074106  0.045950  0.088189  0.022177  0.239667   \n",
       "2  0.079440  0.030794  0.057839  0.034091  0.071603  0.016388  0.389751   \n",
       "3  0.104375  0.038531  0.068460  0.035101  0.074283  0.016077  0.283385   \n",
       "4  0.107761  0.041098  0.076824  0.038589  0.085528  0.015696  0.251406   \n",
       "\n",
       "         14    GDP       FER  NEXT_YR_FER  \n",
       "0  0.014940  197.1  1.704542     1.892542  \n",
       "1  0.016304  203.3  1.892542     1.975675  \n",
       "2  0.019181  225.4  1.975675     2.320042  \n",
       "3  0.019803  250.7  2.320042     2.936658  \n",
       "4  0.017794  294.5  2.936658     3.452792  "
      ]
     },
     "execution_count": 11,
     "metadata": {},
     "output_type": "execute_result"
    }
   ],
   "source": [
    "data = pd.concat([df,data],axis=1)\n",
    "data.head()"
   ]
  },
  {
   "cell_type": "code",
   "execution_count": 12,
   "metadata": {},
   "outputs": [],
   "source": [
    "data = data.dropna()"
   ]
  },
  {
   "cell_type": "code",
   "execution_count": 13,
   "metadata": {},
   "outputs": [
    {
     "data": {
      "text/plain": [
       "(38, 18)"
      ]
     },
     "execution_count": 13,
     "metadata": {},
     "output_type": "execute_result"
    }
   ],
   "source": [
    "data.shape"
   ]
  },
  {
   "cell_type": "code",
   "execution_count": 14,
   "metadata": {},
   "outputs": [],
   "source": [
    "X = data.iloc[:,:-1]\n",
    "y = data.iloc[:,-1]"
   ]
  },
  {
   "cell_type": "code",
   "execution_count": 15,
   "metadata": {},
   "outputs": [],
   "source": [
    "from sklearn.model_selection import train_test_split\n",
    "from sklearn.preprocessing import StandardScaler, MinMaxScaler"
   ]
  },
  {
   "cell_type": "code",
   "execution_count": 16,
   "metadata": {},
   "outputs": [],
   "source": [
    "minmax = MinMaxScaler()\n",
    "scaler = StandardScaler()"
   ]
  },
  {
   "cell_type": "code",
   "execution_count": 17,
   "metadata": {},
   "outputs": [],
   "source": [
    "X_s = scaler.fit_transform(X) # standard scaled data\n",
    "X_m = minmax.fit_transform(X) # minmax scaled data"
   ]
  },
  {
   "cell_type": "code",
   "execution_count": 18,
   "metadata": {},
   "outputs": [],
   "source": [
    "X_train, X_test, y_train, y_test = train_test_split(X, y, test_size=0.2, random_state=None)\n",
    "X_train_s, X_test_s, y_train, y_test = train_test_split(X_s, y, test_size=0.2, random_state=None)\n",
    "X_train_m, X_test_m, y_train, y_test = train_test_split(X_m, y, test_size=0.2, random_state=None)"
   ]
  },
  {
   "cell_type": "code",
   "execution_count": 19,
   "metadata": {},
   "outputs": [
    {
     "data": {
      "text/plain": [
       "-6.532580187394238"
      ]
     },
     "execution_count": 19,
     "metadata": {},
     "output_type": "execute_result"
    }
   ],
   "source": [
    "# Change model here\n",
    "\n",
    "from sklearn.model_selection import cross_val_score\n",
    "score = cross_val_score(AdaBoostRegressor(learning_rate=0.1, loss=\"square\", n_estimators=100), X_train, y_train, cv=5, scoring='neg_mean_squared_error')\n",
    "score.mean()"
   ]
  },
  {
   "cell_type": "code",
   "execution_count": 20,
   "metadata": {},
   "outputs": [
    {
     "data": {
      "text/plain": [
       "-1.0106705370299458"
      ]
     },
     "execution_count": 20,
     "metadata": {},
     "output_type": "execute_result"
    }
   ],
   "source": [
    "# Change model here\n",
    "\n",
    "score = cross_val_score(AdaBoostRegressor(learning_rate=0.1, loss=\"square\", n_estimators=100), X_train_m, y_train, cv=5, scoring='neg_mean_squared_error')\n",
    "score.mean()"
   ]
  },
  {
   "cell_type": "code",
   "execution_count": 21,
   "metadata": {},
   "outputs": [
    {
     "data": {
      "text/plain": [
       "-6.463058563346325"
      ]
     },
     "execution_count": 21,
     "metadata": {},
     "output_type": "execute_result"
    }
   ],
   "source": [
    "# Change model here\n",
    "\n",
    "score = cross_val_score(AdaBoostRegressor(learning_rate=0.1, loss=\"square\", n_estimators=100), X_train_s, y_train, cv=5, scoring='neg_mean_squared_error')\n",
    "score.mean()"
   ]
  },
  {
   "cell_type": "code",
   "execution_count": 29,
   "metadata": {},
   "outputs": [],
   "source": [
    "def plot_feature_imp(model):\n",
    "    importance = model.feature_importances_\n",
    "    feat_imp = {}\n",
    "    cols = data.columns[:-1]\n",
    "    for i in range(len(cols)):\n",
    "        feat_imp[cols[i]] = importance[i]\n",
    "    plt.bar(list(feat_imp.keys()), list(feat_imp.values()))\n",
    "    plt.show()"
   ]
  },
  {
   "cell_type": "code",
   "execution_count": 22,
   "metadata": {},
   "outputs": [
    {
     "name": "stdout",
     "output_type": "stream",
     "text": [
      "MSE : 7.388603357886111\n",
      "R2 : -3.7909210462316283\n",
      "Error :  -0.11750567443990606\n"
     ]
    }
   ],
   "source": [
    "# Original \n",
    "model_orig = AdaBoostRegressor(learning_rate=0.1, loss=\"square\", n_estimators=100) # change model here\n",
    "model_orig.fit(X_train, y_train)\n",
    "pred = model_orig.predict(X_test)\n",
    "print('MSE :',mean_squared_error(pred, y_test))\n",
    "print('R2 :',r2_score(pred,y_test))\n",
    "print('Error : ',((y_test-pred)/y_test).mean())"
   ]
  },
  {
   "cell_type": "code",
   "execution_count": 24,
   "metadata": {},
   "outputs": [
    {
     "data": {
      "text/plain": [
       "array([0.19586643, 0.05599805, 0.14576568, 0.06345981, 0.04784985,\n",
       "       0.02306027, 0.0356244 , 0.06343461, 0.04868787, 0.10001577,\n",
       "       0.03568392, 0.04336435, 0.0375642 , 0.00954621, 0.05119068,\n",
       "       0.03002513, 0.01286276])"
      ]
     },
     "execution_count": 24,
     "metadata": {},
     "output_type": "execute_result"
    }
   ],
   "source": [
    "importance = model_orig.feature_importances_\n",
    "for i in range(len(importance)):\n",
    "    if importance[i]<0:\n",
    "        importance[i] = -importance[i]\n",
    "importance"
   ]
  },
  {
   "cell_type": "code",
   "execution_count": 25,
   "metadata": {},
   "outputs": [
    {
     "data": {
      "text/plain": [
       "{'0': 0.1958664317694829,\n",
       " '1': 0.055998049852152045,\n",
       " '2': 0.14576568376115176,\n",
       " '3': 0.0634598109258272,\n",
       " '4': 0.047849849943448194,\n",
       " '5': 0.023060268994411923,\n",
       " '6': 0.03562440399527053,\n",
       " '7': 0.06343461038069104,\n",
       " '8': 0.04868786935550761,\n",
       " '9': 0.10001577302032938,\n",
       " '10': 0.03568391732042765,\n",
       " '11': 0.04336434608345739,\n",
       " '12': 0.03756420486268592,\n",
       " '13': 0.009546213489481339,\n",
       " '14': 0.05119067699708258,\n",
       " 'GDP': 0.030025134137633542,\n",
       " 'FER': 0.012862755110959283}"
      ]
     },
     "execution_count": 25,
     "metadata": {},
     "output_type": "execute_result"
    }
   ],
   "source": [
    "feat_imp = {}\n",
    "cols = data.columns[:-1]\n",
    "for i in range(len(cols)):\n",
    "    feat_imp[cols[i]] = importance[i]\n",
    "feat_imp"
   ]
  },
  {
   "cell_type": "code",
   "execution_count": 26,
   "metadata": {},
   "outputs": [
    {
     "data": {
      "text/plain": [
       "<BarContainer object of 17 artists>"
      ]
     },
     "execution_count": 26,
     "metadata": {},
     "output_type": "execute_result"
    },
    {
     "data": {
      "image/png": "[encoded data removed]",
      "text/plain": [
       "<Figure size 432x288 with 1 Axes>"
      ]
     },
     "metadata": {
      "needs_background": "light"
     },
     "output_type": "display_data"
    }
   ],
   "source": [
    "plt.bar(list(feat_imp.keys()), list(feat_imp.values()))"
   ]
  },
  {
   "cell_type": "code",
   "execution_count": 28,
   "metadata": {},
   "outputs": [
    {
     "data": {
      "image/png": "[encoded data removed]",
      "text/plain": [
       "<Figure size 432x288 with 1 Axes>"
      ]
     },
     "metadata": {
      "needs_background": "light"
     },
     "output_type": "display_data"
    }
   ],
   "source": [
    "plot_feature_imp(model_orig)"
   ]
  },
  {
   "cell_type": "code",
   "execution_count": 69,
   "metadata": {},
   "outputs": [
    {
     "data": {
      "text/plain": [
       "9    -1.809280\n",
       "36   -0.991575\n",
       "15    2.685646\n",
       "20    0.512644\n",
       "22    1.387608\n",
       "18    1.674205\n",
       "30    0.103589\n",
       "7    -2.880737\n",
       "Name: NEXT_YR_FER, dtype: float64"
      ]
     },
     "execution_count": 69,
     "metadata": {},
     "output_type": "execute_result"
    }
   ],
   "source": [
    "(y_test-pred) # check the variations"
   ]
  },
  {
   "cell_type": "code",
   "execution_count": 70,
   "metadata": {},
   "outputs": [
    {
     "name": "stdout",
     "output_type": "stream",
     "text": [
      "MSE : 0.09994640079564146\n",
      "R2 : 0.9589578254972105\n",
      "Error :  -0.011023561366494971\n"
     ]
    }
   ],
   "source": [
    "# MinMax Scaled \n",
    "model_minmax = AdaBoostRegressor(learning_rate=0.1, loss=\"square\", n_estimators=100) # Change model here\n",
    "model_minmax.fit(X_train_m, y_train)\n",
    "pred = model_minmax.predict(X_test_m)\n",
    "print('MSE :',mean_squared_error(pred, y_test))\n",
    "print('R2 :',r2_score(pred,y_test))\n",
    "print('Error : ',((y_test-pred)/y_test).mean())"
   ]
  },
  {
   "cell_type": "code",
   "execution_count": 71,
   "metadata": {},
   "outputs": [
    {
     "data": {
      "text/plain": [
       "9    -0.854420\n",
       "36   -0.043615\n",
       "15    0.033452\n",
       "20    0.032214\n",
       "22    0.057318\n",
       "18    0.033760\n",
       "30   -0.032142\n",
       "7     0.244989\n",
       "Name: NEXT_YR_FER, dtype: float64"
      ]
     },
     "execution_count": 71,
     "metadata": {},
     "output_type": "execute_result"
    }
   ],
   "source": [
    "(y_test-pred) # check the variation"
   ]
  },
  {
   "cell_type": "code",
   "execution_count": 72,
   "metadata": {},
   "outputs": [
    {
     "name": "stdout",
     "output_type": "stream",
     "text": [
      "MSE : 1.752108700300331\n",
      "R2 : -4.373964913941851\n",
      "Error :  -0.09192745118885819\n"
     ]
    }
   ],
   "source": [
    "# Standard Scaled \n",
    "model_stand = AdaBoostRegressor(learning_rate=0.1, loss=\"square\", n_estimators=100) # Change model here\n",
    "model_stand.fit(X_train_s, y_train)\n",
    "pred = model_stand.predict(X_test_s)\n",
    "print('MSE :',mean_squared_error(pred, y_test))\n",
    "print('R2 :',r2_score(pred,y_test))\n",
    "print('Error : ',((y_test-pred)/y_test).mean())"
   ]
  },
  {
   "cell_type": "code",
   "execution_count": 73,
   "metadata": {},
   "outputs": [
    {
     "data": {
      "text/plain": [
       "9    -1.436018\n",
       "36   -0.028521\n",
       "15    0.682285\n",
       "20    1.632480\n",
       "22    0.247446\n",
       "18    0.434133\n",
       "30   -0.316126\n",
       "7    -2.910974\n",
       "Name: NEXT_YR_FER, dtype: float64"
      ]
     },
     "execution_count": 73,
     "metadata": {},
     "output_type": "execute_result"
    }
   ],
   "source": [
    "(y_test-pred) # check the variations"
   ]
  },
  {
   "cell_type": "code",
   "execution_count": 75,
   "metadata": {},
   "outputs": [],
   "source": [
    "# Save the best perform ming model only after instructions\n",
    "\n",
    "# pkl.dump(model_minmax, open('model_china.pkl','wb'))"
   ]
  },
  {
   "cell_type": "code",
   "execution_count": 76,
   "metadata": {},
   "outputs": [],
   "source": [
    "# dont uncomment until said to\n",
    "# if we use scaling\n",
    "# pkl.dump(minmax, open('scaler_china.pkl','wb'))"
   ]
  },
  {
   "cell_type": "code",
   "execution_count": null,
   "metadata": {},
   "outputs": [],
   "source": []
  }
 ],
 "metadata": {
  "kernelspec": {
   "display_name": "Python 3",
   "language": "python",
   "name": "python3"
  },
  "language_info": {
   "codemirror_mode": {
    "name": "ipython",
    "version": 3
   },
   "file_extension": ".py",
   "mimetype": "text/x-python",
   "name": "python",
   "nbconvert_exporter": "python",
   "pygments_lexer": "ipython3",
   "version": "3.8.3"
  }
 },
 "nbformat": 4,
 "nbformat_minor": 4
}

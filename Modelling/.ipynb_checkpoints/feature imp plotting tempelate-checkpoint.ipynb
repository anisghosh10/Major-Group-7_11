{
 "cells": [
  {
   "cell_type": "code",
   "execution_count": 1,
   "metadata": {},
   "outputs": [],
   "source": [
    "import numpy as np\n",
    "import pandas as pd\n",
    "import matplotlib.pyplot as plt\n",
    "import seaborn as sns\n",
    "from sklearn.metrics import r2_score, mean_squared_error\n",
    "from sklearn.linear_model import RidgeCV, LassoLarsCV\n",
    "from sklearn.ensemble import AdaBoostRegressor\n",
    "from sklearn.svm import LinearSVR\n",
    "import matplotlib.pyplot as plt\n",
    "import random\n",
    "import pickle as pkl"
   ]
  },
  {
   "cell_type": "code",
   "execution_count": 2,
   "metadata": {},
   "outputs": [],
   "source": [
    "random.seed(24)"
   ]
  },
  {
   "cell_type": "code",
   "execution_count": 3,
   "metadata": {},
   "outputs": [],
   "source": [
    "# MODELS\n",
    "models = {\n",
    "'uk' : LassoLarsCV(normalize=False),\n",
    "'japan' : LassoLarsCV(normalize=False),\n",
    "'india' : LinearSVR(C=25.0, dual=False, epsilon=0.0001, loss=\"squared_epsilon_insensitive\", tol=1e-05),\n",
    "'china' : AdaBoostRegressor(learning_rate=0.1, loss=\"square\", n_estimators=100),\n",
    "'canada' : RidgeCV(),\n",
    "'switzerland' : AdaBoostRegressor(learning_rate=0.001, loss=\"linear\", n_estimators=100)\n",
    "}"
   ]
  },
  {
   "cell_type": "code",
   "execution_count": 4,
   "metadata": {},
   "outputs": [],
   "source": [
    "# ONLY CHANGE COUNTRY NAME HERE\n",
    "\n",
    "country = 'japan' "
   ]
  },
  {
   "cell_type": "code",
   "execution_count": 5,
   "metadata": {},
   "outputs": [],
   "source": [
    "\n",
    "def plot_feature_imp(model):\n",
    "    if country in ['china','switzerland']:\n",
    "        importance = model.feature_importances_ # for tree based models\n",
    "    else:\n",
    "        importance = model.coef_ # for linear models\n",
    "    feat_imp = {}\n",
    "    cols = data.columns[:-1]\n",
    "    for i in range(len(cols)):\n",
    "        feat_imp[cols[i]] = importance[i]\n",
    "    plt.figure(figsize=(10,6))\n",
    "    plt.bar(list(feat_imp.keys()), list(feat_imp.values()))\n",
    "    plt.show()"
   ]
  },
  {
   "cell_type": "code",
   "execution_count": 6,
   "metadata": {},
   "outputs": [
    {
     "data": {
      "text/html": [
       "<div>\n",
       "<style scoped>\n",
       "    .dataframe tbody tr th:only-of-type {\n",
       "        vertical-align: middle;\n",
       "    }\n",
       "\n",
       "    .dataframe tbody tr th {\n",
       "        vertical-align: top;\n",
       "    }\n",
       "\n",
       "    .dataframe thead th {\n",
       "        text-align: right;\n",
       "    }\n",
       "</style>\n",
       "<table border=\"1\" class=\"dataframe\">\n",
       "  <thead>\n",
       "    <tr style=\"text-align: right;\">\n",
       "      <th></th>\n",
       "      <th>GDP</th>\n",
       "      <th>FER</th>\n",
       "    </tr>\n",
       "  </thead>\n",
       "  <tbody>\n",
       "    <tr>\n",
       "      <th>0</th>\n",
       "      <td>10361.3</td>\n",
       "      <td>220.535833</td>\n",
       "    </tr>\n",
       "    <tr>\n",
       "      <th>1</th>\n",
       "      <td>9578.1</td>\n",
       "      <td>249.076667</td>\n",
       "    </tr>\n",
       "    <tr>\n",
       "      <th>2</th>\n",
       "      <td>10425.4</td>\n",
       "      <td>237.511667</td>\n",
       "    </tr>\n",
       "    <tr>\n",
       "      <th>3</th>\n",
       "      <td>10984.9</td>\n",
       "      <td>237.522500</td>\n",
       "    </tr>\n",
       "    <tr>\n",
       "      <th>4</th>\n",
       "      <td>11584.6</td>\n",
       "      <td>238.535833</td>\n",
       "    </tr>\n",
       "  </tbody>\n",
       "</table>\n",
       "</div>"
      ],
      "text/plain": [
       "       GDP         FER\n",
       "0  10361.3  220.535833\n",
       "1   9578.1  249.076667\n",
       "2  10425.4  237.511667\n",
       "3  10984.9  237.522500\n",
       "4  11584.6  238.535833"
      ]
     },
     "execution_count": 6,
     "metadata": {},
     "output_type": "execute_result"
    }
   ],
   "source": [
    "eco_fac = pd.read_csv(f'eco_{country}.csv')\n",
    "eco_fac.head()"
   ]
  },
  {
   "cell_type": "code",
   "execution_count": 7,
   "metadata": {},
   "outputs": [
    {
     "data": {
      "text/html": [
       "<div>\n",
       "<style scoped>\n",
       "    .dataframe tbody tr th:only-of-type {\n",
       "        vertical-align: middle;\n",
       "    }\n",
       "\n",
       "    .dataframe tbody tr th {\n",
       "        vertical-align: top;\n",
       "    }\n",
       "\n",
       "    .dataframe thead th {\n",
       "        text-align: right;\n",
       "    }\n",
       "</style>\n",
       "<table border=\"1\" class=\"dataframe\">\n",
       "  <thead>\n",
       "    <tr style=\"text-align: right;\">\n",
       "      <th></th>\n",
       "      <th>0</th>\n",
       "      <th>1</th>\n",
       "      <th>2</th>\n",
       "      <th>3</th>\n",
       "      <th>4</th>\n",
       "      <th>5</th>\n",
       "      <th>6</th>\n",
       "      <th>7</th>\n",
       "      <th>8</th>\n",
       "      <th>9</th>\n",
       "      <th>10</th>\n",
       "      <th>11</th>\n",
       "      <th>12</th>\n",
       "      <th>13</th>\n",
       "      <th>14</th>\n",
       "    </tr>\n",
       "  </thead>\n",
       "  <tbody>\n",
       "    <tr>\n",
       "      <th>0</th>\n",
       "      <td>0.025855</td>\n",
       "      <td>0.125928</td>\n",
       "      <td>0.054118</td>\n",
       "      <td>0.067509</td>\n",
       "      <td>0.037793</td>\n",
       "      <td>0.062103</td>\n",
       "      <td>0.057768</td>\n",
       "      <td>0.093079</td>\n",
       "      <td>0.032104</td>\n",
       "      <td>0.069524</td>\n",
       "      <td>0.053799</td>\n",
       "      <td>0.089232</td>\n",
       "      <td>0.020576</td>\n",
       "      <td>0.195674</td>\n",
       "      <td>0.014940</td>\n",
       "    </tr>\n",
       "    <tr>\n",
       "      <th>1</th>\n",
       "      <td>0.024390</td>\n",
       "      <td>0.107464</td>\n",
       "      <td>0.049101</td>\n",
       "      <td>0.059169</td>\n",
       "      <td>0.034891</td>\n",
       "      <td>0.060548</td>\n",
       "      <td>0.056063</td>\n",
       "      <td>0.094063</td>\n",
       "      <td>0.027917</td>\n",
       "      <td>0.074106</td>\n",
       "      <td>0.045950</td>\n",
       "      <td>0.088189</td>\n",
       "      <td>0.022177</td>\n",
       "      <td>0.239667</td>\n",
       "      <td>0.016304</td>\n",
       "    </tr>\n",
       "    <tr>\n",
       "      <th>2</th>\n",
       "      <td>0.025450</td>\n",
       "      <td>0.076065</td>\n",
       "      <td>0.035598</td>\n",
       "      <td>0.047638</td>\n",
       "      <td>0.028261</td>\n",
       "      <td>0.041214</td>\n",
       "      <td>0.046687</td>\n",
       "      <td>0.079440</td>\n",
       "      <td>0.030794</td>\n",
       "      <td>0.057839</td>\n",
       "      <td>0.034091</td>\n",
       "      <td>0.071603</td>\n",
       "      <td>0.016388</td>\n",
       "      <td>0.389751</td>\n",
       "      <td>0.019181</td>\n",
       "    </tr>\n",
       "    <tr>\n",
       "      <th>3</th>\n",
       "      <td>0.026685</td>\n",
       "      <td>0.087435</td>\n",
       "      <td>0.042064</td>\n",
       "      <td>0.061242</td>\n",
       "      <td>0.031366</td>\n",
       "      <td>0.051220</td>\n",
       "      <td>0.059974</td>\n",
       "      <td>0.104375</td>\n",
       "      <td>0.038531</td>\n",
       "      <td>0.068460</td>\n",
       "      <td>0.035101</td>\n",
       "      <td>0.074283</td>\n",
       "      <td>0.016077</td>\n",
       "      <td>0.283385</td>\n",
       "      <td>0.019803</td>\n",
       "    </tr>\n",
       "    <tr>\n",
       "      <th>4</th>\n",
       "      <td>0.028514</td>\n",
       "      <td>0.077057</td>\n",
       "      <td>0.046638</td>\n",
       "      <td>0.060663</td>\n",
       "      <td>0.031233</td>\n",
       "      <td>0.060692</td>\n",
       "      <td>0.060507</td>\n",
       "      <td>0.107761</td>\n",
       "      <td>0.041098</td>\n",
       "      <td>0.076824</td>\n",
       "      <td>0.038589</td>\n",
       "      <td>0.085528</td>\n",
       "      <td>0.015696</td>\n",
       "      <td>0.251406</td>\n",
       "      <td>0.017794</td>\n",
       "    </tr>\n",
       "  </tbody>\n",
       "</table>\n",
       "</div>"
      ],
      "text/plain": [
       "          0         1         2         3         4         5         6  \\\n",
       "0  0.025855  0.125928  0.054118  0.067509  0.037793  0.062103  0.057768   \n",
       "1  0.024390  0.107464  0.049101  0.059169  0.034891  0.060548  0.056063   \n",
       "2  0.025450  0.076065  0.035598  0.047638  0.028261  0.041214  0.046687   \n",
       "3  0.026685  0.087435  0.042064  0.061242  0.031366  0.051220  0.059974   \n",
       "4  0.028514  0.077057  0.046638  0.060663  0.031233  0.060692  0.060507   \n",
       "\n",
       "          7         8         9        10        11        12        13  \\\n",
       "0  0.093079  0.032104  0.069524  0.053799  0.089232  0.020576  0.195674   \n",
       "1  0.094063  0.027917  0.074106  0.045950  0.088189  0.022177  0.239667   \n",
       "2  0.079440  0.030794  0.057839  0.034091  0.071603  0.016388  0.389751   \n",
       "3  0.104375  0.038531  0.068460  0.035101  0.074283  0.016077  0.283385   \n",
       "4  0.107761  0.041098  0.076824  0.038589  0.085528  0.015696  0.251406   \n",
       "\n",
       "         14  \n",
       "0  0.014940  \n",
       "1  0.016304  \n",
       "2  0.019181  \n",
       "3  0.019803  \n",
       "4  0.017794  "
      ]
     },
     "execution_count": 7,
     "metadata": {},
     "output_type": "execute_result"
    }
   ],
   "source": [
    "df = pd.read_csv('weights_15.csv')\n",
    "df.head()"
   ]
  },
  {
   "cell_type": "code",
   "execution_count": 8,
   "metadata": {},
   "outputs": [
    {
     "data": {
      "text/plain": [
       "0     0\n",
       "1     0\n",
       "2     0\n",
       "3     0\n",
       "4     0\n",
       "5     0\n",
       "6     0\n",
       "7     0\n",
       "8     0\n",
       "9     0\n",
       "10    0\n",
       "11    0\n",
       "12    0\n",
       "13    0\n",
       "14    0\n",
       "dtype: int64"
      ]
     },
     "execution_count": 8,
     "metadata": {},
     "output_type": "execute_result"
    }
   ],
   "source": [
    "df.isna().sum()"
   ]
  },
  {
   "cell_type": "code",
   "execution_count": 9,
   "metadata": {},
   "outputs": [],
   "source": [
    "new_fer = eco_fac.FER.shift(-1)\n",
    "new_fer = pd.DataFrame(new_fer)\n",
    "new_fer.rename(columns = {'FER':'NEXT_YR_FER'}, inplace=True)"
   ]
  },
  {
   "cell_type": "code",
   "execution_count": 10,
   "metadata": {},
   "outputs": [
    {
     "data": {
      "text/html": [
       "<div>\n",
       "<style scoped>\n",
       "    .dataframe tbody tr th:only-of-type {\n",
       "        vertical-align: middle;\n",
       "    }\n",
       "\n",
       "    .dataframe tbody tr th {\n",
       "        vertical-align: top;\n",
       "    }\n",
       "\n",
       "    .dataframe thead th {\n",
       "        text-align: right;\n",
       "    }\n",
       "</style>\n",
       "<table border=\"1\" class=\"dataframe\">\n",
       "  <thead>\n",
       "    <tr style=\"text-align: right;\">\n",
       "      <th></th>\n",
       "      <th>GDP</th>\n",
       "      <th>FER</th>\n",
       "      <th>NEXT_YR_FER</th>\n",
       "    </tr>\n",
       "  </thead>\n",
       "  <tbody>\n",
       "    <tr>\n",
       "      <th>0</th>\n",
       "      <td>10361.3</td>\n",
       "      <td>220.535833</td>\n",
       "      <td>249.076667</td>\n",
       "    </tr>\n",
       "    <tr>\n",
       "      <th>1</th>\n",
       "      <td>9578.1</td>\n",
       "      <td>249.076667</td>\n",
       "      <td>237.511667</td>\n",
       "    </tr>\n",
       "    <tr>\n",
       "      <th>2</th>\n",
       "      <td>10425.4</td>\n",
       "      <td>237.511667</td>\n",
       "      <td>237.522500</td>\n",
       "    </tr>\n",
       "    <tr>\n",
       "      <th>3</th>\n",
       "      <td>10984.9</td>\n",
       "      <td>237.522500</td>\n",
       "      <td>238.535833</td>\n",
       "    </tr>\n",
       "    <tr>\n",
       "      <th>4</th>\n",
       "      <td>11584.6</td>\n",
       "      <td>238.535833</td>\n",
       "      <td>168.519833</td>\n",
       "    </tr>\n",
       "  </tbody>\n",
       "</table>\n",
       "</div>"
      ],
      "text/plain": [
       "       GDP         FER  NEXT_YR_FER\n",
       "0  10361.3  220.535833   249.076667\n",
       "1   9578.1  249.076667   237.511667\n",
       "2  10425.4  237.511667   237.522500\n",
       "3  10984.9  237.522500   238.535833\n",
       "4  11584.6  238.535833   168.519833"
      ]
     },
     "execution_count": 10,
     "metadata": {},
     "output_type": "execute_result"
    }
   ],
   "source": [
    "data = pd.concat([eco_fac,new_fer],axis=1)\n",
    "data.head()"
   ]
  },
  {
   "cell_type": "code",
   "execution_count": 11,
   "metadata": {},
   "outputs": [
    {
     "data": {
      "text/html": [
       "<div>\n",
       "<style scoped>\n",
       "    .dataframe tbody tr th:only-of-type {\n",
       "        vertical-align: middle;\n",
       "    }\n",
       "\n",
       "    .dataframe tbody tr th {\n",
       "        vertical-align: top;\n",
       "    }\n",
       "\n",
       "    .dataframe thead th {\n",
       "        text-align: right;\n",
       "    }\n",
       "</style>\n",
       "<table border=\"1\" class=\"dataframe\">\n",
       "  <thead>\n",
       "    <tr style=\"text-align: right;\">\n",
       "      <th></th>\n",
       "      <th>0</th>\n",
       "      <th>1</th>\n",
       "      <th>2</th>\n",
       "      <th>3</th>\n",
       "      <th>4</th>\n",
       "      <th>5</th>\n",
       "      <th>6</th>\n",
       "      <th>7</th>\n",
       "      <th>8</th>\n",
       "      <th>9</th>\n",
       "      <th>10</th>\n",
       "      <th>11</th>\n",
       "      <th>12</th>\n",
       "      <th>13</th>\n",
       "      <th>14</th>\n",
       "      <th>GDP</th>\n",
       "      <th>FER</th>\n",
       "      <th>NEXT_YR_FER</th>\n",
       "    </tr>\n",
       "  </thead>\n",
       "  <tbody>\n",
       "    <tr>\n",
       "      <th>0</th>\n",
       "      <td>0.025855</td>\n",
       "      <td>0.125928</td>\n",
       "      <td>0.054118</td>\n",
       "      <td>0.067509</td>\n",
       "      <td>0.037793</td>\n",
       "      <td>0.062103</td>\n",
       "      <td>0.057768</td>\n",
       "      <td>0.093079</td>\n",
       "      <td>0.032104</td>\n",
       "      <td>0.069524</td>\n",
       "      <td>0.053799</td>\n",
       "      <td>0.089232</td>\n",
       "      <td>0.020576</td>\n",
       "      <td>0.195674</td>\n",
       "      <td>0.014940</td>\n",
       "      <td>10361.3</td>\n",
       "      <td>220.535833</td>\n",
       "      <td>249.076667</td>\n",
       "    </tr>\n",
       "    <tr>\n",
       "      <th>1</th>\n",
       "      <td>0.024390</td>\n",
       "      <td>0.107464</td>\n",
       "      <td>0.049101</td>\n",
       "      <td>0.059169</td>\n",
       "      <td>0.034891</td>\n",
       "      <td>0.060548</td>\n",
       "      <td>0.056063</td>\n",
       "      <td>0.094063</td>\n",
       "      <td>0.027917</td>\n",
       "      <td>0.074106</td>\n",
       "      <td>0.045950</td>\n",
       "      <td>0.088189</td>\n",
       "      <td>0.022177</td>\n",
       "      <td>0.239667</td>\n",
       "      <td>0.016304</td>\n",
       "      <td>9578.1</td>\n",
       "      <td>249.076667</td>\n",
       "      <td>237.511667</td>\n",
       "    </tr>\n",
       "    <tr>\n",
       "      <th>2</th>\n",
       "      <td>0.025450</td>\n",
       "      <td>0.076065</td>\n",
       "      <td>0.035598</td>\n",
       "      <td>0.047638</td>\n",
       "      <td>0.028261</td>\n",
       "      <td>0.041214</td>\n",
       "      <td>0.046687</td>\n",
       "      <td>0.079440</td>\n",
       "      <td>0.030794</td>\n",
       "      <td>0.057839</td>\n",
       "      <td>0.034091</td>\n",
       "      <td>0.071603</td>\n",
       "      <td>0.016388</td>\n",
       "      <td>0.389751</td>\n",
       "      <td>0.019181</td>\n",
       "      <td>10425.4</td>\n",
       "      <td>237.511667</td>\n",
       "      <td>237.522500</td>\n",
       "    </tr>\n",
       "    <tr>\n",
       "      <th>3</th>\n",
       "      <td>0.026685</td>\n",
       "      <td>0.087435</td>\n",
       "      <td>0.042064</td>\n",
       "      <td>0.061242</td>\n",
       "      <td>0.031366</td>\n",
       "      <td>0.051220</td>\n",
       "      <td>0.059974</td>\n",
       "      <td>0.104375</td>\n",
       "      <td>0.038531</td>\n",
       "      <td>0.068460</td>\n",
       "      <td>0.035101</td>\n",
       "      <td>0.074283</td>\n",
       "      <td>0.016077</td>\n",
       "      <td>0.283385</td>\n",
       "      <td>0.019803</td>\n",
       "      <td>10984.9</td>\n",
       "      <td>237.522500</td>\n",
       "      <td>238.535833</td>\n",
       "    </tr>\n",
       "    <tr>\n",
       "      <th>4</th>\n",
       "      <td>0.028514</td>\n",
       "      <td>0.077057</td>\n",
       "      <td>0.046638</td>\n",
       "      <td>0.060663</td>\n",
       "      <td>0.031233</td>\n",
       "      <td>0.060692</td>\n",
       "      <td>0.060507</td>\n",
       "      <td>0.107761</td>\n",
       "      <td>0.041098</td>\n",
       "      <td>0.076824</td>\n",
       "      <td>0.038589</td>\n",
       "      <td>0.085528</td>\n",
       "      <td>0.015696</td>\n",
       "      <td>0.251406</td>\n",
       "      <td>0.017794</td>\n",
       "      <td>11584.6</td>\n",
       "      <td>238.535833</td>\n",
       "      <td>168.519833</td>\n",
       "    </tr>\n",
       "  </tbody>\n",
       "</table>\n",
       "</div>"
      ],
      "text/plain": [
       "          0         1         2         3         4         5         6  \\\n",
       "0  0.025855  0.125928  0.054118  0.067509  0.037793  0.062103  0.057768   \n",
       "1  0.024390  0.107464  0.049101  0.059169  0.034891  0.060548  0.056063   \n",
       "2  0.025450  0.076065  0.035598  0.047638  0.028261  0.041214  0.046687   \n",
       "3  0.026685  0.087435  0.042064  0.061242  0.031366  0.051220  0.059974   \n",
       "4  0.028514  0.077057  0.046638  0.060663  0.031233  0.060692  0.060507   \n",
       "\n",
       "          7         8         9        10        11        12        13  \\\n",
       "0  0.093079  0.032104  0.069524  0.053799  0.089232  0.020576  0.195674   \n",
       "1  0.094063  0.027917  0.074106  0.045950  0.088189  0.022177  0.239667   \n",
       "2  0.079440  0.030794  0.057839  0.034091  0.071603  0.016388  0.389751   \n",
       "3  0.104375  0.038531  0.068460  0.035101  0.074283  0.016077  0.283385   \n",
       "4  0.107761  0.041098  0.076824  0.038589  0.085528  0.015696  0.251406   \n",
       "\n",
       "         14      GDP         FER  NEXT_YR_FER  \n",
       "0  0.014940  10361.3  220.535833   249.076667  \n",
       "1  0.016304   9578.1  249.076667   237.511667  \n",
       "2  0.019181  10425.4  237.511667   237.522500  \n",
       "3  0.019803  10984.9  237.522500   238.535833  \n",
       "4  0.017794  11584.6  238.535833   168.519833  "
      ]
     },
     "execution_count": 11,
     "metadata": {},
     "output_type": "execute_result"
    }
   ],
   "source": [
    "data = pd.concat([df,data],axis=1)\n",
    "data.head()"
   ]
  },
  {
   "cell_type": "code",
   "execution_count": 12,
   "metadata": {},
   "outputs": [],
   "source": [
    "data = data.dropna()"
   ]
  },
  {
   "cell_type": "code",
   "execution_count": 13,
   "metadata": {},
   "outputs": [
    {
     "data": {
      "text/plain": [
       "(38, 18)"
      ]
     },
     "execution_count": 13,
     "metadata": {},
     "output_type": "execute_result"
    }
   ],
   "source": [
    "data.shape"
   ]
  },
  {
   "cell_type": "code",
   "execution_count": 14,
   "metadata": {},
   "outputs": [],
   "source": [
    "X = data.iloc[:,:-1]\n",
    "y = data.iloc[:,-1]"
   ]
  },
  {
   "cell_type": "code",
   "execution_count": 15,
   "metadata": {},
   "outputs": [],
   "source": [
    "from sklearn.model_selection import train_test_split\n",
    "from sklearn.preprocessing import MinMaxScaler"
   ]
  },
  {
   "cell_type": "code",
   "execution_count": 16,
   "metadata": {},
   "outputs": [],
   "source": [
    "minmax = MinMaxScaler()"
   ]
  },
  {
   "cell_type": "code",
   "execution_count": 17,
   "metadata": {},
   "outputs": [],
   "source": [
    "X = minmax.fit_transform(X)"
   ]
  },
  {
   "cell_type": "code",
   "execution_count": 18,
   "metadata": {},
   "outputs": [],
   "source": [
    "X_train, X_test, y_train, y_test = train_test_split(X, y, test_size=0.2, random_state=None)"
   ]
  },
  {
   "cell_type": "code",
   "execution_count": 19,
   "metadata": {},
   "outputs": [
    {
     "name": "stdout",
     "output_type": "stream",
     "text": [
      "MSE : 680.7871729618344\n",
      "R2 : 0.7338879705647647\n",
      "Error :  -0.06185793970493756\n"
     ]
    }
   ],
   "source": [
    "model = models[country]\n",
    "model.fit(X_train, y_train)\n",
    "pred = model.predict(X_test)\n",
    "print('MSE :',mean_squared_error(pred, y_test))\n",
    "print('R2 :',r2_score(pred,y_test))\n",
    "print('Error : ',((y_test-pred)/y_test).mean())"
   ]
  },
  {
   "cell_type": "code",
   "execution_count": 20,
   "metadata": {},
   "outputs": [
    {
     "data": {
      "image/png": "[encoded data removed]",
      "text/plain": [
       "<Figure size 720x432 with 1 Axes>"
      ]
     },
     "metadata": {
      "needs_background": "light"
     },
     "output_type": "display_data"
    }
   ],
   "source": [
    "plot_feature_imp(model)"
   ]
  },
  {
   "cell_type": "code",
   "execution_count": 21,
   "metadata": {},
   "outputs": [
    {
     "data": {
      "text/plain": [
       "7    -10.593192\n",
       "10     8.988647\n",
       "20    -2.847568\n",
       "11    14.048128\n",
       "5     20.086482\n",
       "33   -19.678828\n",
       "1      8.818660\n",
       "4     64.647781\n",
       "Name: NEXT_YR_FER, dtype: float64"
      ]
     },
     "execution_count": 21,
     "metadata": {},
     "output_type": "execute_result"
    }
   ],
   "source": [
    "pred-y_test"
   ]
  },
  {
   "cell_type": "code",
   "execution_count": 22,
   "metadata": {},
   "outputs": [
    {
     "data": {
      "text/plain": [
       "7    -0.076782\n",
       "10    0.070972\n",
       "20   -0.022710\n",
       "11    0.126335\n",
       "5     0.138875\n",
       "33   -0.162576\n",
       "1     0.037129\n",
       "4     0.383621\n",
       "Name: NEXT_YR_FER, dtype: float64"
      ]
     },
     "execution_count": 22,
     "metadata": {},
     "output_type": "execute_result"
    }
   ],
   "source": [
    "(pred-y_test)/y_test"
   ]
  },
  {
   "cell_type": "code",
   "execution_count": 23,
   "metadata": {},
   "outputs": [
    {
     "data": {
      "text/plain": [
       "0.06185793970493756"
      ]
     },
     "execution_count": 23,
     "metadata": {},
     "output_type": "execute_result"
    }
   ],
   "source": [
    "((pred-y_test)/y_test).mean()"
   ]
  },
  {
   "cell_type": "code",
   "execution_count": null,
   "metadata": {},
   "outputs": [],
   "source": []
  }
 ],
 "metadata": {
  "kernelspec": {
   "display_name": "Python 3",
   "language": "python",
   "name": "python3"
  },
  "language_info": {
   "codemirror_mode": {
    "name": "ipython",
    "version": 3
   },
   "file_extension": ".py",
   "mimetype": "text/x-python",
   "name": "python",
   "nbconvert_exporter": "python",
   "pygments_lexer": "ipython3",
   "version": "3.8.5"
  }
 },
 "nbformat": 4,
 "nbformat_minor": 4
}

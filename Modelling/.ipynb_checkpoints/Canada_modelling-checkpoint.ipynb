{
 "cells": [
  {
   "cell_type": "code",
   "execution_count": 21,
   "metadata": {},
   "outputs": [],
   "source": [
    "import numpy as np\n",
    "import pandas as pd\n",
    "import matplotlib.pyplot as plt\n",
    "import seaborn as sns\n",
    "from sklearn.metrics import r2_score, mean_squared_error\n",
    "from sklearn.linear_model import RidgeCV\n",
    "import random\n",
    "import pickle as pkl"
   ]
  },
  {
   "cell_type": "code",
   "execution_count": 22,
   "metadata": {},
   "outputs": [],
   "source": [
    "random.seed(24)"
   ]
  },
  {
   "cell_type": "code",
   "execution_count": 23,
   "metadata": {},
   "outputs": [
    {
     "data": {
      "text/html": [
       "<div>\n",
       "<style scoped>\n",
       "    .dataframe tbody tr th:only-of-type {\n",
       "        vertical-align: middle;\n",
       "    }\n",
       "\n",
       "    .dataframe tbody tr th {\n",
       "        vertical-align: top;\n",
       "    }\n",
       "\n",
       "    .dataframe thead th {\n",
       "        text-align: right;\n",
       "    }\n",
       "</style>\n",
       "<table border=\"1\" class=\"dataframe\">\n",
       "  <thead>\n",
       "    <tr style=\"text-align: right;\">\n",
       "      <th></th>\n",
       "      <th></th>\n",
       "      <th>GDP_US</th>\n",
       "      <th>INFL_US</th>\n",
       "      <th>GDP</th>\n",
       "      <th>PPP</th>\n",
       "      <th>INFL</th>\n",
       "      <th>FER</th>\n",
       "    </tr>\n",
       "  </thead>\n",
       "  <tbody>\n",
       "    <tr>\n",
       "      <th>0</th>\n",
       "      <td>1981</td>\n",
       "      <td>13976.1</td>\n",
       "      <td>10.334710</td>\n",
       "      <td>12337.5</td>\n",
       "      <td>1.134384</td>\n",
       "      <td>12.471610</td>\n",
       "      <td>1.198903</td>\n",
       "    </tr>\n",
       "    <tr>\n",
       "      <th>1</th>\n",
       "      <td>1982</td>\n",
       "      <td>14433.8</td>\n",
       "      <td>6.131427</td>\n",
       "      <td>12481.9</td>\n",
       "      <td>1.162945</td>\n",
       "      <td>10.768970</td>\n",
       "      <td>1.233735</td>\n",
       "    </tr>\n",
       "    <tr>\n",
       "      <th>2</th>\n",
       "      <td>1983</td>\n",
       "      <td>15543.9</td>\n",
       "      <td>3.212435</td>\n",
       "      <td>13425.1</td>\n",
       "      <td>1.183843</td>\n",
       "      <td>5.863588</td>\n",
       "      <td>1.232412</td>\n",
       "    </tr>\n",
       "    <tr>\n",
       "      <th>3</th>\n",
       "      <td>1984</td>\n",
       "      <td>17121.2</td>\n",
       "      <td>4.300536</td>\n",
       "      <td>13877.9</td>\n",
       "      <td>1.183011</td>\n",
       "      <td>4.304778</td>\n",
       "      <td>1.295066</td>\n",
       "    </tr>\n",
       "    <tr>\n",
       "      <th>4</th>\n",
       "      <td>1985</td>\n",
       "      <td>18236.8</td>\n",
       "      <td>3.545644</td>\n",
       "      <td>14114.8</td>\n",
       "      <td>1.185028</td>\n",
       "      <td>3.962031</td>\n",
       "      <td>1.365507</td>\n",
       "    </tr>\n",
       "  </tbody>\n",
       "</table>\n",
       "</div>"
      ],
      "text/plain": [
       "          GDP_US    INFL_US      GDP       PPP       INFL       FER\n",
       "0  1981  13976.1  10.334710  12337.5  1.134384  12.471610  1.198903\n",
       "1  1982  14433.8   6.131427  12481.9  1.162945  10.768970  1.233735\n",
       "2  1983  15543.9   3.212435  13425.1  1.183843   5.863588  1.232412\n",
       "3  1984  17121.2   4.300536  13877.9  1.183011   4.304778  1.295066\n",
       "4  1985  18236.8   3.545644  14114.8  1.185028   3.962031  1.365507"
      ]
     },
     "execution_count": 23,
     "metadata": {},
     "output_type": "execute_result"
    }
   ],
   "source": [
    "eco_fac = pd.read_csv('eco_canada.csv')\n",
    "eco_fac.head()"
   ]
  },
  {
   "cell_type": "code",
   "execution_count": 24,
   "metadata": {},
   "outputs": [
    {
     "data": {
      "text/html": [
       "<div>\n",
       "<style scoped>\n",
       "    .dataframe tbody tr th:only-of-type {\n",
       "        vertical-align: middle;\n",
       "    }\n",
       "\n",
       "    .dataframe tbody tr th {\n",
       "        vertical-align: top;\n",
       "    }\n",
       "\n",
       "    .dataframe thead th {\n",
       "        text-align: right;\n",
       "    }\n",
       "</style>\n",
       "<table border=\"1\" class=\"dataframe\">\n",
       "  <thead>\n",
       "    <tr style=\"text-align: right;\">\n",
       "      <th></th>\n",
       "      <th>0</th>\n",
       "      <th>1</th>\n",
       "      <th>2</th>\n",
       "      <th>3</th>\n",
       "      <th>4</th>\n",
       "      <th>5</th>\n",
       "      <th>6</th>\n",
       "      <th>7</th>\n",
       "      <th>8</th>\n",
       "      <th>9</th>\n",
       "      <th>10</th>\n",
       "      <th>11</th>\n",
       "      <th>12</th>\n",
       "      <th>13</th>\n",
       "      <th>14</th>\n",
       "    </tr>\n",
       "  </thead>\n",
       "  <tbody>\n",
       "    <tr>\n",
       "      <th>0</th>\n",
       "      <td>0.025855</td>\n",
       "      <td>0.125928</td>\n",
       "      <td>0.054118</td>\n",
       "      <td>0.067509</td>\n",
       "      <td>0.037793</td>\n",
       "      <td>0.062103</td>\n",
       "      <td>0.057768</td>\n",
       "      <td>0.093079</td>\n",
       "      <td>0.032104</td>\n",
       "      <td>0.069524</td>\n",
       "      <td>0.053799</td>\n",
       "      <td>0.089232</td>\n",
       "      <td>0.020576</td>\n",
       "      <td>0.195674</td>\n",
       "      <td>0.014940</td>\n",
       "    </tr>\n",
       "    <tr>\n",
       "      <th>1</th>\n",
       "      <td>0.024390</td>\n",
       "      <td>0.107464</td>\n",
       "      <td>0.049101</td>\n",
       "      <td>0.059169</td>\n",
       "      <td>0.034891</td>\n",
       "      <td>0.060548</td>\n",
       "      <td>0.056063</td>\n",
       "      <td>0.094063</td>\n",
       "      <td>0.027917</td>\n",
       "      <td>0.074106</td>\n",
       "      <td>0.045950</td>\n",
       "      <td>0.088189</td>\n",
       "      <td>0.022177</td>\n",
       "      <td>0.239667</td>\n",
       "      <td>0.016304</td>\n",
       "    </tr>\n",
       "    <tr>\n",
       "      <th>2</th>\n",
       "      <td>0.025450</td>\n",
       "      <td>0.076065</td>\n",
       "      <td>0.035598</td>\n",
       "      <td>0.047638</td>\n",
       "      <td>0.028261</td>\n",
       "      <td>0.041214</td>\n",
       "      <td>0.046687</td>\n",
       "      <td>0.079440</td>\n",
       "      <td>0.030794</td>\n",
       "      <td>0.057839</td>\n",
       "      <td>0.034091</td>\n",
       "      <td>0.071603</td>\n",
       "      <td>0.016388</td>\n",
       "      <td>0.389751</td>\n",
       "      <td>0.019181</td>\n",
       "    </tr>\n",
       "    <tr>\n",
       "      <th>3</th>\n",
       "      <td>0.026685</td>\n",
       "      <td>0.087435</td>\n",
       "      <td>0.042064</td>\n",
       "      <td>0.061242</td>\n",
       "      <td>0.031366</td>\n",
       "      <td>0.051220</td>\n",
       "      <td>0.059974</td>\n",
       "      <td>0.104375</td>\n",
       "      <td>0.038531</td>\n",
       "      <td>0.068460</td>\n",
       "      <td>0.035101</td>\n",
       "      <td>0.074283</td>\n",
       "      <td>0.016077</td>\n",
       "      <td>0.283385</td>\n",
       "      <td>0.019803</td>\n",
       "    </tr>\n",
       "    <tr>\n",
       "      <th>4</th>\n",
       "      <td>0.028514</td>\n",
       "      <td>0.077057</td>\n",
       "      <td>0.046638</td>\n",
       "      <td>0.060663</td>\n",
       "      <td>0.031233</td>\n",
       "      <td>0.060692</td>\n",
       "      <td>0.060507</td>\n",
       "      <td>0.107761</td>\n",
       "      <td>0.041098</td>\n",
       "      <td>0.076824</td>\n",
       "      <td>0.038589</td>\n",
       "      <td>0.085528</td>\n",
       "      <td>0.015696</td>\n",
       "      <td>0.251406</td>\n",
       "      <td>0.017794</td>\n",
       "    </tr>\n",
       "  </tbody>\n",
       "</table>\n",
       "</div>"
      ],
      "text/plain": [
       "          0         1         2         3         4         5         6  \\\n",
       "0  0.025855  0.125928  0.054118  0.067509  0.037793  0.062103  0.057768   \n",
       "1  0.024390  0.107464  0.049101  0.059169  0.034891  0.060548  0.056063   \n",
       "2  0.025450  0.076065  0.035598  0.047638  0.028261  0.041214  0.046687   \n",
       "3  0.026685  0.087435  0.042064  0.061242  0.031366  0.051220  0.059974   \n",
       "4  0.028514  0.077057  0.046638  0.060663  0.031233  0.060692  0.060507   \n",
       "\n",
       "          7         8         9        10        11        12        13  \\\n",
       "0  0.093079  0.032104  0.069524  0.053799  0.089232  0.020576  0.195674   \n",
       "1  0.094063  0.027917  0.074106  0.045950  0.088189  0.022177  0.239667   \n",
       "2  0.079440  0.030794  0.057839  0.034091  0.071603  0.016388  0.389751   \n",
       "3  0.104375  0.038531  0.068460  0.035101  0.074283  0.016077  0.283385   \n",
       "4  0.107761  0.041098  0.076824  0.038589  0.085528  0.015696  0.251406   \n",
       "\n",
       "         14  \n",
       "0  0.014940  \n",
       "1  0.016304  \n",
       "2  0.019181  \n",
       "3  0.019803  \n",
       "4  0.017794  "
      ]
     },
     "execution_count": 24,
     "metadata": {},
     "output_type": "execute_result"
    }
   ],
   "source": [
    "df = pd.read_csv('weights_15.csv')\n",
    "df.head()"
   ]
  },
  {
   "cell_type": "code",
   "execution_count": 25,
   "metadata": {},
   "outputs": [
    {
     "data": {
      "text/plain": [
       "0     0\n",
       "1     0\n",
       "2     0\n",
       "3     0\n",
       "4     0\n",
       "5     0\n",
       "6     0\n",
       "7     0\n",
       "8     0\n",
       "9     0\n",
       "10    0\n",
       "11    0\n",
       "12    0\n",
       "13    0\n",
       "14    0\n",
       "dtype: int64"
      ]
     },
     "execution_count": 25,
     "metadata": {},
     "output_type": "execute_result"
    }
   ],
   "source": [
    "df.isna().sum()"
   ]
  },
  {
   "cell_type": "code",
   "execution_count": 26,
   "metadata": {},
   "outputs": [],
   "source": [
    "new_fer = eco_fac.FER.shift(-1)\n",
    "new_fer = pd.DataFrame(new_fer)\n",
    "new_fer.rename(columns = {'FER':'NEXT_YR_FER'}, inplace=True)"
   ]
  },
  {
   "cell_type": "code",
   "execution_count": 27,
   "metadata": {},
   "outputs": [
    {
     "data": {
      "text/html": [
       "<div>\n",
       "<style scoped>\n",
       "    .dataframe tbody tr th:only-of-type {\n",
       "        vertical-align: middle;\n",
       "    }\n",
       "\n",
       "    .dataframe tbody tr th {\n",
       "        vertical-align: top;\n",
       "    }\n",
       "\n",
       "    .dataframe thead th {\n",
       "        text-align: right;\n",
       "    }\n",
       "</style>\n",
       "<table border=\"1\" class=\"dataframe\">\n",
       "  <thead>\n",
       "    <tr style=\"text-align: right;\">\n",
       "      <th></th>\n",
       "      <th></th>\n",
       "      <th>GDP_US</th>\n",
       "      <th>INFL_US</th>\n",
       "      <th>GDP</th>\n",
       "      <th>PPP</th>\n",
       "      <th>INFL</th>\n",
       "      <th>FER</th>\n",
       "      <th>NEXT_YR_FER</th>\n",
       "    </tr>\n",
       "  </thead>\n",
       "  <tbody>\n",
       "    <tr>\n",
       "      <th>0</th>\n",
       "      <td>1981</td>\n",
       "      <td>13976.1</td>\n",
       "      <td>10.334710</td>\n",
       "      <td>12337.5</td>\n",
       "      <td>1.134384</td>\n",
       "      <td>12.471610</td>\n",
       "      <td>1.198903</td>\n",
       "      <td>1.233735</td>\n",
       "    </tr>\n",
       "    <tr>\n",
       "      <th>1</th>\n",
       "      <td>1982</td>\n",
       "      <td>14433.8</td>\n",
       "      <td>6.131427</td>\n",
       "      <td>12481.9</td>\n",
       "      <td>1.162945</td>\n",
       "      <td>10.768970</td>\n",
       "      <td>1.233735</td>\n",
       "      <td>1.232412</td>\n",
       "    </tr>\n",
       "    <tr>\n",
       "      <th>2</th>\n",
       "      <td>1983</td>\n",
       "      <td>15543.9</td>\n",
       "      <td>3.212435</td>\n",
       "      <td>13425.1</td>\n",
       "      <td>1.183843</td>\n",
       "      <td>5.863588</td>\n",
       "      <td>1.232412</td>\n",
       "      <td>1.295066</td>\n",
       "    </tr>\n",
       "    <tr>\n",
       "      <th>3</th>\n",
       "      <td>1984</td>\n",
       "      <td>17121.2</td>\n",
       "      <td>4.300536</td>\n",
       "      <td>13877.9</td>\n",
       "      <td>1.183011</td>\n",
       "      <td>4.304778</td>\n",
       "      <td>1.295066</td>\n",
       "      <td>1.365507</td>\n",
       "    </tr>\n",
       "    <tr>\n",
       "      <th>4</th>\n",
       "      <td>1985</td>\n",
       "      <td>18236.8</td>\n",
       "      <td>3.545644</td>\n",
       "      <td>14114.8</td>\n",
       "      <td>1.185028</td>\n",
       "      <td>3.962031</td>\n",
       "      <td>1.365507</td>\n",
       "      <td>1.389471</td>\n",
       "    </tr>\n",
       "  </tbody>\n",
       "</table>\n",
       "</div>"
      ],
      "text/plain": [
       "          GDP_US    INFL_US      GDP       PPP       INFL       FER  \\\n",
       "0  1981  13976.1  10.334710  12337.5  1.134384  12.471610  1.198903   \n",
       "1  1982  14433.8   6.131427  12481.9  1.162945  10.768970  1.233735   \n",
       "2  1983  15543.9   3.212435  13425.1  1.183843   5.863588  1.232412   \n",
       "3  1984  17121.2   4.300536  13877.9  1.183011   4.304778  1.295066   \n",
       "4  1985  18236.8   3.545644  14114.8  1.185028   3.962031  1.365507   \n",
       "\n",
       "   NEXT_YR_FER  \n",
       "0     1.233735  \n",
       "1     1.232412  \n",
       "2     1.295066  \n",
       "3     1.365507  \n",
       "4     1.389471  "
      ]
     },
     "execution_count": 27,
     "metadata": {},
     "output_type": "execute_result"
    }
   ],
   "source": [
    "data = pd.concat([eco_fac,new_fer],axis=1)\n",
    "data.head()"
   ]
  },
  {
   "cell_type": "code",
   "execution_count": 29,
   "metadata": {},
   "outputs": [
    {
     "data": {
      "text/html": [
       "<div>\n",
       "<style scoped>\n",
       "    .dataframe tbody tr th:only-of-type {\n",
       "        vertical-align: middle;\n",
       "    }\n",
       "\n",
       "    .dataframe tbody tr th {\n",
       "        vertical-align: top;\n",
       "    }\n",
       "\n",
       "    .dataframe thead th {\n",
       "        text-align: right;\n",
       "    }\n",
       "</style>\n",
       "<table border=\"1\" class=\"dataframe\">\n",
       "  <thead>\n",
       "    <tr style=\"text-align: right;\">\n",
       "      <th></th>\n",
       "      <th>0</th>\n",
       "      <th>1</th>\n",
       "      <th>2</th>\n",
       "      <th>3</th>\n",
       "      <th>4</th>\n",
       "      <th>5</th>\n",
       "      <th>6</th>\n",
       "      <th>7</th>\n",
       "      <th>8</th>\n",
       "      <th>9</th>\n",
       "      <th>10</th>\n",
       "      <th>11</th>\n",
       "      <th>12</th>\n",
       "      <th>13</th>\n",
       "      <th>14</th>\n",
       "      <th>GDP</th>\n",
       "      <th>FER</th>\n",
       "      <th>NEXT_YR_FER</th>\n",
       "    </tr>\n",
       "  </thead>\n",
       "  <tbody>\n",
       "    <tr>\n",
       "      <th>0</th>\n",
       "      <td>0.025855</td>\n",
       "      <td>0.125928</td>\n",
       "      <td>0.054118</td>\n",
       "      <td>0.067509</td>\n",
       "      <td>0.037793</td>\n",
       "      <td>0.062103</td>\n",
       "      <td>0.057768</td>\n",
       "      <td>0.093079</td>\n",
       "      <td>0.032104</td>\n",
       "      <td>0.069524</td>\n",
       "      <td>0.053799</td>\n",
       "      <td>0.089232</td>\n",
       "      <td>0.020576</td>\n",
       "      <td>0.195674</td>\n",
       "      <td>0.014940</td>\n",
       "      <td>12337.5</td>\n",
       "      <td>1.198903</td>\n",
       "      <td>1.233735</td>\n",
       "    </tr>\n",
       "    <tr>\n",
       "      <th>1</th>\n",
       "      <td>0.024390</td>\n",
       "      <td>0.107464</td>\n",
       "      <td>0.049101</td>\n",
       "      <td>0.059169</td>\n",
       "      <td>0.034891</td>\n",
       "      <td>0.060548</td>\n",
       "      <td>0.056063</td>\n",
       "      <td>0.094063</td>\n",
       "      <td>0.027917</td>\n",
       "      <td>0.074106</td>\n",
       "      <td>0.045950</td>\n",
       "      <td>0.088189</td>\n",
       "      <td>0.022177</td>\n",
       "      <td>0.239667</td>\n",
       "      <td>0.016304</td>\n",
       "      <td>12481.9</td>\n",
       "      <td>1.233735</td>\n",
       "      <td>1.232412</td>\n",
       "    </tr>\n",
       "    <tr>\n",
       "      <th>2</th>\n",
       "      <td>0.025450</td>\n",
       "      <td>0.076065</td>\n",
       "      <td>0.035598</td>\n",
       "      <td>0.047638</td>\n",
       "      <td>0.028261</td>\n",
       "      <td>0.041214</td>\n",
       "      <td>0.046687</td>\n",
       "      <td>0.079440</td>\n",
       "      <td>0.030794</td>\n",
       "      <td>0.057839</td>\n",
       "      <td>0.034091</td>\n",
       "      <td>0.071603</td>\n",
       "      <td>0.016388</td>\n",
       "      <td>0.389751</td>\n",
       "      <td>0.019181</td>\n",
       "      <td>13425.1</td>\n",
       "      <td>1.232412</td>\n",
       "      <td>1.295066</td>\n",
       "    </tr>\n",
       "    <tr>\n",
       "      <th>3</th>\n",
       "      <td>0.026685</td>\n",
       "      <td>0.087435</td>\n",
       "      <td>0.042064</td>\n",
       "      <td>0.061242</td>\n",
       "      <td>0.031366</td>\n",
       "      <td>0.051220</td>\n",
       "      <td>0.059974</td>\n",
       "      <td>0.104375</td>\n",
       "      <td>0.038531</td>\n",
       "      <td>0.068460</td>\n",
       "      <td>0.035101</td>\n",
       "      <td>0.074283</td>\n",
       "      <td>0.016077</td>\n",
       "      <td>0.283385</td>\n",
       "      <td>0.019803</td>\n",
       "      <td>13877.9</td>\n",
       "      <td>1.295066</td>\n",
       "      <td>1.365507</td>\n",
       "    </tr>\n",
       "    <tr>\n",
       "      <th>4</th>\n",
       "      <td>0.028514</td>\n",
       "      <td>0.077057</td>\n",
       "      <td>0.046638</td>\n",
       "      <td>0.060663</td>\n",
       "      <td>0.031233</td>\n",
       "      <td>0.060692</td>\n",
       "      <td>0.060507</td>\n",
       "      <td>0.107761</td>\n",
       "      <td>0.041098</td>\n",
       "      <td>0.076824</td>\n",
       "      <td>0.038589</td>\n",
       "      <td>0.085528</td>\n",
       "      <td>0.015696</td>\n",
       "      <td>0.251406</td>\n",
       "      <td>0.017794</td>\n",
       "      <td>14114.8</td>\n",
       "      <td>1.365507</td>\n",
       "      <td>1.389471</td>\n",
       "    </tr>\n",
       "  </tbody>\n",
       "</table>\n",
       "</div>"
      ],
      "text/plain": [
       "          0         1         2         3         4         5         6  \\\n",
       "0  0.025855  0.125928  0.054118  0.067509  0.037793  0.062103  0.057768   \n",
       "1  0.024390  0.107464  0.049101  0.059169  0.034891  0.060548  0.056063   \n",
       "2  0.025450  0.076065  0.035598  0.047638  0.028261  0.041214  0.046687   \n",
       "3  0.026685  0.087435  0.042064  0.061242  0.031366  0.051220  0.059974   \n",
       "4  0.028514  0.077057  0.046638  0.060663  0.031233  0.060692  0.060507   \n",
       "\n",
       "          7         8         9        10        11        12        13  \\\n",
       "0  0.093079  0.032104  0.069524  0.053799  0.089232  0.020576  0.195674   \n",
       "1  0.094063  0.027917  0.074106  0.045950  0.088189  0.022177  0.239667   \n",
       "2  0.079440  0.030794  0.057839  0.034091  0.071603  0.016388  0.389751   \n",
       "3  0.104375  0.038531  0.068460  0.035101  0.074283  0.016077  0.283385   \n",
       "4  0.107761  0.041098  0.076824  0.038589  0.085528  0.015696  0.251406   \n",
       "\n",
       "         14      GDP       FER  NEXT_YR_FER  \n",
       "0  0.014940  12337.5  1.198903     1.233735  \n",
       "1  0.016304  12481.9  1.233735     1.232412  \n",
       "2  0.019181  13425.1  1.232412     1.295066  \n",
       "3  0.019803  13877.9  1.295066     1.365507  \n",
       "4  0.017794  14114.8  1.365507     1.389471  "
      ]
     },
     "execution_count": 29,
     "metadata": {},
     "output_type": "execute_result"
    }
   ],
   "source": [
    "data = pd.concat([df,data],axis=1)\n",
    "data.head()"
   ]
  },
  {
   "cell_type": "code",
   "execution_count": 30,
   "metadata": {},
   "outputs": [],
   "source": [
    "data = data.dropna()"
   ]
  },
  {
   "cell_type": "code",
   "execution_count": 31,
   "metadata": {},
   "outputs": [
    {
     "data": {
      "text/plain": [
       "(38, 18)"
      ]
     },
     "execution_count": 31,
     "metadata": {},
     "output_type": "execute_result"
    }
   ],
   "source": [
    "data.shape"
   ]
  },
  {
   "cell_type": "code",
   "execution_count": 32,
   "metadata": {},
   "outputs": [],
   "source": [
    "X = data.iloc[:,:-1]\n",
    "y = data.iloc[:,-1]"
   ]
  },
  {
   "cell_type": "code",
   "execution_count": 33,
   "metadata": {},
   "outputs": [],
   "source": [
    "from sklearn.model_selection import train_test_split\n",
    "from sklearn.preprocessing import StandardScaler, MinMaxScaler"
   ]
  },
  {
   "cell_type": "code",
   "execution_count": 34,
   "metadata": {},
   "outputs": [],
   "source": [
    "minmax = MinMaxScaler()\n",
    "scaler = StandardScaler()"
   ]
  },
  {
   "cell_type": "code",
   "execution_count": 35,
   "metadata": {},
   "outputs": [],
   "source": [
    "X_s = scaler.fit_transform(X) # standard scaled data\n",
    "X_m = minmax.fit_transform(X) # minmax scaled data"
   ]
  },
  {
   "cell_type": "code",
   "execution_count": 36,
   "metadata": {},
   "outputs": [],
   "source": [
    "X_train, X_test, y_train, y_test = train_test_split(X, y, test_size=0.2, random_state=None)\n",
    "X_train_s, X_test_s, y_train, y_test = train_test_split(X_s, y, test_size=0.2, random_state=None)\n",
    "X_train_m, X_test_m, y_train, y_test = train_test_split(X_m, y, test_size=0.2, random_state=None)"
   ]
  },
  {
   "cell_type": "code",
   "execution_count": 37,
   "metadata": {},
   "outputs": [
    {
     "data": {
      "text/plain": [
       "-0.02861038476596947"
      ]
     },
     "execution_count": 37,
     "metadata": {},
     "output_type": "execute_result"
    }
   ],
   "source": [
    "# Change model here\n",
    "\n",
    "from sklearn.model_selection import cross_val_score\n",
    "score = cross_val_score(RidgeCV(), X_train, y_train, cv=5, scoring='neg_mean_squared_error')\n",
    "score.mean()"
   ]
  },
  {
   "cell_type": "code",
   "execution_count": 38,
   "metadata": {},
   "outputs": [
    {
     "data": {
      "text/plain": [
       "-0.0032023941864332433"
      ]
     },
     "execution_count": 38,
     "metadata": {},
     "output_type": "execute_result"
    }
   ],
   "source": [
    "# Change model here\n",
    "\n",
    "score = cross_val_score(RidgeCV(), X_train_m, y_train, cv=5, scoring='neg_mean_squared_error')\n",
    "score.mean()"
   ]
  },
  {
   "cell_type": "code",
   "execution_count": 39,
   "metadata": {},
   "outputs": [
    {
     "data": {
      "text/plain": [
       "-0.08476447290118957"
      ]
     },
     "execution_count": 39,
     "metadata": {},
     "output_type": "execute_result"
    }
   ],
   "source": [
    "# Change model here\n",
    "\n",
    "score = cross_val_score(RidgeCV(), X_train_s, y_train, cv=5, scoring='neg_mean_squared_error')\n",
    "score.mean()"
   ]
  },
  {
   "cell_type": "code",
   "execution_count": 40,
   "metadata": {},
   "outputs": [
    {
     "name": "stdout",
     "output_type": "stream",
     "text": [
      "MSE : 0.009073043133819257\n",
      "R2 : -13.33467204974958\n",
      "Error :  0.04324051760980878\n"
     ]
    }
   ],
   "source": [
    "# Original \n",
    "model_orig = RidgeCV() # change model here\n",
    "model_orig.fit(X_train, y_train)\n",
    "pred = model_orig.predict(X_test)\n",
    "print('MSE :',mean_squared_error(pred, y_test))\n",
    "print('R2 :',r2_score(pred,y_test))\n",
    "print('Error : ',((y_test-pred)/y_test).mean())"
   ]
  },
  {
   "cell_type": "code",
   "execution_count": 41,
   "metadata": {},
   "outputs": [
    {
     "data": {
      "text/plain": [
       "22    0.029070\n",
       "37    0.056901\n",
       "15    0.111209\n",
       "7    -0.102284\n",
       "34    0.076900\n",
       "13    0.085401\n",
       "33    0.055073\n",
       "4     0.171558\n",
       "Name: NEXT_YR_FER, dtype: float64"
      ]
     },
     "execution_count": 41,
     "metadata": {},
     "output_type": "execute_result"
    }
   ],
   "source": [
    "(y_test-pred) # check the variations"
   ]
  },
  {
   "cell_type": "code",
   "execution_count": 42,
   "metadata": {},
   "outputs": [
    {
     "name": "stdout",
     "output_type": "stream",
     "text": [
      "MSE : 0.009158598325970659\n",
      "R2 : 0.14754563614629324\n",
      "Error :  0.03456468916959386\n"
     ]
    }
   ],
   "source": [
    "# MinMax Scaled \n",
    "model_minmax = RidgeCV() # Change model here\n",
    "model_minmax.fit(X_train_m, y_train)\n",
    "pred = model_minmax.predict(X_test_m)\n",
    "print('MSE :',mean_squared_error(pred, y_test))\n",
    "print('R2 :',r2_score(pred,y_test))\n",
    "print('Error : ',((y_test-pred)/y_test).mean())"
   ]
  },
  {
   "cell_type": "code",
   "execution_count": 43,
   "metadata": {},
   "outputs": [
    {
     "data": {
      "text/plain": [
       "22    0.093811\n",
       "37    0.008373\n",
       "15   -0.002179\n",
       "7    -0.064127\n",
       "34    0.179892\n",
       "13   -0.041492\n",
       "33    0.158186\n",
       "4     0.034292\n",
       "Name: NEXT_YR_FER, dtype: float64"
      ]
     },
     "execution_count": 43,
     "metadata": {},
     "output_type": "execute_result"
    }
   ],
   "source": [
    "(y_test-pred) # check the variation"
   ]
  },
  {
   "cell_type": "code",
   "execution_count": 44,
   "metadata": {},
   "outputs": [
    {
     "name": "stdout",
     "output_type": "stream",
     "text": [
      "MSE : 0.012882518710479744\n",
      "R2 : -3.104638533127331\n",
      "Error :  0.04599085962116305\n"
     ]
    }
   ],
   "source": [
    "# Standard Scaled \n",
    "model_stand = RidgeCV() # Change model here\n",
    "model_stand.fit(X_train_s, y_train)\n",
    "pred = model_stand.predict(X_test_s)\n",
    "print('MSE :',mean_squared_error(pred, y_test))\n",
    "print('R2 :',r2_score(pred,y_test))\n",
    "print('Error : ',((y_test-pred)/y_test).mean())"
   ]
  },
  {
   "cell_type": "code",
   "execution_count": 45,
   "metadata": {},
   "outputs": [
    {
     "data": {
      "text/plain": [
       "22    0.003420\n",
       "37   -0.036653\n",
       "15    0.195412\n",
       "7    -0.064967\n",
       "34    0.022090\n",
       "13    0.158690\n",
       "33    0.065264\n",
       "4     0.171373\n",
       "Name: NEXT_YR_FER, dtype: float64"
      ]
     },
     "execution_count": 45,
     "metadata": {},
     "output_type": "execute_result"
    }
   ],
   "source": [
    "(y_test-pred) # check the variations"
   ]
  },
  {
   "cell_type": "code",
   "execution_count": 48,
   "metadata": {},
   "outputs": [],
   "source": [
    "# Save the best perform ming model only after instructions\n",
    "\n",
    "pkl.dump(model_minmax, open('model_canada.pkl','wb'))"
   ]
  },
  {
   "cell_type": "code",
   "execution_count": 49,
   "metadata": {},
   "outputs": [],
   "source": [
    "# dont uncomment until said to\n",
    "# if we use scaling\n",
    "pkl.dump(minmax, open('scaler_canada.pkl','wb'))"
   ]
  },
  {
   "cell_type": "code",
   "execution_count": null,
   "metadata": {},
   "outputs": [],
   "source": []
  }
 ],
 "metadata": {
  "kernelspec": {
   "display_name": "Python 3",
   "language": "python",
   "name": "python3"
  },
  "language_info": {
   "codemirror_mode": {
    "name": "ipython",
    "version": 3
   },
   "file_extension": ".py",
   "mimetype": "text/x-python",
   "name": "python",
   "nbconvert_exporter": "python",
   "pygments_lexer": "ipython3",
   "version": "3.8.5"
  }
 },
 "nbformat": 4,
 "nbformat_minor": 4
}

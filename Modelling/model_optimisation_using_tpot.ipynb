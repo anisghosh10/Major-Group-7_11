{
 "cells": [
  {
   "cell_type": "code",
   "execution_count": null,
   "metadata": {
    "colab": {
     "base_uri": "https://localhost:8080/"
    },
    "id": "9Htp5X9e0QCE",
    "outputId": "4dcd1938-855b-40f5-e64f-d5bc3403da9c"
   },
   "outputs": [
    {
     "name": "stdout",
     "output_type": "stream",
     "text": [
      "Requirement already satisfied: tpot in /usr/local/lib/python3.7/dist-packages (0.11.7)\n",
      "Requirement already satisfied: xgboost>=1.1.0 in /usr/local/lib/python3.7/dist-packages (from tpot) (1.3.3)\n",
      "Requirement already satisfied: scipy>=1.3.1 in /usr/local/lib/python3.7/dist-packages (from tpot) (1.4.1)\n",
      "Requirement already satisfied: tqdm>=4.36.1 in /usr/local/lib/python3.7/dist-packages (from tpot) (4.41.1)\n",
      "Requirement already satisfied: joblib>=0.13.2 in /usr/local/lib/python3.7/dist-packages (from tpot) (1.0.1)\n",
      "Requirement already satisfied: deap>=1.2 in /usr/local/lib/python3.7/dist-packages (from tpot) (1.3.1)\n",
      "Requirement already satisfied: scikit-learn>=0.22.0 in /usr/local/lib/python3.7/dist-packages (from tpot) (0.22.2.post1)\n",
      "Requirement already satisfied: stopit>=1.1.1 in /usr/local/lib/python3.7/dist-packages (from tpot) (1.1.2)\n",
      "Requirement already satisfied: numpy>=1.16.3 in /usr/local/lib/python3.7/dist-packages (from tpot) (1.19.5)\n",
      "Requirement already satisfied: update-checker>=0.16 in /usr/local/lib/python3.7/dist-packages (from tpot) (0.18.0)\n",
      "Requirement already satisfied: pandas>=0.24.2 in /usr/local/lib/python3.7/dist-packages (from tpot) (1.1.5)\n",
      "Requirement already satisfied: requests>=2.3.0 in /usr/local/lib/python3.7/dist-packages (from update-checker>=0.16->tpot) (2.23.0)\n",
      "Requirement already satisfied: python-dateutil>=2.7.3 in /usr/local/lib/python3.7/dist-packages (from pandas>=0.24.2->tpot) (2.8.1)\n",
      "Requirement already satisfied: pytz>=2017.2 in /usr/local/lib/python3.7/dist-packages (from pandas>=0.24.2->tpot) (2018.9)\n",
      "Requirement already satisfied: idna<3,>=2.5 in /usr/local/lib/python3.7/dist-packages (from requests>=2.3.0->update-checker>=0.16->tpot) (2.10)\n",
      "Requirement already satisfied: chardet<4,>=3.0.2 in /usr/local/lib/python3.7/dist-packages (from requests>=2.3.0->update-checker>=0.16->tpot) (3.0.4)\n",
      "Requirement already satisfied: urllib3!=1.25.0,!=1.25.1,<1.26,>=1.21.1 in /usr/local/lib/python3.7/dist-packages (from requests>=2.3.0->update-checker>=0.16->tpot) (1.24.3)\n",
      "Requirement already satisfied: certifi>=2017.4.17 in /usr/local/lib/python3.7/dist-packages (from requests>=2.3.0->update-checker>=0.16->tpot) (2020.12.5)\n",
      "Requirement already satisfied: six>=1.5 in /usr/local/lib/python3.7/dist-packages (from python-dateutil>=2.7.3->pandas>=0.24.2->tpot) (1.15.0)\n"
     ]
    }
   ],
   "source": [
    "!pip install tpot"
   ]
  },
  {
   "cell_type": "code",
   "execution_count": null,
   "metadata": {
    "id": "G5LndJLiWEy8"
   },
   "outputs": [],
   "source": [
    "# from google.colab import drive\n",
    "# drive.mount('/content/drive')"
   ]
  },
  {
   "cell_type": "code",
   "execution_count": null,
   "metadata": {
    "colab": {
     "base_uri": "https://localhost:8080/"
    },
    "id": "pOUnsTn30QCm",
    "outputId": "97c5bca6-93b3-4786-cb8e-ba813e7d3ff5"
   },
   "outputs": [
    {
     "name": "stderr",
     "output_type": "stream",
     "text": [
      "/usr/local/lib/python3.7/dist-packages/sklearn/externals/six.py:31: FutureWarning: The module is deprecated in version 0.21 and will be removed in version 0.23 since we've dropped support for Python 2.7. Please rely on the official version of six (https://pypi.org/project/six/).\n",
      "  \"(https://pypi.org/project/six/).\", FutureWarning)\n",
      "/usr/local/lib/python3.7/dist-packages/sklearn/utils/deprecation.py:144: FutureWarning: The sklearn.neighbors.base module is  deprecated in version 0.22 and will be removed in version 0.24. The corresponding classes / functions should instead be imported from sklearn.neighbors. Anything that cannot be imported from sklearn.neighbors is now part of the private API.\n",
      "  warnings.warn(message, FutureWarning)\n"
     ]
    }
   ],
   "source": [
    "import pandas as pd\n",
    "import numpy as np\n",
    "from tpot import TPOTRegressor"
   ]
  },
  {
   "cell_type": "code",
   "execution_count": null,
   "metadata": {
    "id": "keSY7kxWBidt"
   },
   "outputs": [],
   "source": [
    "num = 15\n",
    "country = 'india'"
   ]
  },
  {
   "cell_type": "code",
   "execution_count": null,
   "metadata": {
    "id": "AvEXXach0QCo"
   },
   "outputs": [],
   "source": [
    "article_wts = pd.read_csv(f'/content/drive/MyDrive/weights/weights_{num}.csv')\n",
    "eco_fac = pd.read_csv(f'/content/drive/MyDrive/Cont. data/eco_{country}.csv')"
   ]
  },
  {
   "cell_type": "code",
   "execution_count": null,
   "metadata": {
    "id": "XTMUbNZs06s4"
   },
   "outputs": [],
   "source": [
    "# from google.colab import drive\n",
    "# drive.mount('/content/drive')"
   ]
  },
  {
   "cell_type": "code",
   "execution_count": null,
   "metadata": {
    "id": "6z61BWdx0QCp"
   },
   "outputs": [],
   "source": [
    "new_fer = eco_fac.FER.shift(-1)\n",
    "new_fer = pd.DataFrame(new_fer)\n",
    "new_fer.rename(columns = {'FER':'NEXT_YR_FER'}, inplace=True)"
   ]
  },
  {
   "cell_type": "code",
   "execution_count": null,
   "metadata": {
    "id": "4XczKGk50QCr"
   },
   "outputs": [],
   "source": [
    "data = pd.concat([eco_fac,new_fer],axis=1)"
   ]
  },
  {
   "cell_type": "code",
   "execution_count": null,
   "metadata": {
    "id": "6Ee74Xh50QCu"
   },
   "outputs": [],
   "source": [
    "data = pd.concat([article_wts,data],axis=1)"
   ]
  },
  {
   "cell_type": "code",
   "execution_count": null,
   "metadata": {
    "colab": {
     "base_uri": "https://localhost:8080/",
     "height": 215
    },
    "id": "aFDjBrmB0QCv",
    "outputId": "a77e8e8a-eb1d-4400-dd15-386227df9022"
   },
   "outputs": [
    {
     "data": {
      "text/html": [
       "<div>\n",
       "<style scoped>\n",
       "    .dataframe tbody tr th:only-of-type {\n",
       "        vertical-align: middle;\n",
       "    }\n",
       "\n",
       "    .dataframe tbody tr th {\n",
       "        vertical-align: top;\n",
       "    }\n",
       "\n",
       "    .dataframe thead th {\n",
       "        text-align: right;\n",
       "    }\n",
       "</style>\n",
       "<table border=\"1\" class=\"dataframe\">\n",
       "  <thead>\n",
       "    <tr style=\"text-align: right;\">\n",
       "      <th></th>\n",
       "      <th>0</th>\n",
       "      <th>1</th>\n",
       "      <th>2</th>\n",
       "      <th>3</th>\n",
       "      <th>4</th>\n",
       "      <th>5</th>\n",
       "      <th>6</th>\n",
       "      <th>7</th>\n",
       "      <th>8</th>\n",
       "      <th>9</th>\n",
       "      <th>10</th>\n",
       "      <th>11</th>\n",
       "      <th>12</th>\n",
       "      <th>13</th>\n",
       "      <th>14</th>\n",
       "      <th>15</th>\n",
       "      <th>16</th>\n",
       "      <th>17</th>\n",
       "      <th>18</th>\n",
       "      <th>19</th>\n",
       "      <th>20</th>\n",
       "      <th>21</th>\n",
       "      <th>22</th>\n",
       "      <th>23</th>\n",
       "      <th>24</th>\n",
       "      <th>25</th>\n",
       "      <th>26</th>\n",
       "      <th>27</th>\n",
       "      <th>28</th>\n",
       "      <th>29</th>\n",
       "      <th>30</th>\n",
       "      <th>31</th>\n",
       "      <th>32</th>\n",
       "      <th>33</th>\n",
       "      <th>34</th>\n",
       "      <th>35</th>\n",
       "      <th>36</th>\n",
       "      <th>37</th>\n",
       "      <th>38</th>\n",
       "      <th>39</th>\n",
       "      <th>40</th>\n",
       "      <th>41</th>\n",
       "      <th>42</th>\n",
       "      <th>43</th>\n",
       "      <th>44</th>\n",
       "      <th>45</th>\n",
       "      <th>46</th>\n",
       "      <th>47</th>\n",
       "      <th>48</th>\n",
       "      <th>49</th>\n",
       "      <th>GDP</th>\n",
       "      <th>FER</th>\n",
       "      <th>NEXT_YR_FER</th>\n",
       "    </tr>\n",
       "  </thead>\n",
       "  <tbody>\n",
       "    <tr>\n",
       "      <th>0</th>\n",
       "      <td>0.029943</td>\n",
       "      <td>0.011610</td>\n",
       "      <td>0.027821</td>\n",
       "      <td>0.038890</td>\n",
       "      <td>0.004487</td>\n",
       "      <td>0.009162</td>\n",
       "      <td>0.028646</td>\n",
       "      <td>0.040566</td>\n",
       "      <td>0.016225</td>\n",
       "      <td>0.008330</td>\n",
       "      <td>0.007590</td>\n",
       "      <td>0.026309</td>\n",
       "      <td>0.005444</td>\n",
       "      <td>0.043037</td>\n",
       "      <td>0.011810</td>\n",
       "      <td>0.012544</td>\n",
       "      <td>0.007309</td>\n",
       "      <td>0.030216</td>\n",
       "      <td>0.068160</td>\n",
       "      <td>0.008468</td>\n",
       "      <td>0.005753</td>\n",
       "      <td>0.015911</td>\n",
       "      <td>0.115304</td>\n",
       "      <td>0.002792</td>\n",
       "      <td>0.057419</td>\n",
       "      <td>0.013179</td>\n",
       "      <td>0.016022</td>\n",
       "      <td>0.011884</td>\n",
       "      <td>0.002444</td>\n",
       "      <td>0.018202</td>\n",
       "      <td>0.033173</td>\n",
       "      <td>0.034209</td>\n",
       "      <td>0.012396</td>\n",
       "      <td>0.007108</td>\n",
       "      <td>0.003232</td>\n",
       "      <td>0.004221</td>\n",
       "      <td>0.011439</td>\n",
       "      <td>0.003835</td>\n",
       "      <td>0.034459</td>\n",
       "      <td>0.015192</td>\n",
       "      <td>0.038462</td>\n",
       "      <td>0.006697</td>\n",
       "      <td>0.012193</td>\n",
       "      <td>0.015053</td>\n",
       "      <td>0.008605</td>\n",
       "      <td>0.002720</td>\n",
       "      <td>0.018988</td>\n",
       "      <td>0.010000</td>\n",
       "      <td>0.016079</td>\n",
       "      <td>0.016458</td>\n",
       "      <td>270.5</td>\n",
       "      <td>8.658523</td>\n",
       "      <td>9.455132</td>\n",
       "    </tr>\n",
       "    <tr>\n",
       "      <th>1</th>\n",
       "      <td>0.029250</td>\n",
       "      <td>0.011097</td>\n",
       "      <td>0.022623</td>\n",
       "      <td>0.044435</td>\n",
       "      <td>0.003960</td>\n",
       "      <td>0.007937</td>\n",
       "      <td>0.023439</td>\n",
       "      <td>0.037056</td>\n",
       "      <td>0.016843</td>\n",
       "      <td>0.006905</td>\n",
       "      <td>0.006247</td>\n",
       "      <td>0.026979</td>\n",
       "      <td>0.008081</td>\n",
       "      <td>0.042083</td>\n",
       "      <td>0.010522</td>\n",
       "      <td>0.012175</td>\n",
       "      <td>0.008025</td>\n",
       "      <td>0.027280</td>\n",
       "      <td>0.080953</td>\n",
       "      <td>0.009174</td>\n",
       "      <td>0.005474</td>\n",
       "      <td>0.014891</td>\n",
       "      <td>0.145253</td>\n",
       "      <td>0.002687</td>\n",
       "      <td>0.046672</td>\n",
       "      <td>0.011101</td>\n",
       "      <td>0.015998</td>\n",
       "      <td>0.010659</td>\n",
       "      <td>0.002161</td>\n",
       "      <td>0.018741</td>\n",
       "      <td>0.034189</td>\n",
       "      <td>0.030037</td>\n",
       "      <td>0.010868</td>\n",
       "      <td>0.006867</td>\n",
       "      <td>0.003378</td>\n",
       "      <td>0.004219</td>\n",
       "      <td>0.011897</td>\n",
       "      <td>0.005310</td>\n",
       "      <td>0.034293</td>\n",
       "      <td>0.015646</td>\n",
       "      <td>0.042600</td>\n",
       "      <td>0.007807</td>\n",
       "      <td>0.011628</td>\n",
       "      <td>0.010717</td>\n",
       "      <td>0.007892</td>\n",
       "      <td>0.001701</td>\n",
       "      <td>0.013392</td>\n",
       "      <td>0.008186</td>\n",
       "      <td>0.014295</td>\n",
       "      <td>0.016376</td>\n",
       "      <td>274.1</td>\n",
       "      <td>9.455132</td>\n",
       "      <td>10.098898</td>\n",
       "    </tr>\n",
       "    <tr>\n",
       "      <th>2</th>\n",
       "      <td>0.022880</td>\n",
       "      <td>0.006919</td>\n",
       "      <td>0.018107</td>\n",
       "      <td>0.030244</td>\n",
       "      <td>0.003704</td>\n",
       "      <td>0.006604</td>\n",
       "      <td>0.019939</td>\n",
       "      <td>0.025350</td>\n",
       "      <td>0.012110</td>\n",
       "      <td>0.005811</td>\n",
       "      <td>0.005796</td>\n",
       "      <td>0.021726</td>\n",
       "      <td>0.005380</td>\n",
       "      <td>0.033827</td>\n",
       "      <td>0.007978</td>\n",
       "      <td>0.011001</td>\n",
       "      <td>0.007818</td>\n",
       "      <td>0.020070</td>\n",
       "      <td>0.125236</td>\n",
       "      <td>0.007835</td>\n",
       "      <td>0.006030</td>\n",
       "      <td>0.017695</td>\n",
       "      <td>0.238025</td>\n",
       "      <td>0.015624</td>\n",
       "      <td>0.030889</td>\n",
       "      <td>0.009612</td>\n",
       "      <td>0.016163</td>\n",
       "      <td>0.012103</td>\n",
       "      <td>0.002376</td>\n",
       "      <td>0.015287</td>\n",
       "      <td>0.023413</td>\n",
       "      <td>0.024528</td>\n",
       "      <td>0.009322</td>\n",
       "      <td>0.005221</td>\n",
       "      <td>0.003602</td>\n",
       "      <td>0.003529</td>\n",
       "      <td>0.009781</td>\n",
       "      <td>0.002867</td>\n",
       "      <td>0.032314</td>\n",
       "      <td>0.010661</td>\n",
       "      <td>0.033607</td>\n",
       "      <td>0.007888</td>\n",
       "      <td>0.008228</td>\n",
       "      <td>0.009310</td>\n",
       "      <td>0.005936</td>\n",
       "      <td>0.005085</td>\n",
       "      <td>0.010521</td>\n",
       "      <td>0.007754</td>\n",
       "      <td>0.011393</td>\n",
       "      <td>0.012899</td>\n",
       "      <td>291.2</td>\n",
       "      <td>10.098898</td>\n",
       "      <td>11.362583</td>\n",
       "    </tr>\n",
       "    <tr>\n",
       "      <th>3</th>\n",
       "      <td>0.027044</td>\n",
       "      <td>0.006575</td>\n",
       "      <td>0.025121</td>\n",
       "      <td>0.033777</td>\n",
       "      <td>0.004072</td>\n",
       "      <td>0.008336</td>\n",
       "      <td>0.020022</td>\n",
       "      <td>0.031949</td>\n",
       "      <td>0.014393</td>\n",
       "      <td>0.005883</td>\n",
       "      <td>0.005192</td>\n",
       "      <td>0.021801</td>\n",
       "      <td>0.004446</td>\n",
       "      <td>0.047142</td>\n",
       "      <td>0.009139</td>\n",
       "      <td>0.012977</td>\n",
       "      <td>0.008717</td>\n",
       "      <td>0.023824</td>\n",
       "      <td>0.084934</td>\n",
       "      <td>0.009133</td>\n",
       "      <td>0.006901</td>\n",
       "      <td>0.023264</td>\n",
       "      <td>0.176267</td>\n",
       "      <td>0.015160</td>\n",
       "      <td>0.036158</td>\n",
       "      <td>0.011304</td>\n",
       "      <td>0.018590</td>\n",
       "      <td>0.012814</td>\n",
       "      <td>0.002729</td>\n",
       "      <td>0.018200</td>\n",
       "      <td>0.028107</td>\n",
       "      <td>0.032128</td>\n",
       "      <td>0.010029</td>\n",
       "      <td>0.005666</td>\n",
       "      <td>0.004092</td>\n",
       "      <td>0.003480</td>\n",
       "      <td>0.011947</td>\n",
       "      <td>0.003059</td>\n",
       "      <td>0.033663</td>\n",
       "      <td>0.012544</td>\n",
       "      <td>0.040374</td>\n",
       "      <td>0.011502</td>\n",
       "      <td>0.009132</td>\n",
       "      <td>0.011713</td>\n",
       "      <td>0.008190</td>\n",
       "      <td>0.005147</td>\n",
       "      <td>0.010496</td>\n",
       "      <td>0.007759</td>\n",
       "      <td>0.011904</td>\n",
       "      <td>0.013206</td>\n",
       "      <td>276.7</td>\n",
       "      <td>11.362583</td>\n",
       "      <td>12.368750</td>\n",
       "    </tr>\n",
       "    <tr>\n",
       "      <th>4</th>\n",
       "      <td>0.026539</td>\n",
       "      <td>0.007703</td>\n",
       "      <td>0.022280</td>\n",
       "      <td>0.036423</td>\n",
       "      <td>0.004919</td>\n",
       "      <td>0.010103</td>\n",
       "      <td>0.024701</td>\n",
       "      <td>0.035793</td>\n",
       "      <td>0.016023</td>\n",
       "      <td>0.005974</td>\n",
       "      <td>0.006633</td>\n",
       "      <td>0.020955</td>\n",
       "      <td>0.005570</td>\n",
       "      <td>0.047936</td>\n",
       "      <td>0.010461</td>\n",
       "      <td>0.012161</td>\n",
       "      <td>0.010056</td>\n",
       "      <td>0.029574</td>\n",
       "      <td>0.071777</td>\n",
       "      <td>0.010158</td>\n",
       "      <td>0.007273</td>\n",
       "      <td>0.026731</td>\n",
       "      <td>0.158875</td>\n",
       "      <td>0.014034</td>\n",
       "      <td>0.031083</td>\n",
       "      <td>0.011402</td>\n",
       "      <td>0.018162</td>\n",
       "      <td>0.012141</td>\n",
       "      <td>0.002756</td>\n",
       "      <td>0.022994</td>\n",
       "      <td>0.033135</td>\n",
       "      <td>0.033140</td>\n",
       "      <td>0.011803</td>\n",
       "      <td>0.005179</td>\n",
       "      <td>0.005006</td>\n",
       "      <td>0.003782</td>\n",
       "      <td>0.012582</td>\n",
       "      <td>0.002719</td>\n",
       "      <td>0.030233</td>\n",
       "      <td>0.012201</td>\n",
       "      <td>0.044723</td>\n",
       "      <td>0.010851</td>\n",
       "      <td>0.008586</td>\n",
       "      <td>0.008944</td>\n",
       "      <td>0.007119</td>\n",
       "      <td>0.004426</td>\n",
       "      <td>0.008681</td>\n",
       "      <td>0.007435</td>\n",
       "      <td>0.013463</td>\n",
       "      <td>0.014799</td>\n",
       "      <td>296.4</td>\n",
       "      <td>12.368750</td>\n",
       "      <td>12.610833</td>\n",
       "    </tr>\n",
       "  </tbody>\n",
       "</table>\n",
       "</div>"
      ],
      "text/plain": [
       "          0         1         2  ...    GDP        FER  NEXT_YR_FER\n",
       "0  0.029943  0.011610  0.027821  ...  270.5   8.658523     9.455132\n",
       "1  0.029250  0.011097  0.022623  ...  274.1   9.455132    10.098898\n",
       "2  0.022880  0.006919  0.018107  ...  291.2  10.098898    11.362583\n",
       "3  0.027044  0.006575  0.025121  ...  276.7  11.362583    12.368750\n",
       "4  0.026539  0.007703  0.022280  ...  296.4  12.368750    12.610833\n",
       "\n",
       "[5 rows x 53 columns]"
      ]
     },
     "execution_count": 11,
     "metadata": {
      "tags": []
     },
     "output_type": "execute_result"
    }
   ],
   "source": [
    "data.head()"
   ]
  },
  {
   "cell_type": "code",
   "execution_count": null,
   "metadata": {
    "id": "uVXwSSxd0QCz"
   },
   "outputs": [],
   "source": [
    "data.dropna(inplace=True)"
   ]
  },
  {
   "cell_type": "code",
   "execution_count": null,
   "metadata": {
    "id": "8B0SwiLl0QC0"
   },
   "outputs": [],
   "source": [
    "X = data.iloc[:,:-1]\n",
    "y = data.iloc[:,-1]"
   ]
  },
  {
   "cell_type": "code",
   "execution_count": null,
   "metadata": {
    "id": "7N1P5hIK0QC1"
   },
   "outputs": [],
   "source": [
    "from sklearn.model_selection import train_test_split\n",
    "X_train, X_test, y_train, y_test = train_test_split(X, y, test_size=0.2, random_state=None)"
   ]
  },
  {
   "cell_type": "code",
   "execution_count": null,
   "metadata": {
    "colab": {
     "base_uri": "https://localhost:8080/",
     "height": 1000,
     "referenced_widgets": [
      "a3515e4a44534764a00fe11a835e1c54",
      "553999ab6d14472d81f8c5f67860a3bf",
      "5ad3151503f748b9b788dfcffc0cb19d",
      "c350bae98bf04ffe9b47299e481febd3",
      "d18d52e4ddb4496299fdbc8639d60bd9",
      "6ad63c882f324f36a7b666339b1d32d2",
      "651e51e4f47e4193b14072ab6abdd0d6",
      "9da78fe05ef240018375808dc3868ade"
     ]
    },
    "id": "0sjjkrXK0QC2",
    "outputId": "584b84ed-9baf-4bc7-dad3-e25eb493dad6"
   },
   "outputs": [
    {
     "data": {
      "application/vnd.jupyter.widget-view+json": {
       "model_id": "a3515e4a44534764a00fe11a835e1c54",
       "version_major": 2,
       "version_minor": 0
      },
      "text/plain": [
       "HBox(children=(FloatProgress(value=0.0, description='Optimization Progress', style=ProgressStyle(description_w…"
      ]
     },
     "metadata": {
      "tags": []
     },
     "output_type": "display_data"
    },
    {
     "name": "stdout",
     "output_type": "stream",
     "text": [
      "\r\n",
      "Generation 1 - Current best internal CV score: -4.293744759783169\n",
      "\n",
      "Generation 2 - Current best internal CV score: -4.293744759783169\n",
      "\n",
      "Generation 3 - Current best internal CV score: -4.293744759783169\n",
      "\n",
      "Generation 4 - Current best internal CV score: -4.293744759783169\n",
      "\n",
      "Generation 5 - Current best internal CV score: -4.293744759783169\n",
      "\n",
      "Generation 6 - Current best internal CV score: -4.293744759783169\n",
      "\n",
      "Generation 7 - Current best internal CV score: -4.293744759783169\n",
      "\n",
      "Generation 8 - Current best internal CV score: -4.293744759783169\n",
      "\n",
      "Generation 9 - Current best internal CV score: -4.293744759783165\n",
      "\n",
      "Generation 10 - Current best internal CV score: -3.7878576813761478\n",
      "\n",
      "Generation 11 - Current best internal CV score: -3.7878576813761478\n",
      "\n",
      "Generation 12 - Current best internal CV score: -3.7878576813761478\n",
      "\n",
      "Generation 13 - Current best internal CV score: -3.7878576813761478\n",
      "\n",
      "Generation 14 - Current best internal CV score: -3.7878576813761478\n",
      "\n",
      "Generation 15 - Current best internal CV score: -3.7878576813761478\n",
      "\n",
      "Generation 16 - Current best internal CV score: -3.7878576813761478\n",
      "\n",
      "Generation 17 - Current best internal CV score: -3.7878576813761478\n",
      "\n",
      "Generation 18 - Current best internal CV score: -3.743729716240607\n",
      "\n",
      "Generation 19 - Current best internal CV score: -3.743729716240607\n",
      "\n",
      "Generation 20 - Current best internal CV score: -3.743729716240607\n",
      "\n",
      "Generation 21 - Current best internal CV score: -3.743729716240607\n",
      "\n",
      "Generation 22 - Current best internal CV score: -3.6995148410179786\n",
      "\n",
      "Generation 23 - Current best internal CV score: -3.6995148410179786\n",
      "\n",
      "Generation 24 - Current best internal CV score: -3.3349213119492744\n",
      "\n",
      "Generation 25 - Current best internal CV score: -3.3349213119492744\n",
      "\n",
      "Generation 26 - Current best internal CV score: -3.3349213119492744\n",
      "\n",
      "Generation 27 - Current best internal CV score: -3.3349213119492744\n",
      "\n",
      "Generation 28 - Current best internal CV score: -3.3349213119492744\n",
      "\n",
      "Generation 29 - Current best internal CV score: -3.3349213119492744\n",
      "\n",
      "Generation 30 - Current best internal CV score: -3.3349213119492744\n",
      "\n",
      "Generation 31 - Current best internal CV score: -3.3349213119492744\n",
      "\n",
      "Generation 32 - Current best internal CV score: -3.3349213119492744\n",
      "\n",
      "Generation 33 - Current best internal CV score: -3.325152948197747\n",
      "\n",
      "Generation 34 - Current best internal CV score: -3.325152948197747\n",
      "\n",
      "30.01 minutes have elapsed. TPOT will close down.\n",
      "TPOT closed during evaluation in one generation.\n",
      "WARNING: TPOT may not provide a good pipeline if TPOT is stopped/interrupted in a early generation.\n",
      "\n",
      "\n",
      "TPOT closed prematurely. Will use the current best pipeline.\n",
      "\n",
      "Best pipeline: LassoLarsCV(SelectFwe(FeatureAgglomeration(AdaBoostRegressor(SelectPercentile(LassoLarsCV(LassoLarsCV(SelectPercentile(SelectPercentile(input_matrix, percentile=59), percentile=77), normalize=False), normalize=True), percentile=17), learning_rate=0.5, loss=square, n_estimators=100), affinity=euclidean, linkage=ward), alpha=0.042), normalize=False)\n"
     ]
    },
    {
     "data": {
      "text/plain": [
       "TPOTRegressor(config_dict=None, crossover_rate=0.1, cv=5,\n",
       "              disable_update_check=False, early_stop=None, generations=100,\n",
       "              log_file=None, max_eval_time_mins=5, max_time_mins=30,\n",
       "              memory=None, mutation_rate=0.9, n_jobs=1, offspring_size=None,\n",
       "              periodic_checkpoint_folder=None, population_size=100,\n",
       "              random_state=None, scoring=None, subsample=1.0, template=None,\n",
       "              use_dask=False, verbosity=2, warm_start=False)"
      ]
     },
     "execution_count": 15,
     "metadata": {
      "tags": []
     },
     "output_type": "execute_result"
    }
   ],
   "source": [
    "tpot = TPOTRegressor(verbosity=2, max_time_mins=30)\n",
    "tpot.fit(X_train, y_train)"
   ]
  },
  {
   "cell_type": "code",
   "execution_count": null,
   "metadata": {
    "colab": {
     "base_uri": "https://localhost:8080/"
    },
    "id": "7GcrAMDr0QC3",
    "outputId": "286145ba-6b57-42a9-8951-0161db38b4b7"
   },
   "outputs": [
    {
     "data": {
      "text/plain": [
       "-7.154441208251601"
      ]
     },
     "execution_count": 16,
     "metadata": {
      "tags": []
     },
     "output_type": "execute_result"
    }
   ],
   "source": [
    "tpot.score(X_test, y_test)"
   ]
  },
  {
   "cell_type": "code",
   "execution_count": null,
   "metadata": {
    "colab": {
     "base_uri": "https://localhost:8080/"
    },
    "id": "ICDOBMiI0QC3",
    "outputId": "5bcb614b-64bb-4a48-a71f-c8bb0bd6b02f"
   },
   "outputs": [
    {
     "data": {
      "text/plain": [
       "Pipeline(memory=None,\n",
       "         steps=[('selectpercentile-1',\n",
       "                 SelectPercentile(percentile=59,\n",
       "                                  score_func=<function f_regression at 0x7f2bd0802dd0>)),\n",
       "                ('selectpercentile-2',\n",
       "                 SelectPercentile(percentile=77,\n",
       "                                  score_func=<function f_regression at 0x7f2bd0802dd0>)),\n",
       "                ('stackingestimator-1',\n",
       "                 StackingEstimator(estimator=LassoLarsCV(copy_X=True, cv=None,\n",
       "                                                         eps=2.220446049250313e-16,\n",
       "                                                         fit...\n",
       "                                      memory=None, n_clusters=2,\n",
       "                                      pooling_func=<function mean at 0x7f2bf28eba70>)),\n",
       "                ('selectfwe',\n",
       "                 SelectFwe(alpha=0.042,\n",
       "                           score_func=<function f_regression at 0x7f2bd0802dd0>)),\n",
       "                ('lassolarscv',\n",
       "                 LassoLarsCV(copy_X=True, cv=None, eps=2.220446049250313e-16,\n",
       "                             fit_intercept=True, max_iter=500,\n",
       "                             max_n_alphas=1000, n_jobs=None, normalize=False,\n",
       "                             positive=False, precompute='auto',\n",
       "                             verbose=False))],\n",
       "         verbose=False)"
      ]
     },
     "execution_count": 17,
     "metadata": {
      "tags": []
     },
     "output_type": "execute_result"
    }
   ],
   "source": [
    "tpot.fitted_pipeline_"
   ]
  },
  {
   "cell_type": "code",
   "execution_count": null,
   "metadata": {
    "id": "rWS037Zs1jiB"
   },
   "outputs": [],
   "source": [
    "tpot.export(f'/content/drive/MyDrive/models/{country}_wt{num}.py')"
   ]
  },
  {
   "cell_type": "code",
   "execution_count": null,
   "metadata": {
    "colab": {
     "base_uri": "https://localhost:8080/"
    },
    "id": "eqOM2VM89Qc5",
    "outputId": "f4b73ab5-a0f4-408d-f7f0-01492c692959"
   },
   "outputs": [
    {
     "data": {
      "text/plain": [
       "7.154441208251601"
      ]
     },
     "execution_count": 19,
     "metadata": {
      "tags": []
     },
     "output_type": "execute_result"
    }
   ],
   "source": [
    "pred = tpot.predict(X_test)\n",
    "from sklearn.metrics import mean_squared_error\n",
    "mean_squared_error(pred, y_test)"
   ]
  },
  {
   "cell_type": "code",
   "execution_count": null,
   "metadata": {
    "colab": {
     "base_uri": "https://localhost:8080/"
    },
    "id": "pxFYaaWC4boz",
    "outputId": "fb8d1142-33c2-40db-88c0-ca884d47fa34"
   },
   "outputs": [
    {
     "data": {
      "text/plain": [
       "-58.90120227619411"
      ]
     },
     "execution_count": 20,
     "metadata": {
      "tags": []
     },
     "output_type": "execute_result"
    }
   ],
   "source": [
    "np.mean(pred-y_test)*100"
   ]
  },
  {
   "cell_type": "code",
   "execution_count": null,
   "metadata": {
    "id": "uHbLApFD9eos"
   },
   "outputs": [],
   "source": []
  }
 ],
 "metadata": {
  "colab": {
   "name": "model optimisation using tpot",
   "provenance": []
  },
  "kernelspec": {
   "display_name": "Python 3",
   "language": "python",
   "name": "python3"
  },
  "language_info": {
   "codemirror_mode": {
    "name": "ipython",
    "version": 3
   },
   "file_extension": ".py",
   "mimetype": "text/x-python",
   "name": "python",
   "nbconvert_exporter": "python",
   "pygments_lexer": "ipython3",
   "version": "3.8.3"
  },
  "widgets": {
   "application/vnd.jupyter.widget-state+json": {
    "553999ab6d14472d81f8c5f67860a3bf": {
     "model_module": "@jupyter-widgets/base",
     "model_name": "LayoutModel",
     "state": {
      "_model_module": "@jupyter-widgets/base",
      "_model_module_version": "1.2.0",
      "_model_name": "LayoutModel",
      "_view_count": null,
      "_view_module": "@jupyter-widgets/base",
      "_view_module_version": "1.2.0",
      "_view_name": "LayoutView",
      "align_content": null,
      "align_items": null,
      "align_self": null,
      "border": null,
      "bottom": null,
      "display": null,
      "flex": null,
      "flex_flow": null,
      "grid_area": null,
      "grid_auto_columns": null,
      "grid_auto_flow": null,
      "grid_auto_rows": null,
      "grid_column": null,
      "grid_gap": null,
      "grid_row": null,
      "grid_template_areas": null,
      "grid_template_columns": null,
      "grid_template_rows": null,
      "height": null,
      "justify_content": null,
      "justify_items": null,
      "left": null,
      "margin": null,
      "max_height": null,
      "max_width": null,
      "min_height": null,
      "min_width": null,
      "object_fit": null,
      "object_position": null,
      "order": null,
      "overflow": null,
      "overflow_x": null,
      "overflow_y": null,
      "padding": null,
      "right": null,
      "top": null,
      "visibility": null,
      "width": null
     }
    },
    "5ad3151503f748b9b788dfcffc0cb19d": {
     "model_module": "@jupyter-widgets/controls",
     "model_name": "FloatProgressModel",
     "state": {
      "_dom_classes": [],
      "_model_module": "@jupyter-widgets/controls",
      "_model_module_version": "1.5.0",
      "_model_name": "FloatProgressModel",
      "_view_count": null,
      "_view_module": "@jupyter-widgets/controls",
      "_view_module_version": "1.5.0",
      "_view_name": "ProgressView",
      "bar_style": "danger",
      "description": "Optimization Progress:  99%",
      "description_tooltip": null,
      "layout": "IPY_MODEL_6ad63c882f324f36a7b666339b1d32d2",
      "max": 100,
      "min": 0,
      "orientation": "horizontal",
      "style": "IPY_MODEL_d18d52e4ddb4496299fdbc8639d60bd9",
      "value": 100
     }
    },
    "651e51e4f47e4193b14072ab6abdd0d6": {
     "model_module": "@jupyter-widgets/controls",
     "model_name": "DescriptionStyleModel",
     "state": {
      "_model_module": "@jupyter-widgets/controls",
      "_model_module_version": "1.5.0",
      "_model_name": "DescriptionStyleModel",
      "_view_count": null,
      "_view_module": "@jupyter-widgets/base",
      "_view_module_version": "1.2.0",
      "_view_name": "StyleView",
      "description_width": ""
     }
    },
    "6ad63c882f324f36a7b666339b1d32d2": {
     "model_module": "@jupyter-widgets/base",
     "model_name": "LayoutModel",
     "state": {
      "_model_module": "@jupyter-widgets/base",
      "_model_module_version": "1.2.0",
      "_model_name": "LayoutModel",
      "_view_count": null,
      "_view_module": "@jupyter-widgets/base",
      "_view_module_version": "1.2.0",
      "_view_name": "LayoutView",
      "align_content": null,
      "align_items": null,
      "align_self": null,
      "border": null,
      "bottom": null,
      "display": null,
      "flex": null,
      "flex_flow": null,
      "grid_area": null,
      "grid_auto_columns": null,
      "grid_auto_flow": null,
      "grid_auto_rows": null,
      "grid_column": null,
      "grid_gap": null,
      "grid_row": null,
      "grid_template_areas": null,
      "grid_template_columns": null,
      "grid_template_rows": null,
      "height": null,
      "justify_content": null,
      "justify_items": null,
      "left": null,
      "margin": null,
      "max_height": null,
      "max_width": null,
      "min_height": null,
      "min_width": null,
      "object_fit": null,
      "object_position": null,
      "order": null,
      "overflow": null,
      "overflow_x": null,
      "overflow_y": null,
      "padding": null,
      "right": null,
      "top": null,
      "visibility": null,
      "width": null
     }
    },
    "9da78fe05ef240018375808dc3868ade": {
     "model_module": "@jupyter-widgets/base",
     "model_name": "LayoutModel",
     "state": {
      "_model_module": "@jupyter-widgets/base",
      "_model_module_version": "1.2.0",
      "_model_name": "LayoutModel",
      "_view_count": null,
      "_view_module": "@jupyter-widgets/base",
      "_view_module_version": "1.2.0",
      "_view_name": "LayoutView",
      "align_content": null,
      "align_items": null,
      "align_self": null,
      "border": null,
      "bottom": null,
      "display": null,
      "flex": null,
      "flex_flow": null,
      "grid_area": null,
      "grid_auto_columns": null,
      "grid_auto_flow": null,
      "grid_auto_rows": null,
      "grid_column": null,
      "grid_gap": null,
      "grid_row": null,
      "grid_template_areas": null,
      "grid_template_columns": null,
      "grid_template_rows": null,
      "height": null,
      "justify_content": null,
      "justify_items": null,
      "left": null,
      "margin": null,
      "max_height": null,
      "max_width": null,
      "min_height": null,
      "min_width": null,
      "object_fit": null,
      "object_position": null,
      "order": null,
      "overflow": null,
      "overflow_x": null,
      "overflow_y": null,
      "padding": null,
      "right": null,
      "top": null,
      "visibility": null,
      "width": null
     }
    },
    "a3515e4a44534764a00fe11a835e1c54": {
     "model_module": "@jupyter-widgets/controls",
     "model_name": "HBoxModel",
     "state": {
      "_dom_classes": [],
      "_model_module": "@jupyter-widgets/controls",
      "_model_module_version": "1.5.0",
      "_model_name": "HBoxModel",
      "_view_count": null,
      "_view_module": "@jupyter-widgets/controls",
      "_view_module_version": "1.5.0",
      "_view_name": "HBoxView",
      "box_style": "",
      "children": [
       "IPY_MODEL_5ad3151503f748b9b788dfcffc0cb19d",
       "IPY_MODEL_c350bae98bf04ffe9b47299e481febd3"
      ],
      "layout": "IPY_MODEL_553999ab6d14472d81f8c5f67860a3bf"
     }
    },
    "c350bae98bf04ffe9b47299e481febd3": {
     "model_module": "@jupyter-widgets/controls",
     "model_name": "HTMLModel",
     "state": {
      "_dom_classes": [],
      "_model_module": "@jupyter-widgets/controls",
      "_model_module_version": "1.5.0",
      "_model_name": "HTMLModel",
      "_view_count": null,
      "_view_module": "@jupyter-widgets/controls",
      "_view_module_version": "1.5.0",
      "_view_name": "HTMLView",
      "description": "",
      "description_tooltip": null,
      "layout": "IPY_MODEL_9da78fe05ef240018375808dc3868ade",
      "placeholder": "​",
      "style": "IPY_MODEL_651e51e4f47e4193b14072ab6abdd0d6",
      "value": " 3570/3600 [29:53&lt;00:20,  1.43pipeline/s]"
     }
    },
    "d18d52e4ddb4496299fdbc8639d60bd9": {
     "model_module": "@jupyter-widgets/controls",
     "model_name": "ProgressStyleModel",
     "state": {
      "_model_module": "@jupyter-widgets/controls",
      "_model_module_version": "1.5.0",
      "_model_name": "ProgressStyleModel",
      "_view_count": null,
      "_view_module": "@jupyter-widgets/base",
      "_view_module_version": "1.2.0",
      "_view_name": "StyleView",
      "bar_color": null,
      "description_width": "initial"
     }
    }
   }
  }
 },
 "nbformat": 4,
 "nbformat_minor": 1
}

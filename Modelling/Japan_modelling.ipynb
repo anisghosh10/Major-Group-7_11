{
 "cells": [
  {
   "cell_type": "code",
   "execution_count": 21,
   "metadata": {},
   "outputs": [],
   "source": [
    "import numpy as np\n",
    "import pandas as pd\n",
    "import matplotlib.pyplot as plt\n",
    "import seaborn as sns\n",
    "from sklearn.metrics import r2_score, mean_squared_error\n",
    "from sklearn.linear_model import LassoLarsCV\n",
    "import random\n",
    "import pickle as pkl"
   ]
  },
  {
   "cell_type": "code",
   "execution_count": 22,
   "metadata": {},
   "outputs": [],
   "source": [
    "random.seed(24)"
   ]
  },
  {
   "cell_type": "code",
   "execution_count": 23,
   "metadata": {},
   "outputs": [
    {
     "data": {
      "text/html": [
       "<div>\n",
       "<style scoped>\n",
       "    .dataframe tbody tr th:only-of-type {\n",
       "        vertical-align: middle;\n",
       "    }\n",
       "\n",
       "    .dataframe tbody tr th {\n",
       "        vertical-align: top;\n",
       "    }\n",
       "\n",
       "    .dataframe thead th {\n",
       "        text-align: right;\n",
       "    }\n",
       "</style>\n",
       "<table border=\"1\" class=\"dataframe\">\n",
       "  <thead>\n",
       "    <tr style=\"text-align: right;\">\n",
       "      <th></th>\n",
       "      <th></th>\n",
       "      <th>GDP_US</th>\n",
       "      <th>INFL_US</th>\n",
       "      <th>GDP</th>\n",
       "      <th>PPP</th>\n",
       "      <th>INFL</th>\n",
       "      <th>FER</th>\n",
       "    </tr>\n",
       "  </thead>\n",
       "  <tbody>\n",
       "    <tr>\n",
       "      <th>0</th>\n",
       "      <td>1981</td>\n",
       "      <td>13976.1</td>\n",
       "      <td>10.334710</td>\n",
       "      <td>10361.3</td>\n",
       "      <td>228.831006</td>\n",
       "      <td>4.912163</td>\n",
       "      <td>220.535833</td>\n",
       "    </tr>\n",
       "    <tr>\n",
       "      <th>1</th>\n",
       "      <td>1982</td>\n",
       "      <td>14433.8</td>\n",
       "      <td>6.131427</td>\n",
       "      <td>9578.1</td>\n",
       "      <td>219.276639</td>\n",
       "      <td>2.741041</td>\n",
       "      <td>249.076667</td>\n",
       "    </tr>\n",
       "    <tr>\n",
       "      <th>2</th>\n",
       "      <td>1983</td>\n",
       "      <td>15543.9</td>\n",
       "      <td>3.212435</td>\n",
       "      <td>10425.4</td>\n",
       "      <td>213.007241</td>\n",
       "      <td>1.899720</td>\n",
       "      <td>237.511667</td>\n",
       "    </tr>\n",
       "    <tr>\n",
       "      <th>3</th>\n",
       "      <td>1984</td>\n",
       "      <td>17121.2</td>\n",
       "      <td>4.300536</td>\n",
       "      <td>10984.9</td>\n",
       "      <td>208.619257</td>\n",
       "      <td>2.261614</td>\n",
       "      <td>237.522500</td>\n",
       "    </tr>\n",
       "    <tr>\n",
       "      <th>4</th>\n",
       "      <td>1985</td>\n",
       "      <td>18236.8</td>\n",
       "      <td>3.545644</td>\n",
       "      <td>11584.6</td>\n",
       "      <td>204.772357</td>\n",
       "      <td>2.032277</td>\n",
       "      <td>238.535833</td>\n",
       "    </tr>\n",
       "  </tbody>\n",
       "</table>\n",
       "</div>"
      ],
      "text/plain": [
       "          GDP_US    INFL_US      GDP         PPP      INFL         FER\n",
       "0  1981  13976.1  10.334710  10361.3  228.831006  4.912163  220.535833\n",
       "1  1982  14433.8   6.131427   9578.1  219.276639  2.741041  249.076667\n",
       "2  1983  15543.9   3.212435  10425.4  213.007241  1.899720  237.511667\n",
       "3  1984  17121.2   4.300536  10984.9  208.619257  2.261614  237.522500\n",
       "4  1985  18236.8   3.545644  11584.6  204.772357  2.032277  238.535833"
      ]
     },
     "execution_count": 23,
     "metadata": {},
     "output_type": "execute_result"
    }
   ],
   "source": [
    "eco_fac = pd.read_csv('eco_japan.csv')\n",
    "eco_fac.head()"
   ]
  },
  {
   "cell_type": "code",
   "execution_count": 24,
   "metadata": {},
   "outputs": [
    {
     "data": {
      "text/html": [
       "<div>\n",
       "<style scoped>\n",
       "    .dataframe tbody tr th:only-of-type {\n",
       "        vertical-align: middle;\n",
       "    }\n",
       "\n",
       "    .dataframe tbody tr th {\n",
       "        vertical-align: top;\n",
       "    }\n",
       "\n",
       "    .dataframe thead th {\n",
       "        text-align: right;\n",
       "    }\n",
       "</style>\n",
       "<table border=\"1\" class=\"dataframe\">\n",
       "  <thead>\n",
       "    <tr style=\"text-align: right;\">\n",
       "      <th></th>\n",
       "      <th>0</th>\n",
       "      <th>1</th>\n",
       "      <th>2</th>\n",
       "      <th>3</th>\n",
       "      <th>4</th>\n",
       "      <th>5</th>\n",
       "      <th>6</th>\n",
       "      <th>7</th>\n",
       "      <th>8</th>\n",
       "      <th>9</th>\n",
       "      <th>10</th>\n",
       "      <th>11</th>\n",
       "      <th>12</th>\n",
       "      <th>13</th>\n",
       "      <th>14</th>\n",
       "    </tr>\n",
       "  </thead>\n",
       "  <tbody>\n",
       "    <tr>\n",
       "      <th>0</th>\n",
       "      <td>0.025855</td>\n",
       "      <td>0.125928</td>\n",
       "      <td>0.054118</td>\n",
       "      <td>0.067509</td>\n",
       "      <td>0.037793</td>\n",
       "      <td>0.062103</td>\n",
       "      <td>0.057768</td>\n",
       "      <td>0.093079</td>\n",
       "      <td>0.032104</td>\n",
       "      <td>0.069524</td>\n",
       "      <td>0.053799</td>\n",
       "      <td>0.089232</td>\n",
       "      <td>0.020576</td>\n",
       "      <td>0.195674</td>\n",
       "      <td>0.014940</td>\n",
       "    </tr>\n",
       "    <tr>\n",
       "      <th>1</th>\n",
       "      <td>0.024390</td>\n",
       "      <td>0.107464</td>\n",
       "      <td>0.049101</td>\n",
       "      <td>0.059169</td>\n",
       "      <td>0.034891</td>\n",
       "      <td>0.060548</td>\n",
       "      <td>0.056063</td>\n",
       "      <td>0.094063</td>\n",
       "      <td>0.027917</td>\n",
       "      <td>0.074106</td>\n",
       "      <td>0.045950</td>\n",
       "      <td>0.088189</td>\n",
       "      <td>0.022177</td>\n",
       "      <td>0.239667</td>\n",
       "      <td>0.016304</td>\n",
       "    </tr>\n",
       "    <tr>\n",
       "      <th>2</th>\n",
       "      <td>0.025450</td>\n",
       "      <td>0.076065</td>\n",
       "      <td>0.035598</td>\n",
       "      <td>0.047638</td>\n",
       "      <td>0.028261</td>\n",
       "      <td>0.041214</td>\n",
       "      <td>0.046687</td>\n",
       "      <td>0.079440</td>\n",
       "      <td>0.030794</td>\n",
       "      <td>0.057839</td>\n",
       "      <td>0.034091</td>\n",
       "      <td>0.071603</td>\n",
       "      <td>0.016388</td>\n",
       "      <td>0.389751</td>\n",
       "      <td>0.019181</td>\n",
       "    </tr>\n",
       "    <tr>\n",
       "      <th>3</th>\n",
       "      <td>0.026685</td>\n",
       "      <td>0.087435</td>\n",
       "      <td>0.042064</td>\n",
       "      <td>0.061242</td>\n",
       "      <td>0.031366</td>\n",
       "      <td>0.051220</td>\n",
       "      <td>0.059974</td>\n",
       "      <td>0.104375</td>\n",
       "      <td>0.038531</td>\n",
       "      <td>0.068460</td>\n",
       "      <td>0.035101</td>\n",
       "      <td>0.074283</td>\n",
       "      <td>0.016077</td>\n",
       "      <td>0.283385</td>\n",
       "      <td>0.019803</td>\n",
       "    </tr>\n",
       "    <tr>\n",
       "      <th>4</th>\n",
       "      <td>0.028514</td>\n",
       "      <td>0.077057</td>\n",
       "      <td>0.046638</td>\n",
       "      <td>0.060663</td>\n",
       "      <td>0.031233</td>\n",
       "      <td>0.060692</td>\n",
       "      <td>0.060507</td>\n",
       "      <td>0.107761</td>\n",
       "      <td>0.041098</td>\n",
       "      <td>0.076824</td>\n",
       "      <td>0.038589</td>\n",
       "      <td>0.085528</td>\n",
       "      <td>0.015696</td>\n",
       "      <td>0.251406</td>\n",
       "      <td>0.017794</td>\n",
       "    </tr>\n",
       "  </tbody>\n",
       "</table>\n",
       "</div>"
      ],
      "text/plain": [
       "          0         1         2         3         4         5         6  \\\n",
       "0  0.025855  0.125928  0.054118  0.067509  0.037793  0.062103  0.057768   \n",
       "1  0.024390  0.107464  0.049101  0.059169  0.034891  0.060548  0.056063   \n",
       "2  0.025450  0.076065  0.035598  0.047638  0.028261  0.041214  0.046687   \n",
       "3  0.026685  0.087435  0.042064  0.061242  0.031366  0.051220  0.059974   \n",
       "4  0.028514  0.077057  0.046638  0.060663  0.031233  0.060692  0.060507   \n",
       "\n",
       "          7         8         9        10        11        12        13  \\\n",
       "0  0.093079  0.032104  0.069524  0.053799  0.089232  0.020576  0.195674   \n",
       "1  0.094063  0.027917  0.074106  0.045950  0.088189  0.022177  0.239667   \n",
       "2  0.079440  0.030794  0.057839  0.034091  0.071603  0.016388  0.389751   \n",
       "3  0.104375  0.038531  0.068460  0.035101  0.074283  0.016077  0.283385   \n",
       "4  0.107761  0.041098  0.076824  0.038589  0.085528  0.015696  0.251406   \n",
       "\n",
       "         14  \n",
       "0  0.014940  \n",
       "1  0.016304  \n",
       "2  0.019181  \n",
       "3  0.019803  \n",
       "4  0.017794  "
      ]
     },
     "execution_count": 24,
     "metadata": {},
     "output_type": "execute_result"
    }
   ],
   "source": [
    "df = pd.read_csv('weights_15.csv')\n",
    "df.head()"
   ]
  },
  {
   "cell_type": "code",
   "execution_count": 25,
   "metadata": {},
   "outputs": [
    {
     "data": {
      "text/plain": [
       "0     0\n",
       "1     0\n",
       "2     0\n",
       "3     0\n",
       "4     0\n",
       "5     0\n",
       "6     0\n",
       "7     0\n",
       "8     0\n",
       "9     0\n",
       "10    0\n",
       "11    0\n",
       "12    0\n",
       "13    0\n",
       "14    0\n",
       "dtype: int64"
      ]
     },
     "execution_count": 25,
     "metadata": {},
     "output_type": "execute_result"
    }
   ],
   "source": [
    "df.isna().sum()"
   ]
  },
  {
   "cell_type": "code",
   "execution_count": 26,
   "metadata": {},
   "outputs": [],
   "source": [
    "new_fer = eco_fac.FER.shift(-1)\n",
    "new_fer = pd.DataFrame(new_fer)\n",
    "new_fer.rename(columns = {'FER':'NEXT_YR_FER'}, inplace=True)"
   ]
  },
  {
   "cell_type": "code",
   "execution_count": 27,
   "metadata": {},
   "outputs": [
    {
     "data": {
      "text/html": [
       "<div>\n",
       "<style scoped>\n",
       "    .dataframe tbody tr th:only-of-type {\n",
       "        vertical-align: middle;\n",
       "    }\n",
       "\n",
       "    .dataframe tbody tr th {\n",
       "        vertical-align: top;\n",
       "    }\n",
       "\n",
       "    .dataframe thead th {\n",
       "        text-align: right;\n",
       "    }\n",
       "</style>\n",
       "<table border=\"1\" class=\"dataframe\">\n",
       "  <thead>\n",
       "    <tr style=\"text-align: right;\">\n",
       "      <th></th>\n",
       "      <th></th>\n",
       "      <th>GDP_US</th>\n",
       "      <th>INFL_US</th>\n",
       "      <th>GDP</th>\n",
       "      <th>PPP</th>\n",
       "      <th>INFL</th>\n",
       "      <th>FER</th>\n",
       "      <th>NEXT_YR_FER</th>\n",
       "    </tr>\n",
       "  </thead>\n",
       "  <tbody>\n",
       "    <tr>\n",
       "      <th>0</th>\n",
       "      <td>1981</td>\n",
       "      <td>13976.1</td>\n",
       "      <td>10.334710</td>\n",
       "      <td>10361.3</td>\n",
       "      <td>228.831006</td>\n",
       "      <td>4.912163</td>\n",
       "      <td>220.535833</td>\n",
       "      <td>249.076667</td>\n",
       "    </tr>\n",
       "    <tr>\n",
       "      <th>1</th>\n",
       "      <td>1982</td>\n",
       "      <td>14433.8</td>\n",
       "      <td>6.131427</td>\n",
       "      <td>9578.1</td>\n",
       "      <td>219.276639</td>\n",
       "      <td>2.741041</td>\n",
       "      <td>249.076667</td>\n",
       "      <td>237.511667</td>\n",
       "    </tr>\n",
       "    <tr>\n",
       "      <th>2</th>\n",
       "      <td>1983</td>\n",
       "      <td>15543.9</td>\n",
       "      <td>3.212435</td>\n",
       "      <td>10425.4</td>\n",
       "      <td>213.007241</td>\n",
       "      <td>1.899720</td>\n",
       "      <td>237.511667</td>\n",
       "      <td>237.522500</td>\n",
       "    </tr>\n",
       "    <tr>\n",
       "      <th>3</th>\n",
       "      <td>1984</td>\n",
       "      <td>17121.2</td>\n",
       "      <td>4.300536</td>\n",
       "      <td>10984.9</td>\n",
       "      <td>208.619257</td>\n",
       "      <td>2.261614</td>\n",
       "      <td>237.522500</td>\n",
       "      <td>238.535833</td>\n",
       "    </tr>\n",
       "    <tr>\n",
       "      <th>4</th>\n",
       "      <td>1985</td>\n",
       "      <td>18236.8</td>\n",
       "      <td>3.545644</td>\n",
       "      <td>11584.6</td>\n",
       "      <td>204.772357</td>\n",
       "      <td>2.032277</td>\n",
       "      <td>238.535833</td>\n",
       "      <td>168.519833</td>\n",
       "    </tr>\n",
       "  </tbody>\n",
       "</table>\n",
       "</div>"
      ],
      "text/plain": [
       "          GDP_US    INFL_US      GDP         PPP      INFL         FER  \\\n",
       "0  1981  13976.1  10.334710  10361.3  228.831006  4.912163  220.535833   \n",
       "1  1982  14433.8   6.131427   9578.1  219.276639  2.741041  249.076667   \n",
       "2  1983  15543.9   3.212435  10425.4  213.007241  1.899720  237.511667   \n",
       "3  1984  17121.2   4.300536  10984.9  208.619257  2.261614  237.522500   \n",
       "4  1985  18236.8   3.545644  11584.6  204.772357  2.032277  238.535833   \n",
       "\n",
       "   NEXT_YR_FER  \n",
       "0   249.076667  \n",
       "1   237.511667  \n",
       "2   237.522500  \n",
       "3   238.535833  \n",
       "4   168.519833  "
      ]
     },
     "execution_count": 27,
     "metadata": {},
     "output_type": "execute_result"
    }
   ],
   "source": [
    "data = pd.concat([eco_fac,new_fer],axis=1)\n",
    "data.head()"
   ]
  },
  {
   "cell_type": "code",
   "execution_count": 29,
   "metadata": {},
   "outputs": [
    {
     "data": {
      "text/html": [
       "<div>\n",
       "<style scoped>\n",
       "    .dataframe tbody tr th:only-of-type {\n",
       "        vertical-align: middle;\n",
       "    }\n",
       "\n",
       "    .dataframe tbody tr th {\n",
       "        vertical-align: top;\n",
       "    }\n",
       "\n",
       "    .dataframe thead th {\n",
       "        text-align: right;\n",
       "    }\n",
       "</style>\n",
       "<table border=\"1\" class=\"dataframe\">\n",
       "  <thead>\n",
       "    <tr style=\"text-align: right;\">\n",
       "      <th></th>\n",
       "      <th>0</th>\n",
       "      <th>1</th>\n",
       "      <th>2</th>\n",
       "      <th>3</th>\n",
       "      <th>4</th>\n",
       "      <th>5</th>\n",
       "      <th>6</th>\n",
       "      <th>7</th>\n",
       "      <th>8</th>\n",
       "      <th>9</th>\n",
       "      <th>10</th>\n",
       "      <th>11</th>\n",
       "      <th>12</th>\n",
       "      <th>13</th>\n",
       "      <th>14</th>\n",
       "      <th>GDP</th>\n",
       "      <th>FER</th>\n",
       "      <th>NEXT_YR_FER</th>\n",
       "    </tr>\n",
       "  </thead>\n",
       "  <tbody>\n",
       "    <tr>\n",
       "      <th>0</th>\n",
       "      <td>0.025855</td>\n",
       "      <td>0.125928</td>\n",
       "      <td>0.054118</td>\n",
       "      <td>0.067509</td>\n",
       "      <td>0.037793</td>\n",
       "      <td>0.062103</td>\n",
       "      <td>0.057768</td>\n",
       "      <td>0.093079</td>\n",
       "      <td>0.032104</td>\n",
       "      <td>0.069524</td>\n",
       "      <td>0.053799</td>\n",
       "      <td>0.089232</td>\n",
       "      <td>0.020576</td>\n",
       "      <td>0.195674</td>\n",
       "      <td>0.014940</td>\n",
       "      <td>10361.3</td>\n",
       "      <td>220.535833</td>\n",
       "      <td>249.076667</td>\n",
       "    </tr>\n",
       "    <tr>\n",
       "      <th>1</th>\n",
       "      <td>0.024390</td>\n",
       "      <td>0.107464</td>\n",
       "      <td>0.049101</td>\n",
       "      <td>0.059169</td>\n",
       "      <td>0.034891</td>\n",
       "      <td>0.060548</td>\n",
       "      <td>0.056063</td>\n",
       "      <td>0.094063</td>\n",
       "      <td>0.027917</td>\n",
       "      <td>0.074106</td>\n",
       "      <td>0.045950</td>\n",
       "      <td>0.088189</td>\n",
       "      <td>0.022177</td>\n",
       "      <td>0.239667</td>\n",
       "      <td>0.016304</td>\n",
       "      <td>9578.1</td>\n",
       "      <td>249.076667</td>\n",
       "      <td>237.511667</td>\n",
       "    </tr>\n",
       "    <tr>\n",
       "      <th>2</th>\n",
       "      <td>0.025450</td>\n",
       "      <td>0.076065</td>\n",
       "      <td>0.035598</td>\n",
       "      <td>0.047638</td>\n",
       "      <td>0.028261</td>\n",
       "      <td>0.041214</td>\n",
       "      <td>0.046687</td>\n",
       "      <td>0.079440</td>\n",
       "      <td>0.030794</td>\n",
       "      <td>0.057839</td>\n",
       "      <td>0.034091</td>\n",
       "      <td>0.071603</td>\n",
       "      <td>0.016388</td>\n",
       "      <td>0.389751</td>\n",
       "      <td>0.019181</td>\n",
       "      <td>10425.4</td>\n",
       "      <td>237.511667</td>\n",
       "      <td>237.522500</td>\n",
       "    </tr>\n",
       "    <tr>\n",
       "      <th>3</th>\n",
       "      <td>0.026685</td>\n",
       "      <td>0.087435</td>\n",
       "      <td>0.042064</td>\n",
       "      <td>0.061242</td>\n",
       "      <td>0.031366</td>\n",
       "      <td>0.051220</td>\n",
       "      <td>0.059974</td>\n",
       "      <td>0.104375</td>\n",
       "      <td>0.038531</td>\n",
       "      <td>0.068460</td>\n",
       "      <td>0.035101</td>\n",
       "      <td>0.074283</td>\n",
       "      <td>0.016077</td>\n",
       "      <td>0.283385</td>\n",
       "      <td>0.019803</td>\n",
       "      <td>10984.9</td>\n",
       "      <td>237.522500</td>\n",
       "      <td>238.535833</td>\n",
       "    </tr>\n",
       "    <tr>\n",
       "      <th>4</th>\n",
       "      <td>0.028514</td>\n",
       "      <td>0.077057</td>\n",
       "      <td>0.046638</td>\n",
       "      <td>0.060663</td>\n",
       "      <td>0.031233</td>\n",
       "      <td>0.060692</td>\n",
       "      <td>0.060507</td>\n",
       "      <td>0.107761</td>\n",
       "      <td>0.041098</td>\n",
       "      <td>0.076824</td>\n",
       "      <td>0.038589</td>\n",
       "      <td>0.085528</td>\n",
       "      <td>0.015696</td>\n",
       "      <td>0.251406</td>\n",
       "      <td>0.017794</td>\n",
       "      <td>11584.6</td>\n",
       "      <td>238.535833</td>\n",
       "      <td>168.519833</td>\n",
       "    </tr>\n",
       "  </tbody>\n",
       "</table>\n",
       "</div>"
      ],
      "text/plain": [
       "          0         1         2         3         4         5         6  \\\n",
       "0  0.025855  0.125928  0.054118  0.067509  0.037793  0.062103  0.057768   \n",
       "1  0.024390  0.107464  0.049101  0.059169  0.034891  0.060548  0.056063   \n",
       "2  0.025450  0.076065  0.035598  0.047638  0.028261  0.041214  0.046687   \n",
       "3  0.026685  0.087435  0.042064  0.061242  0.031366  0.051220  0.059974   \n",
       "4  0.028514  0.077057  0.046638  0.060663  0.031233  0.060692  0.060507   \n",
       "\n",
       "          7         8         9        10        11        12        13  \\\n",
       "0  0.093079  0.032104  0.069524  0.053799  0.089232  0.020576  0.195674   \n",
       "1  0.094063  0.027917  0.074106  0.045950  0.088189  0.022177  0.239667   \n",
       "2  0.079440  0.030794  0.057839  0.034091  0.071603  0.016388  0.389751   \n",
       "3  0.104375  0.038531  0.068460  0.035101  0.074283  0.016077  0.283385   \n",
       "4  0.107761  0.041098  0.076824  0.038589  0.085528  0.015696  0.251406   \n",
       "\n",
       "         14      GDP         FER  NEXT_YR_FER  \n",
       "0  0.014940  10361.3  220.535833   249.076667  \n",
       "1  0.016304   9578.1  249.076667   237.511667  \n",
       "2  0.019181  10425.4  237.511667   237.522500  \n",
       "3  0.019803  10984.9  237.522500   238.535833  \n",
       "4  0.017794  11584.6  238.535833   168.519833  "
      ]
     },
     "execution_count": 29,
     "metadata": {},
     "output_type": "execute_result"
    }
   ],
   "source": [
    "data = pd.concat([df,data],axis=1)\n",
    "data.head()"
   ]
  },
  {
   "cell_type": "code",
   "execution_count": 30,
   "metadata": {},
   "outputs": [],
   "source": [
    "data = data.dropna()"
   ]
  },
  {
   "cell_type": "code",
   "execution_count": 31,
   "metadata": {},
   "outputs": [
    {
     "data": {
      "text/plain": [
       "(38, 18)"
      ]
     },
     "execution_count": 31,
     "metadata": {},
     "output_type": "execute_result"
    }
   ],
   "source": [
    "data.shape"
   ]
  },
  {
   "cell_type": "code",
   "execution_count": 32,
   "metadata": {},
   "outputs": [],
   "source": [
    "X = data.iloc[:,:-1]\n",
    "y = data.iloc[:,-1]"
   ]
  },
  {
   "cell_type": "code",
   "execution_count": 33,
   "metadata": {},
   "outputs": [],
   "source": [
    "from sklearn.model_selection import train_test_split\n",
    "from sklearn.preprocessing import StandardScaler, MinMaxScaler"
   ]
  },
  {
   "cell_type": "code",
   "execution_count": 34,
   "metadata": {},
   "outputs": [],
   "source": [
    "minmax = MinMaxScaler()\n",
    "scaler = StandardScaler()"
   ]
  },
  {
   "cell_type": "code",
   "execution_count": 35,
   "metadata": {},
   "outputs": [],
   "source": [
    "X_s = scaler.fit_transform(X) # standard scaled data\n",
    "X_m = minmax.fit_transform(X) # minmax scaled data"
   ]
  },
  {
   "cell_type": "code",
   "execution_count": 36,
   "metadata": {},
   "outputs": [],
   "source": [
    "X_train, X_test, y_train, y_test = train_test_split(X, y, test_size=0.2, random_state=None)\n",
    "X_train_s, X_test_s, y_train, y_test = train_test_split(X_s, y, test_size=0.2, random_state=None)\n",
    "X_train_m, X_test_m, y_train, y_test = train_test_split(X_m, y, test_size=0.2, random_state=None)"
   ]
  },
  {
   "cell_type": "code",
   "execution_count": 37,
   "metadata": {},
   "outputs": [
    {
     "data": {
      "text/plain": [
       "-2475.4894446089743"
      ]
     },
     "execution_count": 37,
     "metadata": {},
     "output_type": "execute_result"
    }
   ],
   "source": [
    "# Change model here\n",
    "\n",
    "from sklearn.model_selection import cross_val_score\n",
    "score = cross_val_score(LassoLarsCV(normalize=False), X_train, y_train, cv=5, scoring='neg_mean_squared_error')\n",
    "score.mean()"
   ]
  },
  {
   "cell_type": "code",
   "execution_count": 38,
   "metadata": {},
   "outputs": [
    {
     "data": {
      "text/plain": [
       "-395.0515939258618"
      ]
     },
     "execution_count": 38,
     "metadata": {},
     "output_type": "execute_result"
    }
   ],
   "source": [
    "# Change model here\n",
    "\n",
    "score = cross_val_score(LassoLarsCV(normalize=False), X_train_m, y_train, cv=5, scoring='neg_mean_squared_error')\n",
    "score.mean()"
   ]
  },
  {
   "cell_type": "code",
   "execution_count": 39,
   "metadata": {},
   "outputs": [
    {
     "data": {
      "text/plain": [
       "-2413.6899859294626"
      ]
     },
     "execution_count": 39,
     "metadata": {},
     "output_type": "execute_result"
    }
   ],
   "source": [
    "# Change model here\n",
    "\n",
    "score = cross_val_score(LassoLarsCV(normalize=False), X_train_s, y_train, cv=5, scoring='neg_mean_squared_error')\n",
    "score.mean()"
   ]
  },
  {
   "cell_type": "code",
   "execution_count": 40,
   "metadata": {},
   "outputs": [
    {
     "name": "stdout",
     "output_type": "stream",
     "text": [
      "MSE : 323.36330124541576\n",
      "R2 : 0.0\n",
      "Error :  -0.12285576922952905\n"
     ]
    }
   ],
   "source": [
    "# Original \n",
    "model_orig = LassoLarsCV(normalize=False) # change model here\n",
    "model_orig.fit(X_train, y_train)\n",
    "pred = model_orig.predict(X_test)\n",
    "print('MSE :',mean_squared_error(pred, y_test))\n",
    "print('R2 :',r2_score(pred,y_test))\n",
    "print('Error : ',((y_test-pred)/y_test).mean())"
   ]
  },
  {
   "cell_type": "code",
   "execution_count": 41,
   "metadata": {},
   "outputs": [
    {
     "data": {
      "text/plain": [
       "32   -24.786276\n",
       "6     -2.579390\n",
       "21   -14.797594\n",
       "37   -21.721391\n",
       "18   -22.965559\n",
       "11   -19.533271\n",
       "8     14.061442\n",
       "25   -12.977528\n",
       "Name: NEXT_YR_FER, dtype: float64"
      ]
     },
     "execution_count": 41,
     "metadata": {},
     "output_type": "execute_result"
    }
   ],
   "source": [
    "(y_test-pred) # check the variations"
   ]
  },
  {
   "cell_type": "code",
   "execution_count": 42,
   "metadata": {},
   "outputs": [
    {
     "name": "stdout",
     "output_type": "stream",
     "text": [
      "MSE : 79.72392753658737\n",
      "R2 : 0.17066712388718108\n",
      "Error :  -0.036398952611313234\n"
     ]
    }
   ],
   "source": [
    "# MinMax Scaled \n",
    "model_minmax = LassoLarsCV(normalize=False) # Change model here\n",
    "model_minmax.fit(X_train_m, y_train)\n",
    "pred = model_minmax.predict(X_test_m)\n",
    "print('MSE :',mean_squared_error(pred, y_test))\n",
    "print('R2 :',r2_score(pred,y_test))\n",
    "print('Error : ',((y_test-pred)/y_test).mean())"
   ]
  },
  {
   "cell_type": "code",
   "execution_count": 43,
   "metadata": {},
   "outputs": [
    {
     "data": {
      "text/plain": [
       "32     2.057740\n",
       "6     -8.974061\n",
       "21    -9.320060\n",
       "37    -8.501103\n",
       "18    -7.391417\n",
       "11   -13.022689\n",
       "8     12.916632\n",
       "25     1.681726\n",
       "Name: NEXT_YR_FER, dtype: float64"
      ]
     },
     "execution_count": 43,
     "metadata": {},
     "output_type": "execute_result"
    }
   ],
   "source": [
    "(y_test-pred) # check the variation"
   ]
  },
  {
   "cell_type": "code",
   "execution_count": 44,
   "metadata": {},
   "outputs": [
    {
     "name": "stdout",
     "output_type": "stream",
     "text": [
      "MSE : 323.36330124541576\n",
      "R2 : 0.0\n",
      "Error :  -0.12285576922952905\n"
     ]
    }
   ],
   "source": [
    "# Standard Scaled \n",
    "model_stand = LassoLarsCV(normalize=False) # Change model here\n",
    "model_stand.fit(X_train_s, y_train)\n",
    "pred = model_stand.predict(X_test_s)\n",
    "print('MSE :',mean_squared_error(pred, y_test))\n",
    "print('R2 :',r2_score(pred,y_test))\n",
    "print('Error : ',((y_test-pred)/y_test).mean())"
   ]
  },
  {
   "cell_type": "code",
   "execution_count": 45,
   "metadata": {},
   "outputs": [
    {
     "data": {
      "text/plain": [
       "32   -24.786276\n",
       "6     -2.579390\n",
       "21   -14.797594\n",
       "37   -21.721391\n",
       "18   -22.965559\n",
       "11   -19.533271\n",
       "8     14.061442\n",
       "25   -12.977528\n",
       "Name: NEXT_YR_FER, dtype: float64"
      ]
     },
     "execution_count": 45,
     "metadata": {},
     "output_type": "execute_result"
    }
   ],
   "source": [
    "(y_test-pred) # check the variations"
   ]
  },
  {
   "cell_type": "code",
   "execution_count": 48,
   "metadata": {},
   "outputs": [],
   "source": [
    "# Save the best perform ming model only after instructions\n",
    "\n",
    "pkl.dump(model_minmax, open('model_japan.pkl','wb'))"
   ]
  },
  {
   "cell_type": "code",
   "execution_count": 49,
   "metadata": {},
   "outputs": [],
   "source": [
    "# dont uncomment until said to\n",
    "# if we use scaling\n",
    "pkl.dump(minmax, open('scaler_japan.pkl','wb'))"
   ]
  },
  {
   "cell_type": "code",
   "execution_count": null,
   "metadata": {},
   "outputs": [],
   "source": []
  }
 ],
 "metadata": {
  "kernelspec": {
   "display_name": "Python 3",
   "language": "python",
   "name": "python3"
  },
  "language_info": {
   "codemirror_mode": {
    "name": "ipython",
    "version": 3
   },
   "file_extension": ".py",
   "mimetype": "text/x-python",
   "name": "python",
   "nbconvert_exporter": "python",
   "pygments_lexer": "ipython3",
   "version": "3.8.3"
  }
 },
 "nbformat": 4,
 "nbformat_minor": 4
}

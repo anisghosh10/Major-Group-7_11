{
  "nbformat": 4,
  "nbformat_minor": 0,
  "metadata": {
    "kernelspec": {
      "display_name": "Python 3",
      "language": "python",
      "name": "python3"
    },
    "language_info": {
      "codemirror_mode": {
        "name": "ipython",
        "version": 3
      },
      "file_extension": ".py",
      "mimetype": "text/x-python",
      "name": "python",
      "nbconvert_exporter": "python",
      "pygments_lexer": "ipython3",
      "version": "3.7.3"
    },
    "colab": {
      "name": "SIX_COUNTRIES_FER.ipynb",
      "provenance": [],
      "toc_visible": true
    }
  },
  "cells": [
    {
      "cell_type": "markdown",
      "metadata": {
        "id": "SZgkJofacjcw"
      },
      "source": [
        "## Import Libraries"
      ]
    },
    {
      "cell_type": "code",
      "metadata": {
        "id": "NSoJ9AWtcjc-"
      },
      "source": [
        "import numpy as np\n",
        "import pandas as pd\n",
        "import matplotlib.pyplot as plt\n",
        "import seaborn as sns"
      ],
      "execution_count": 1,
      "outputs": []
    },
    {
      "cell_type": "markdown",
      "metadata": {
        "id": "i74ZQMPCcjdA"
      },
      "source": [
        "## Importing the dataset"
      ]
    },
    {
      "cell_type": "code",
      "metadata": {
        "id": "pCcINFokcjdC"
      },
      "source": [
        "country_fer = pd.read_csv(\"Foreign Exhcnage Rate.csv\")"
      ],
      "execution_count": 2,
      "outputs": []
    },
    {
      "cell_type": "code",
      "metadata": {
        "colab": {
          "base_uri": "https://localhost:8080/",
          "height": 244
        },
        "id": "oI9C1rwwcjdD",
        "outputId": "8a97bac0-3e86-4544-a8d1-ba276689900d"
      },
      "source": [
        "country_fer.head()"
      ],
      "execution_count": 3,
      "outputs": [
        {
          "output_type": "execute_result",
          "data": {
            "text/html": [
              "<div>\n",
              "<style scoped>\n",
              "    .dataframe tbody tr th:only-of-type {\n",
              "        vertical-align: middle;\n",
              "    }\n",
              "\n",
              "    .dataframe tbody tr th {\n",
              "        vertical-align: top;\n",
              "    }\n",
              "\n",
              "    .dataframe thead th {\n",
              "        text-align: right;\n",
              "    }\n",
              "</style>\n",
              "<table border=\"1\" class=\"dataframe\">\n",
              "  <thead>\n",
              "    <tr style=\"text-align: right;\">\n",
              "      <th></th>\n",
              "      <th>Unnamed: 0</th>\n",
              "      <th>1981</th>\n",
              "      <th>1982</th>\n",
              "      <th>1983</th>\n",
              "      <th>1984</th>\n",
              "      <th>1985</th>\n",
              "      <th>1986</th>\n",
              "      <th>1987</th>\n",
              "      <th>1988</th>\n",
              "      <th>1989</th>\n",
              "      <th>1990</th>\n",
              "      <th>1991</th>\n",
              "      <th>1992</th>\n",
              "      <th>1993</th>\n",
              "      <th>1994</th>\n",
              "      <th>1995</th>\n",
              "      <th>1996</th>\n",
              "      <th>1997</th>\n",
              "      <th>1998</th>\n",
              "      <th>1999</th>\n",
              "      <th>2000</th>\n",
              "      <th>2001</th>\n",
              "      <th>2002</th>\n",
              "      <th>2003</th>\n",
              "      <th>2004</th>\n",
              "      <th>2005</th>\n",
              "      <th>2006</th>\n",
              "      <th>2007</th>\n",
              "      <th>2008</th>\n",
              "      <th>2009</th>\n",
              "      <th>2010</th>\n",
              "      <th>2011</th>\n",
              "      <th>2012</th>\n",
              "      <th>2013</th>\n",
              "      <th>2014</th>\n",
              "      <th>2015</th>\n",
              "      <th>2016</th>\n",
              "      <th>2017</th>\n",
              "      <th>2018</th>\n",
              "      <th>2019</th>\n",
              "      <th>2020</th>\n",
              "    </tr>\n",
              "  </thead>\n",
              "  <tbody>\n",
              "    <tr>\n",
              "      <th>0</th>\n",
              "      <td>USA</td>\n",
              "      <td>1.000000</td>\n",
              "      <td>1.000000</td>\n",
              "      <td>1.000000</td>\n",
              "      <td>1.000000</td>\n",
              "      <td>1.000000</td>\n",
              "      <td>1.000000</td>\n",
              "      <td>1.000000</td>\n",
              "      <td>1.000000</td>\n",
              "      <td>1.000000</td>\n",
              "      <td>1.000000</td>\n",
              "      <td>1.000000</td>\n",
              "      <td>1.000000</td>\n",
              "      <td>1.000000</td>\n",
              "      <td>1.000000</td>\n",
              "      <td>1.000000</td>\n",
              "      <td>1.000000</td>\n",
              "      <td>1.000000</td>\n",
              "      <td>1.000000</td>\n",
              "      <td>1.000000</td>\n",
              "      <td>1.000000</td>\n",
              "      <td>1.000000</td>\n",
              "      <td>1.000000</td>\n",
              "      <td>1.000000</td>\n",
              "      <td>1.000000</td>\n",
              "      <td>1.000000</td>\n",
              "      <td>1.000000</td>\n",
              "      <td>1.000000</td>\n",
              "      <td>1.000000</td>\n",
              "      <td>1.000000</td>\n",
              "      <td>1.000000</td>\n",
              "      <td>1.000000</td>\n",
              "      <td>1.000000</td>\n",
              "      <td>1.000000</td>\n",
              "      <td>1.000000</td>\n",
              "      <td>1.000000</td>\n",
              "      <td>1.000000</td>\n",
              "      <td>1.000000</td>\n",
              "      <td>1.000000</td>\n",
              "      <td>1.000000</td>\n",
              "      <td>NaN</td>\n",
              "    </tr>\n",
              "    <tr>\n",
              "      <th>1</th>\n",
              "      <td>CHINA</td>\n",
              "      <td>1.704542</td>\n",
              "      <td>1.892542</td>\n",
              "      <td>1.975675</td>\n",
              "      <td>2.320042</td>\n",
              "      <td>2.936658</td>\n",
              "      <td>3.452792</td>\n",
              "      <td>3.722100</td>\n",
              "      <td>3.722100</td>\n",
              "      <td>3.765108</td>\n",
              "      <td>4.783208</td>\n",
              "      <td>5.323392</td>\n",
              "      <td>5.514592</td>\n",
              "      <td>5.761958</td>\n",
              "      <td>8.618743</td>\n",
              "      <td>8.351417</td>\n",
              "      <td>8.314175</td>\n",
              "      <td>8.289817</td>\n",
              "      <td>8.278958</td>\n",
              "      <td>8.278250</td>\n",
              "      <td>8.278504</td>\n",
              "      <td>8.277068</td>\n",
              "      <td>8.276958</td>\n",
              "      <td>8.277037</td>\n",
              "      <td>8.276801</td>\n",
              "      <td>8.194317</td>\n",
              "      <td>7.973438</td>\n",
              "      <td>7.607532</td>\n",
              "      <td>6.948655</td>\n",
              "      <td>6.831416</td>\n",
              "      <td>6.770269</td>\n",
              "      <td>6.461461</td>\n",
              "      <td>6.312333</td>\n",
              "      <td>6.195758</td>\n",
              "      <td>6.143434</td>\n",
              "      <td>6.227489</td>\n",
              "      <td>6.644478</td>\n",
              "      <td>6.758755</td>\n",
              "      <td>6.615957</td>\n",
              "      <td>6.908385</td>\n",
              "      <td>NaN</td>\n",
              "    </tr>\n",
              "    <tr>\n",
              "      <th>2</th>\n",
              "      <td>INDIA</td>\n",
              "      <td>8.658523</td>\n",
              "      <td>9.455132</td>\n",
              "      <td>10.098898</td>\n",
              "      <td>11.362583</td>\n",
              "      <td>12.368750</td>\n",
              "      <td>12.610833</td>\n",
              "      <td>12.961500</td>\n",
              "      <td>13.917083</td>\n",
              "      <td>16.225500</td>\n",
              "      <td>17.503500</td>\n",
              "      <td>22.742433</td>\n",
              "      <td>25.918083</td>\n",
              "      <td>30.493292</td>\n",
              "      <td>31.373742</td>\n",
              "      <td>32.427077</td>\n",
              "      <td>35.433173</td>\n",
              "      <td>36.313286</td>\n",
              "      <td>41.259365</td>\n",
              "      <td>43.055428</td>\n",
              "      <td>44.941605</td>\n",
              "      <td>47.186414</td>\n",
              "      <td>48.610319</td>\n",
              "      <td>46.583284</td>\n",
              "      <td>45.316467</td>\n",
              "      <td>44.099975</td>\n",
              "      <td>45.307008</td>\n",
              "      <td>41.348533</td>\n",
              "      <td>43.505183</td>\n",
              "      <td>48.405267</td>\n",
              "      <td>45.725812</td>\n",
              "      <td>46.670467</td>\n",
              "      <td>53.437233</td>\n",
              "      <td>58.597845</td>\n",
              "      <td>61.029514</td>\n",
              "      <td>64.151944</td>\n",
              "      <td>67.195313</td>\n",
              "      <td>65.121569</td>\n",
              "      <td>68.389467</td>\n",
              "      <td>70.419969</td>\n",
              "      <td>NaN</td>\n",
              "    </tr>\n",
              "    <tr>\n",
              "      <th>3</th>\n",
              "      <td>JAPAN</td>\n",
              "      <td>220.535833</td>\n",
              "      <td>249.076667</td>\n",
              "      <td>237.511667</td>\n",
              "      <td>237.522500</td>\n",
              "      <td>238.535833</td>\n",
              "      <td>168.519833</td>\n",
              "      <td>144.637500</td>\n",
              "      <td>128.151667</td>\n",
              "      <td>137.964417</td>\n",
              "      <td>144.792500</td>\n",
              "      <td>134.706667</td>\n",
              "      <td>126.651333</td>\n",
              "      <td>111.197786</td>\n",
              "      <td>102.207806</td>\n",
              "      <td>94.059579</td>\n",
              "      <td>108.779057</td>\n",
              "      <td>120.990863</td>\n",
              "      <td>130.905301</td>\n",
              "      <td>113.906805</td>\n",
              "      <td>107.765498</td>\n",
              "      <td>121.528948</td>\n",
              "      <td>125.388019</td>\n",
              "      <td>115.933464</td>\n",
              "      <td>108.192569</td>\n",
              "      <td>110.218212</td>\n",
              "      <td>116.299312</td>\n",
              "      <td>117.753529</td>\n",
              "      <td>103.359494</td>\n",
              "      <td>93.570089</td>\n",
              "      <td>87.779875</td>\n",
              "      <td>79.807020</td>\n",
              "      <td>79.790455</td>\n",
              "      <td>97.595658</td>\n",
              "      <td>105.944781</td>\n",
              "      <td>121.044026</td>\n",
              "      <td>108.792900</td>\n",
              "      <td>112.166141</td>\n",
              "      <td>110.423179</td>\n",
              "      <td>109.009666</td>\n",
              "      <td>NaN</td>\n",
              "    </tr>\n",
              "    <tr>\n",
              "      <th>4</th>\n",
              "      <td>UK</td>\n",
              "      <td>0.497641</td>\n",
              "      <td>0.572447</td>\n",
              "      <td>0.659725</td>\n",
              "      <td>0.751807</td>\n",
              "      <td>0.779246</td>\n",
              "      <td>0.682197</td>\n",
              "      <td>0.611927</td>\n",
              "      <td>0.562170</td>\n",
              "      <td>0.611173</td>\n",
              "      <td>0.563177</td>\n",
              "      <td>0.567015</td>\n",
              "      <td>0.569774</td>\n",
              "      <td>0.666757</td>\n",
              "      <td>0.653427</td>\n",
              "      <td>0.633668</td>\n",
              "      <td>0.640958</td>\n",
              "      <td>0.610836</td>\n",
              "      <td>0.603824</td>\n",
              "      <td>0.618057</td>\n",
              "      <td>0.660931</td>\n",
              "      <td>0.694655</td>\n",
              "      <td>0.667223</td>\n",
              "      <td>0.612472</td>\n",
              "      <td>0.546180</td>\n",
              "      <td>0.549998</td>\n",
              "      <td>0.543487</td>\n",
              "      <td>0.499772</td>\n",
              "      <td>0.543966</td>\n",
              "      <td>0.641919</td>\n",
              "      <td>0.647179</td>\n",
              "      <td>0.624141</td>\n",
              "      <td>0.633047</td>\n",
              "      <td>0.639661</td>\n",
              "      <td>0.607730</td>\n",
              "      <td>0.654545</td>\n",
              "      <td>0.740634</td>\n",
              "      <td>0.776977</td>\n",
              "      <td>0.749532</td>\n",
              "      <td>0.783445</td>\n",
              "      <td>NaN</td>\n",
              "    </tr>\n",
              "  </tbody>\n",
              "</table>\n",
              "</div>"
            ],
            "text/plain": [
              "  Unnamed: 0        1981        1982  ...        2018        2019  2020\n",
              "0        USA    1.000000    1.000000  ...    1.000000    1.000000   NaN\n",
              "1      CHINA    1.704542    1.892542  ...    6.615957    6.908385   NaN\n",
              "2      INDIA    8.658523    9.455132  ...   68.389467   70.419969   NaN\n",
              "3      JAPAN  220.535833  249.076667  ...  110.423179  109.009666   NaN\n",
              "4         UK    0.497641    0.572447  ...    0.749532    0.783445   NaN\n",
              "\n",
              "[5 rows x 41 columns]"
            ]
          },
          "metadata": {
            "tags": []
          },
          "execution_count": 3
        }
      ]
    },
    {
      "cell_type": "code",
      "metadata": {
        "colab": {
          "base_uri": "https://localhost:8080/"
        },
        "id": "fKt6ay1WcjdE",
        "outputId": "4f640274-f1a2-4067-8a90-a3c711f8ee27"
      },
      "source": [
        "country_fer.shape"
      ],
      "execution_count": 4,
      "outputs": [
        {
          "output_type": "execute_result",
          "data": {
            "text/plain": [
              "(7, 41)"
            ]
          },
          "metadata": {
            "tags": []
          },
          "execution_count": 4
        }
      ]
    },
    {
      "cell_type": "code",
      "metadata": {
        "id": "25q3YjGncjdG"
      },
      "source": [
        "FER = country_fer.T"
      ],
      "execution_count": 5,
      "outputs": []
    },
    {
      "cell_type": "code",
      "metadata": {
        "colab": {
          "base_uri": "https://localhost:8080/",
          "height": 206
        },
        "id": "c7VEBYJRcjdG",
        "outputId": "930dfead-9069-428b-a04d-bb28cb873e7a"
      },
      "source": [
        "FER.head()"
      ],
      "execution_count": 6,
      "outputs": [
        {
          "output_type": "execute_result",
          "data": {
            "text/html": [
              "<div>\n",
              "<style scoped>\n",
              "    .dataframe tbody tr th:only-of-type {\n",
              "        vertical-align: middle;\n",
              "    }\n",
              "\n",
              "    .dataframe tbody tr th {\n",
              "        vertical-align: top;\n",
              "    }\n",
              "\n",
              "    .dataframe thead th {\n",
              "        text-align: right;\n",
              "    }\n",
              "</style>\n",
              "<table border=\"1\" class=\"dataframe\">\n",
              "  <thead>\n",
              "    <tr style=\"text-align: right;\">\n",
              "      <th></th>\n",
              "      <th>0</th>\n",
              "      <th>1</th>\n",
              "      <th>2</th>\n",
              "      <th>3</th>\n",
              "      <th>4</th>\n",
              "      <th>5</th>\n",
              "      <th>6</th>\n",
              "    </tr>\n",
              "  </thead>\n",
              "  <tbody>\n",
              "    <tr>\n",
              "      <th>Unnamed: 0</th>\n",
              "      <td>USA</td>\n",
              "      <td>CHINA</td>\n",
              "      <td>INDIA</td>\n",
              "      <td>JAPAN</td>\n",
              "      <td>UK</td>\n",
              "      <td>SWITZERLAND</td>\n",
              "      <td>CANADA</td>\n",
              "    </tr>\n",
              "    <tr>\n",
              "      <th>1981</th>\n",
              "      <td>1</td>\n",
              "      <td>1.70454</td>\n",
              "      <td>8.65852</td>\n",
              "      <td>220.536</td>\n",
              "      <td>0.497641</td>\n",
              "      <td>1.96424</td>\n",
              "      <td>1.1989</td>\n",
              "    </tr>\n",
              "    <tr>\n",
              "      <th>1982</th>\n",
              "      <td>1</td>\n",
              "      <td>1.89254</td>\n",
              "      <td>9.45513</td>\n",
              "      <td>249.077</td>\n",
              "      <td>0.572447</td>\n",
              "      <td>2.03028</td>\n",
              "      <td>1.23374</td>\n",
              "    </tr>\n",
              "    <tr>\n",
              "      <th>1983</th>\n",
              "      <td>1</td>\n",
              "      <td>1.97568</td>\n",
              "      <td>10.0989</td>\n",
              "      <td>237.512</td>\n",
              "      <td>0.659725</td>\n",
              "      <td>2.09914</td>\n",
              "      <td>1.23241</td>\n",
              "    </tr>\n",
              "    <tr>\n",
              "      <th>1984</th>\n",
              "      <td>1</td>\n",
              "      <td>2.32004</td>\n",
              "      <td>11.3626</td>\n",
              "      <td>237.523</td>\n",
              "      <td>0.751807</td>\n",
              "      <td>2.34968</td>\n",
              "      <td>1.29507</td>\n",
              "    </tr>\n",
              "  </tbody>\n",
              "</table>\n",
              "</div>"
            ],
            "text/plain": [
              "              0        1        2        3         4            5        6\n",
              "Unnamed: 0  USA    CHINA    INDIA    JAPAN        UK  SWITZERLAND   CANADA\n",
              "1981          1  1.70454  8.65852  220.536  0.497641      1.96424   1.1989\n",
              "1982          1  1.89254  9.45513  249.077  0.572447      2.03028  1.23374\n",
              "1983          1  1.97568  10.0989  237.512  0.659725      2.09914  1.23241\n",
              "1984          1  2.32004  11.3626  237.523  0.751807      2.34968  1.29507"
            ]
          },
          "metadata": {
            "tags": []
          },
          "execution_count": 6
        }
      ]
    },
    {
      "cell_type": "code",
      "metadata": {
        "id": "oj7Eat8XcjdH"
      },
      "source": [
        "new_header = FER.iloc[0] #grab the first row for the header\n",
        "FER = FER[1:] #take the data less the header row\n",
        "FER.columns = new_header #set the header row as the df header"
      ],
      "execution_count": 7,
      "outputs": []
    },
    {
      "cell_type": "code",
      "metadata": {
        "colab": {
          "base_uri": "https://localhost:8080/",
          "height": 206
        },
        "id": "Gee1FlmjcjdI",
        "outputId": "a0fdede8-149f-455b-f906-48b68f6c5633"
      },
      "source": [
        "FER.head()"
      ],
      "execution_count": 8,
      "outputs": [
        {
          "output_type": "execute_result",
          "data": {
            "text/html": [
              "<div>\n",
              "<style scoped>\n",
              "    .dataframe tbody tr th:only-of-type {\n",
              "        vertical-align: middle;\n",
              "    }\n",
              "\n",
              "    .dataframe tbody tr th {\n",
              "        vertical-align: top;\n",
              "    }\n",
              "\n",
              "    .dataframe thead th {\n",
              "        text-align: right;\n",
              "    }\n",
              "</style>\n",
              "<table border=\"1\" class=\"dataframe\">\n",
              "  <thead>\n",
              "    <tr style=\"text-align: right;\">\n",
              "      <th>Unnamed: 0</th>\n",
              "      <th>USA</th>\n",
              "      <th>CHINA</th>\n",
              "      <th>INDIA</th>\n",
              "      <th>JAPAN</th>\n",
              "      <th>UK</th>\n",
              "      <th>SWITZERLAND</th>\n",
              "      <th>CANADA</th>\n",
              "    </tr>\n",
              "  </thead>\n",
              "  <tbody>\n",
              "    <tr>\n",
              "      <th>1981</th>\n",
              "      <td>1</td>\n",
              "      <td>1.70454</td>\n",
              "      <td>8.65852</td>\n",
              "      <td>220.536</td>\n",
              "      <td>0.497641</td>\n",
              "      <td>1.96424</td>\n",
              "      <td>1.1989</td>\n",
              "    </tr>\n",
              "    <tr>\n",
              "      <th>1982</th>\n",
              "      <td>1</td>\n",
              "      <td>1.89254</td>\n",
              "      <td>9.45513</td>\n",
              "      <td>249.077</td>\n",
              "      <td>0.572447</td>\n",
              "      <td>2.03028</td>\n",
              "      <td>1.23374</td>\n",
              "    </tr>\n",
              "    <tr>\n",
              "      <th>1983</th>\n",
              "      <td>1</td>\n",
              "      <td>1.97568</td>\n",
              "      <td>10.0989</td>\n",
              "      <td>237.512</td>\n",
              "      <td>0.659725</td>\n",
              "      <td>2.09914</td>\n",
              "      <td>1.23241</td>\n",
              "    </tr>\n",
              "    <tr>\n",
              "      <th>1984</th>\n",
              "      <td>1</td>\n",
              "      <td>2.32004</td>\n",
              "      <td>11.3626</td>\n",
              "      <td>237.523</td>\n",
              "      <td>0.751807</td>\n",
              "      <td>2.34968</td>\n",
              "      <td>1.29507</td>\n",
              "    </tr>\n",
              "    <tr>\n",
              "      <th>1985</th>\n",
              "      <td>1</td>\n",
              "      <td>2.93666</td>\n",
              "      <td>12.3688</td>\n",
              "      <td>238.536</td>\n",
              "      <td>0.779246</td>\n",
              "      <td>2.45713</td>\n",
              "      <td>1.36551</td>\n",
              "    </tr>\n",
              "  </tbody>\n",
              "</table>\n",
              "</div>"
            ],
            "text/plain": [
              "Unnamed: 0 USA    CHINA    INDIA    JAPAN        UK SWITZERLAND   CANADA\n",
              "1981         1  1.70454  8.65852  220.536  0.497641     1.96424   1.1989\n",
              "1982         1  1.89254  9.45513  249.077  0.572447     2.03028  1.23374\n",
              "1983         1  1.97568  10.0989  237.512  0.659725     2.09914  1.23241\n",
              "1984         1  2.32004  11.3626  237.523  0.751807     2.34968  1.29507\n",
              "1985         1  2.93666  12.3688  238.536  0.779246     2.45713  1.36551"
            ]
          },
          "metadata": {
            "tags": []
          },
          "execution_count": 8
        }
      ]
    },
    {
      "cell_type": "code",
      "metadata": {
        "id": "8InnTk06cjdJ"
      },
      "source": [
        "FER=FER.rename_axis(None, axis=1).rename_axis('YEAR', axis=0)\n",
        "FER['year']=FER.index\n",
        "FER_new = FER.iloc[1:]"
      ],
      "execution_count": 9,
      "outputs": []
    },
    {
      "cell_type": "code",
      "metadata": {
        "colab": {
          "base_uri": "https://localhost:8080/",
          "height": 238
        },
        "id": "8mNT-YeccjdL",
        "outputId": "74c8f59f-f72c-40fb-8917-7942fb74c5a8"
      },
      "source": [
        "FER_new.head()"
      ],
      "execution_count": 10,
      "outputs": [
        {
          "output_type": "execute_result",
          "data": {
            "text/html": [
              "<div>\n",
              "<style scoped>\n",
              "    .dataframe tbody tr th:only-of-type {\n",
              "        vertical-align: middle;\n",
              "    }\n",
              "\n",
              "    .dataframe tbody tr th {\n",
              "        vertical-align: top;\n",
              "    }\n",
              "\n",
              "    .dataframe thead th {\n",
              "        text-align: right;\n",
              "    }\n",
              "</style>\n",
              "<table border=\"1\" class=\"dataframe\">\n",
              "  <thead>\n",
              "    <tr style=\"text-align: right;\">\n",
              "      <th></th>\n",
              "      <th>USA</th>\n",
              "      <th>CHINA</th>\n",
              "      <th>INDIA</th>\n",
              "      <th>JAPAN</th>\n",
              "      <th>UK</th>\n",
              "      <th>SWITZERLAND</th>\n",
              "      <th>CANADA</th>\n",
              "      <th>year</th>\n",
              "    </tr>\n",
              "    <tr>\n",
              "      <th>YEAR</th>\n",
              "      <th></th>\n",
              "      <th></th>\n",
              "      <th></th>\n",
              "      <th></th>\n",
              "      <th></th>\n",
              "      <th></th>\n",
              "      <th></th>\n",
              "      <th></th>\n",
              "    </tr>\n",
              "  </thead>\n",
              "  <tbody>\n",
              "    <tr>\n",
              "      <th>1982</th>\n",
              "      <td>1</td>\n",
              "      <td>1.89254</td>\n",
              "      <td>9.45513</td>\n",
              "      <td>249.077</td>\n",
              "      <td>0.572447</td>\n",
              "      <td>2.03028</td>\n",
              "      <td>1.23374</td>\n",
              "      <td>1982</td>\n",
              "    </tr>\n",
              "    <tr>\n",
              "      <th>1983</th>\n",
              "      <td>1</td>\n",
              "      <td>1.97568</td>\n",
              "      <td>10.0989</td>\n",
              "      <td>237.512</td>\n",
              "      <td>0.659725</td>\n",
              "      <td>2.09914</td>\n",
              "      <td>1.23241</td>\n",
              "      <td>1983</td>\n",
              "    </tr>\n",
              "    <tr>\n",
              "      <th>1984</th>\n",
              "      <td>1</td>\n",
              "      <td>2.32004</td>\n",
              "      <td>11.3626</td>\n",
              "      <td>237.523</td>\n",
              "      <td>0.751807</td>\n",
              "      <td>2.34968</td>\n",
              "      <td>1.29507</td>\n",
              "      <td>1984</td>\n",
              "    </tr>\n",
              "    <tr>\n",
              "      <th>1985</th>\n",
              "      <td>1</td>\n",
              "      <td>2.93666</td>\n",
              "      <td>12.3688</td>\n",
              "      <td>238.536</td>\n",
              "      <td>0.779246</td>\n",
              "      <td>2.45713</td>\n",
              "      <td>1.36551</td>\n",
              "      <td>1985</td>\n",
              "    </tr>\n",
              "    <tr>\n",
              "      <th>1986</th>\n",
              "      <td>1</td>\n",
              "      <td>3.45279</td>\n",
              "      <td>12.6108</td>\n",
              "      <td>168.52</td>\n",
              "      <td>0.682197</td>\n",
              "      <td>1.79892</td>\n",
              "      <td>1.38947</td>\n",
              "      <td>1986</td>\n",
              "    </tr>\n",
              "  </tbody>\n",
              "</table>\n",
              "</div>"
            ],
            "text/plain": [
              "     USA    CHINA    INDIA    JAPAN        UK SWITZERLAND   CANADA  year\n",
              "YEAR                                                                    \n",
              "1982   1  1.89254  9.45513  249.077  0.572447     2.03028  1.23374  1982\n",
              "1983   1  1.97568  10.0989  237.512  0.659725     2.09914  1.23241  1983\n",
              "1984   1  2.32004  11.3626  237.523  0.751807     2.34968  1.29507  1984\n",
              "1985   1  2.93666  12.3688  238.536  0.779246     2.45713  1.36551  1985\n",
              "1986   1  3.45279  12.6108   168.52  0.682197     1.79892  1.38947  1986"
            ]
          },
          "metadata": {
            "tags": []
          },
          "execution_count": 10
        }
      ]
    },
    {
      "cell_type": "code",
      "metadata": {
        "id": "C9Cv_IEQcjdL"
      },
      "source": [
        "useful_columns = ['CHINA','INDIA','JAPAN','UK','SWITZERLAND','CANADA','year']\n",
        "FER_new.loc[:,useful_columns].to_csv('six_countries_FER.csv', index = False)"
      ],
      "execution_count": 11,
      "outputs": []
    },
    {
      "cell_type": "code",
      "metadata": {
        "colab": {
          "base_uri": "https://localhost:8080/",
          "height": 206
        },
        "id": "h76X5un5cjdL",
        "outputId": "65f99ea0-a6a1-4a5c-f238-6a4d84c79cd5"
      },
      "source": [
        "FER_new = pd.read_csv(\"six_countries_FER.csv\")\n",
        "FER_new.head()"
      ],
      "execution_count": 12,
      "outputs": [
        {
          "output_type": "execute_result",
          "data": {
            "text/html": [
              "<div>\n",
              "<style scoped>\n",
              "    .dataframe tbody tr th:only-of-type {\n",
              "        vertical-align: middle;\n",
              "    }\n",
              "\n",
              "    .dataframe tbody tr th {\n",
              "        vertical-align: top;\n",
              "    }\n",
              "\n",
              "    .dataframe thead th {\n",
              "        text-align: right;\n",
              "    }\n",
              "</style>\n",
              "<table border=\"1\" class=\"dataframe\">\n",
              "  <thead>\n",
              "    <tr style=\"text-align: right;\">\n",
              "      <th></th>\n",
              "      <th>CHINA</th>\n",
              "      <th>INDIA</th>\n",
              "      <th>JAPAN</th>\n",
              "      <th>UK</th>\n",
              "      <th>SWITZERLAND</th>\n",
              "      <th>CANADA</th>\n",
              "      <th>year</th>\n",
              "    </tr>\n",
              "  </thead>\n",
              "  <tbody>\n",
              "    <tr>\n",
              "      <th>0</th>\n",
              "      <td>1.892542</td>\n",
              "      <td>9.455132</td>\n",
              "      <td>249.076667</td>\n",
              "      <td>0.572447</td>\n",
              "      <td>2.030275</td>\n",
              "      <td>1.233735</td>\n",
              "      <td>1982</td>\n",
              "    </tr>\n",
              "    <tr>\n",
              "      <th>1</th>\n",
              "      <td>1.975675</td>\n",
              "      <td>10.098898</td>\n",
              "      <td>237.511667</td>\n",
              "      <td>0.659725</td>\n",
              "      <td>2.099142</td>\n",
              "      <td>1.232412</td>\n",
              "      <td>1983</td>\n",
              "    </tr>\n",
              "    <tr>\n",
              "      <th>2</th>\n",
              "      <td>2.320042</td>\n",
              "      <td>11.362583</td>\n",
              "      <td>237.522500</td>\n",
              "      <td>0.751807</td>\n",
              "      <td>2.349683</td>\n",
              "      <td>1.295066</td>\n",
              "      <td>1984</td>\n",
              "    </tr>\n",
              "    <tr>\n",
              "      <th>3</th>\n",
              "      <td>2.936658</td>\n",
              "      <td>12.368750</td>\n",
              "      <td>238.535833</td>\n",
              "      <td>0.779246</td>\n",
              "      <td>2.457125</td>\n",
              "      <td>1.365507</td>\n",
              "      <td>1985</td>\n",
              "    </tr>\n",
              "    <tr>\n",
              "      <th>4</th>\n",
              "      <td>3.452792</td>\n",
              "      <td>12.610833</td>\n",
              "      <td>168.519833</td>\n",
              "      <td>0.682197</td>\n",
              "      <td>1.798917</td>\n",
              "      <td>1.389471</td>\n",
              "      <td>1986</td>\n",
              "    </tr>\n",
              "  </tbody>\n",
              "</table>\n",
              "</div>"
            ],
            "text/plain": [
              "      CHINA      INDIA       JAPAN        UK  SWITZERLAND    CANADA  year\n",
              "0  1.892542   9.455132  249.076667  0.572447     2.030275  1.233735  1982\n",
              "1  1.975675  10.098898  237.511667  0.659725     2.099142  1.232412  1983\n",
              "2  2.320042  11.362583  237.522500  0.751807     2.349683  1.295066  1984\n",
              "3  2.936658  12.368750  238.535833  0.779246     2.457125  1.365507  1985\n",
              "4  3.452792  12.610833  168.519833  0.682197     1.798917  1.389471  1986"
            ]
          },
          "metadata": {
            "tags": []
          },
          "execution_count": 12
        }
      ]
    },
    {
      "cell_type": "markdown",
      "metadata": {
        "id": "pZCHPaVZcjdM"
      },
      "source": [
        "## Data exploration"
      ]
    },
    {
      "cell_type": "code",
      "metadata": {
        "colab": {
          "base_uri": "https://localhost:8080/"
        },
        "id": "Ms54d8ePcjdM",
        "outputId": "80f81ffe-6710-4c6b-dde3-fc9a9dc513f0"
      },
      "source": [
        "FER_new.info()"
      ],
      "execution_count": 13,
      "outputs": [
        {
          "output_type": "stream",
          "text": [
            "<class 'pandas.core.frame.DataFrame'>\n",
            "RangeIndex: 39 entries, 0 to 38\n",
            "Data columns (total 7 columns):\n",
            " #   Column       Non-Null Count  Dtype  \n",
            "---  ------       --------------  -----  \n",
            " 0   CHINA        38 non-null     float64\n",
            " 1   INDIA        38 non-null     float64\n",
            " 2   JAPAN        38 non-null     float64\n",
            " 3   UK           38 non-null     float64\n",
            " 4   SWITZERLAND  38 non-null     float64\n",
            " 5   CANADA       38 non-null     float64\n",
            " 6   year         39 non-null     int64  \n",
            "dtypes: float64(6), int64(1)\n",
            "memory usage: 2.3 KB\n"
          ],
          "name": "stdout"
        }
      ]
    },
    {
      "cell_type": "code",
      "metadata": {
        "id": "tauovz0RcjdM"
      },
      "source": [
        "## From the info we found that every column datatype is of foat64 type"
      ],
      "execution_count": 14,
      "outputs": []
    },
    {
      "cell_type": "code",
      "metadata": {
        "colab": {
          "base_uri": "https://localhost:8080/"
        },
        "id": "lr4ZsgmGcjdN",
        "outputId": "de0be7f8-6e4b-4146-af0a-72a8751056d5"
      },
      "source": [
        "FER_new.isnull().sum()"
      ],
      "execution_count": 15,
      "outputs": [
        {
          "output_type": "execute_result",
          "data": {
            "text/plain": [
              "CHINA          1\n",
              "INDIA          1\n",
              "JAPAN          1\n",
              "UK             1\n",
              "SWITZERLAND    1\n",
              "CANADA         1\n",
              "year           0\n",
              "dtype: int64"
            ]
          },
          "metadata": {
            "tags": []
          },
          "execution_count": 15
        }
      ]
    },
    {
      "cell_type": "code",
      "metadata": {
        "id": "NECs8VgocjdO"
      },
      "source": [
        "FER_new = FER_new.dropna()"
      ],
      "execution_count": 16,
      "outputs": []
    },
    {
      "cell_type": "code",
      "metadata": {
        "colab": {
          "base_uri": "https://localhost:8080/",
          "height": 1000
        },
        "id": "z-Hg_ZtUcjdO",
        "outputId": "364d6080-a5ef-4379-fc60-f2dbff8589f8"
      },
      "source": [
        "FER_new"
      ],
      "execution_count": 17,
      "outputs": [
        {
          "output_type": "execute_result",
          "data": {
            "text/html": [
              "<div>\n",
              "<style scoped>\n",
              "    .dataframe tbody tr th:only-of-type {\n",
              "        vertical-align: middle;\n",
              "    }\n",
              "\n",
              "    .dataframe tbody tr th {\n",
              "        vertical-align: top;\n",
              "    }\n",
              "\n",
              "    .dataframe thead th {\n",
              "        text-align: right;\n",
              "    }\n",
              "</style>\n",
              "<table border=\"1\" class=\"dataframe\">\n",
              "  <thead>\n",
              "    <tr style=\"text-align: right;\">\n",
              "      <th></th>\n",
              "      <th>CHINA</th>\n",
              "      <th>INDIA</th>\n",
              "      <th>JAPAN</th>\n",
              "      <th>UK</th>\n",
              "      <th>SWITZERLAND</th>\n",
              "      <th>CANADA</th>\n",
              "      <th>year</th>\n",
              "    </tr>\n",
              "  </thead>\n",
              "  <tbody>\n",
              "    <tr>\n",
              "      <th>0</th>\n",
              "      <td>1.892542</td>\n",
              "      <td>9.455132</td>\n",
              "      <td>249.076667</td>\n",
              "      <td>0.572447</td>\n",
              "      <td>2.030275</td>\n",
              "      <td>1.233735</td>\n",
              "      <td>1982</td>\n",
              "    </tr>\n",
              "    <tr>\n",
              "      <th>1</th>\n",
              "      <td>1.975675</td>\n",
              "      <td>10.098898</td>\n",
              "      <td>237.511667</td>\n",
              "      <td>0.659725</td>\n",
              "      <td>2.099142</td>\n",
              "      <td>1.232412</td>\n",
              "      <td>1983</td>\n",
              "    </tr>\n",
              "    <tr>\n",
              "      <th>2</th>\n",
              "      <td>2.320042</td>\n",
              "      <td>11.362583</td>\n",
              "      <td>237.522500</td>\n",
              "      <td>0.751807</td>\n",
              "      <td>2.349683</td>\n",
              "      <td>1.295066</td>\n",
              "      <td>1984</td>\n",
              "    </tr>\n",
              "    <tr>\n",
              "      <th>3</th>\n",
              "      <td>2.936658</td>\n",
              "      <td>12.368750</td>\n",
              "      <td>238.535833</td>\n",
              "      <td>0.779246</td>\n",
              "      <td>2.457125</td>\n",
              "      <td>1.365507</td>\n",
              "      <td>1985</td>\n",
              "    </tr>\n",
              "    <tr>\n",
              "      <th>4</th>\n",
              "      <td>3.452792</td>\n",
              "      <td>12.610833</td>\n",
              "      <td>168.519833</td>\n",
              "      <td>0.682197</td>\n",
              "      <td>1.798917</td>\n",
              "      <td>1.389471</td>\n",
              "      <td>1986</td>\n",
              "    </tr>\n",
              "    <tr>\n",
              "      <th>5</th>\n",
              "      <td>3.722100</td>\n",
              "      <td>12.961500</td>\n",
              "      <td>144.637500</td>\n",
              "      <td>0.611927</td>\n",
              "      <td>1.491192</td>\n",
              "      <td>1.325983</td>\n",
              "      <td>1987</td>\n",
              "    </tr>\n",
              "    <tr>\n",
              "      <th>6</th>\n",
              "      <td>3.722100</td>\n",
              "      <td>13.917083</td>\n",
              "      <td>128.151667</td>\n",
              "      <td>0.562170</td>\n",
              "      <td>1.463300</td>\n",
              "      <td>1.230701</td>\n",
              "      <td>1988</td>\n",
              "    </tr>\n",
              "    <tr>\n",
              "      <th>7</th>\n",
              "      <td>3.765108</td>\n",
              "      <td>16.225500</td>\n",
              "      <td>137.964417</td>\n",
              "      <td>0.611173</td>\n",
              "      <td>1.635925</td>\n",
              "      <td>1.183972</td>\n",
              "      <td>1989</td>\n",
              "    </tr>\n",
              "    <tr>\n",
              "      <th>8</th>\n",
              "      <td>4.783208</td>\n",
              "      <td>17.503500</td>\n",
              "      <td>144.792500</td>\n",
              "      <td>0.563177</td>\n",
              "      <td>1.389158</td>\n",
              "      <td>1.166774</td>\n",
              "      <td>1990</td>\n",
              "    </tr>\n",
              "    <tr>\n",
              "      <th>9</th>\n",
              "      <td>5.323392</td>\n",
              "      <td>22.742433</td>\n",
              "      <td>134.706667</td>\n",
              "      <td>0.567015</td>\n",
              "      <td>1.433992</td>\n",
              "      <td>1.145726</td>\n",
              "      <td>1991</td>\n",
              "    </tr>\n",
              "    <tr>\n",
              "      <th>10</th>\n",
              "      <td>5.514592</td>\n",
              "      <td>25.918083</td>\n",
              "      <td>126.651333</td>\n",
              "      <td>0.569774</td>\n",
              "      <td>1.406218</td>\n",
              "      <td>1.208723</td>\n",
              "      <td>1992</td>\n",
              "    </tr>\n",
              "    <tr>\n",
              "      <th>11</th>\n",
              "      <td>5.761958</td>\n",
              "      <td>30.493292</td>\n",
              "      <td>111.197786</td>\n",
              "      <td>0.666757</td>\n",
              "      <td>1.477617</td>\n",
              "      <td>1.290088</td>\n",
              "      <td>1993</td>\n",
              "    </tr>\n",
              "    <tr>\n",
              "      <th>12</th>\n",
              "      <td>8.618743</td>\n",
              "      <td>31.373742</td>\n",
              "      <td>102.207806</td>\n",
              "      <td>0.653427</td>\n",
              "      <td>1.367693</td>\n",
              "      <td>1.365673</td>\n",
              "      <td>1994</td>\n",
              "    </tr>\n",
              "    <tr>\n",
              "      <th>13</th>\n",
              "      <td>8.351417</td>\n",
              "      <td>32.427077</td>\n",
              "      <td>94.059579</td>\n",
              "      <td>0.633668</td>\n",
              "      <td>1.182469</td>\n",
              "      <td>1.372445</td>\n",
              "      <td>1995</td>\n",
              "    </tr>\n",
              "    <tr>\n",
              "      <th>14</th>\n",
              "      <td>8.314175</td>\n",
              "      <td>35.433173</td>\n",
              "      <td>108.779057</td>\n",
              "      <td>0.640958</td>\n",
              "      <td>1.236010</td>\n",
              "      <td>1.363522</td>\n",
              "      <td>1996</td>\n",
              "    </tr>\n",
              "    <tr>\n",
              "      <th>15</th>\n",
              "      <td>8.289817</td>\n",
              "      <td>36.313286</td>\n",
              "      <td>120.990863</td>\n",
              "      <td>0.610836</td>\n",
              "      <td>1.451313</td>\n",
              "      <td>1.384598</td>\n",
              "      <td>1997</td>\n",
              "    </tr>\n",
              "    <tr>\n",
              "      <th>16</th>\n",
              "      <td>8.278958</td>\n",
              "      <td>41.259365</td>\n",
              "      <td>130.905301</td>\n",
              "      <td>0.603824</td>\n",
              "      <td>1.449813</td>\n",
              "      <td>1.483505</td>\n",
              "      <td>1998</td>\n",
              "    </tr>\n",
              "    <tr>\n",
              "      <th>17</th>\n",
              "      <td>8.278250</td>\n",
              "      <td>43.055428</td>\n",
              "      <td>113.906805</td>\n",
              "      <td>0.618057</td>\n",
              "      <td>1.502155</td>\n",
              "      <td>1.485705</td>\n",
              "      <td>1999</td>\n",
              "    </tr>\n",
              "    <tr>\n",
              "      <th>18</th>\n",
              "      <td>8.278504</td>\n",
              "      <td>44.941605</td>\n",
              "      <td>107.765498</td>\n",
              "      <td>0.660931</td>\n",
              "      <td>1.688843</td>\n",
              "      <td>1.485394</td>\n",
              "      <td>2000</td>\n",
              "    </tr>\n",
              "    <tr>\n",
              "      <th>19</th>\n",
              "      <td>8.277068</td>\n",
              "      <td>47.186414</td>\n",
              "      <td>121.528948</td>\n",
              "      <td>0.694655</td>\n",
              "      <td>1.687615</td>\n",
              "      <td>1.548840</td>\n",
              "      <td>2001</td>\n",
              "    </tr>\n",
              "    <tr>\n",
              "      <th>20</th>\n",
              "      <td>8.276958</td>\n",
              "      <td>48.610319</td>\n",
              "      <td>125.388019</td>\n",
              "      <td>0.667223</td>\n",
              "      <td>1.558607</td>\n",
              "      <td>1.570343</td>\n",
              "      <td>2002</td>\n",
              "    </tr>\n",
              "    <tr>\n",
              "      <th>21</th>\n",
              "      <td>8.277037</td>\n",
              "      <td>46.583284</td>\n",
              "      <td>115.933464</td>\n",
              "      <td>0.612472</td>\n",
              "      <td>1.346651</td>\n",
              "      <td>1.401015</td>\n",
              "      <td>2003</td>\n",
              "    </tr>\n",
              "    <tr>\n",
              "      <th>22</th>\n",
              "      <td>8.276801</td>\n",
              "      <td>45.316467</td>\n",
              "      <td>108.192569</td>\n",
              "      <td>0.546180</td>\n",
              "      <td>1.243496</td>\n",
              "      <td>1.301282</td>\n",
              "      <td>2004</td>\n",
              "    </tr>\n",
              "    <tr>\n",
              "      <th>23</th>\n",
              "      <td>8.194317</td>\n",
              "      <td>44.099975</td>\n",
              "      <td>110.218212</td>\n",
              "      <td>0.549998</td>\n",
              "      <td>1.245177</td>\n",
              "      <td>1.211405</td>\n",
              "      <td>2005</td>\n",
              "    </tr>\n",
              "    <tr>\n",
              "      <th>24</th>\n",
              "      <td>7.973438</td>\n",
              "      <td>45.307008</td>\n",
              "      <td>116.299312</td>\n",
              "      <td>0.543487</td>\n",
              "      <td>1.253843</td>\n",
              "      <td>1.134345</td>\n",
              "      <td>2006</td>\n",
              "    </tr>\n",
              "    <tr>\n",
              "      <th>25</th>\n",
              "      <td>7.607532</td>\n",
              "      <td>41.348533</td>\n",
              "      <td>117.753529</td>\n",
              "      <td>0.499772</td>\n",
              "      <td>1.200366</td>\n",
              "      <td>1.074046</td>\n",
              "      <td>2007</td>\n",
              "    </tr>\n",
              "    <tr>\n",
              "      <th>26</th>\n",
              "      <td>6.948655</td>\n",
              "      <td>43.505183</td>\n",
              "      <td>103.359494</td>\n",
              "      <td>0.543966</td>\n",
              "      <td>1.083090</td>\n",
              "      <td>1.067087</td>\n",
              "      <td>2008</td>\n",
              "    </tr>\n",
              "    <tr>\n",
              "      <th>27</th>\n",
              "      <td>6.831416</td>\n",
              "      <td>48.405267</td>\n",
              "      <td>93.570089</td>\n",
              "      <td>0.641919</td>\n",
              "      <td>1.088142</td>\n",
              "      <td>1.141535</td>\n",
              "      <td>2009</td>\n",
              "    </tr>\n",
              "    <tr>\n",
              "      <th>28</th>\n",
              "      <td>6.770269</td>\n",
              "      <td>45.725812</td>\n",
              "      <td>87.779875</td>\n",
              "      <td>0.647179</td>\n",
              "      <td>1.042906</td>\n",
              "      <td>1.030113</td>\n",
              "      <td>2010</td>\n",
              "    </tr>\n",
              "    <tr>\n",
              "      <th>29</th>\n",
              "      <td>6.461461</td>\n",
              "      <td>46.670467</td>\n",
              "      <td>79.807020</td>\n",
              "      <td>0.624141</td>\n",
              "      <td>0.888042</td>\n",
              "      <td>0.989258</td>\n",
              "      <td>2011</td>\n",
              "    </tr>\n",
              "    <tr>\n",
              "      <th>30</th>\n",
              "      <td>6.312333</td>\n",
              "      <td>53.437233</td>\n",
              "      <td>79.790455</td>\n",
              "      <td>0.633047</td>\n",
              "      <td>0.937684</td>\n",
              "      <td>0.999365</td>\n",
              "      <td>2012</td>\n",
              "    </tr>\n",
              "    <tr>\n",
              "      <th>31</th>\n",
              "      <td>6.195758</td>\n",
              "      <td>58.597845</td>\n",
              "      <td>97.595658</td>\n",
              "      <td>0.639661</td>\n",
              "      <td>0.926904</td>\n",
              "      <td>1.030137</td>\n",
              "      <td>2013</td>\n",
              "    </tr>\n",
              "    <tr>\n",
              "      <th>32</th>\n",
              "      <td>6.143434</td>\n",
              "      <td>61.029514</td>\n",
              "      <td>105.944781</td>\n",
              "      <td>0.607730</td>\n",
              "      <td>0.916151</td>\n",
              "      <td>1.104747</td>\n",
              "      <td>2014</td>\n",
              "    </tr>\n",
              "    <tr>\n",
              "      <th>33</th>\n",
              "      <td>6.227489</td>\n",
              "      <td>64.151944</td>\n",
              "      <td>121.044026</td>\n",
              "      <td>0.654545</td>\n",
              "      <td>0.962381</td>\n",
              "      <td>1.278786</td>\n",
              "      <td>2015</td>\n",
              "    </tr>\n",
              "    <tr>\n",
              "      <th>34</th>\n",
              "      <td>6.644478</td>\n",
              "      <td>67.195313</td>\n",
              "      <td>108.792900</td>\n",
              "      <td>0.740634</td>\n",
              "      <td>0.985394</td>\n",
              "      <td>1.325615</td>\n",
              "      <td>2016</td>\n",
              "    </tr>\n",
              "    <tr>\n",
              "      <th>35</th>\n",
              "      <td>6.758755</td>\n",
              "      <td>65.121569</td>\n",
              "      <td>112.166141</td>\n",
              "      <td>0.776977</td>\n",
              "      <td>0.984692</td>\n",
              "      <td>1.297936</td>\n",
              "      <td>2017</td>\n",
              "    </tr>\n",
              "    <tr>\n",
              "      <th>36</th>\n",
              "      <td>6.615957</td>\n",
              "      <td>68.389467</td>\n",
              "      <td>110.423179</td>\n",
              "      <td>0.749532</td>\n",
              "      <td>0.977883</td>\n",
              "      <td>1.295818</td>\n",
              "      <td>2018</td>\n",
              "    </tr>\n",
              "    <tr>\n",
              "      <th>37</th>\n",
              "      <td>6.908385</td>\n",
              "      <td>70.419969</td>\n",
              "      <td>109.009666</td>\n",
              "      <td>0.783445</td>\n",
              "      <td>0.993841</td>\n",
              "      <td>1.326854</td>\n",
              "      <td>2019</td>\n",
              "    </tr>\n",
              "  </tbody>\n",
              "</table>\n",
              "</div>"
            ],
            "text/plain": [
              "       CHINA      INDIA       JAPAN        UK  SWITZERLAND    CANADA  year\n",
              "0   1.892542   9.455132  249.076667  0.572447     2.030275  1.233735  1982\n",
              "1   1.975675  10.098898  237.511667  0.659725     2.099142  1.232412  1983\n",
              "2   2.320042  11.362583  237.522500  0.751807     2.349683  1.295066  1984\n",
              "3   2.936658  12.368750  238.535833  0.779246     2.457125  1.365507  1985\n",
              "4   3.452792  12.610833  168.519833  0.682197     1.798917  1.389471  1986\n",
              "5   3.722100  12.961500  144.637500  0.611927     1.491192  1.325983  1987\n",
              "6   3.722100  13.917083  128.151667  0.562170     1.463300  1.230701  1988\n",
              "7   3.765108  16.225500  137.964417  0.611173     1.635925  1.183972  1989\n",
              "8   4.783208  17.503500  144.792500  0.563177     1.389158  1.166774  1990\n",
              "9   5.323392  22.742433  134.706667  0.567015     1.433992  1.145726  1991\n",
              "10  5.514592  25.918083  126.651333  0.569774     1.406218  1.208723  1992\n",
              "11  5.761958  30.493292  111.197786  0.666757     1.477617  1.290088  1993\n",
              "12  8.618743  31.373742  102.207806  0.653427     1.367693  1.365673  1994\n",
              "13  8.351417  32.427077   94.059579  0.633668     1.182469  1.372445  1995\n",
              "14  8.314175  35.433173  108.779057  0.640958     1.236010  1.363522  1996\n",
              "15  8.289817  36.313286  120.990863  0.610836     1.451313  1.384598  1997\n",
              "16  8.278958  41.259365  130.905301  0.603824     1.449813  1.483505  1998\n",
              "17  8.278250  43.055428  113.906805  0.618057     1.502155  1.485705  1999\n",
              "18  8.278504  44.941605  107.765498  0.660931     1.688843  1.485394  2000\n",
              "19  8.277068  47.186414  121.528948  0.694655     1.687615  1.548840  2001\n",
              "20  8.276958  48.610319  125.388019  0.667223     1.558607  1.570343  2002\n",
              "21  8.277037  46.583284  115.933464  0.612472     1.346651  1.401015  2003\n",
              "22  8.276801  45.316467  108.192569  0.546180     1.243496  1.301282  2004\n",
              "23  8.194317  44.099975  110.218212  0.549998     1.245177  1.211405  2005\n",
              "24  7.973438  45.307008  116.299312  0.543487     1.253843  1.134345  2006\n",
              "25  7.607532  41.348533  117.753529  0.499772     1.200366  1.074046  2007\n",
              "26  6.948655  43.505183  103.359494  0.543966     1.083090  1.067087  2008\n",
              "27  6.831416  48.405267   93.570089  0.641919     1.088142  1.141535  2009\n",
              "28  6.770269  45.725812   87.779875  0.647179     1.042906  1.030113  2010\n",
              "29  6.461461  46.670467   79.807020  0.624141     0.888042  0.989258  2011\n",
              "30  6.312333  53.437233   79.790455  0.633047     0.937684  0.999365  2012\n",
              "31  6.195758  58.597845   97.595658  0.639661     0.926904  1.030137  2013\n",
              "32  6.143434  61.029514  105.944781  0.607730     0.916151  1.104747  2014\n",
              "33  6.227489  64.151944  121.044026  0.654545     0.962381  1.278786  2015\n",
              "34  6.644478  67.195313  108.792900  0.740634     0.985394  1.325615  2016\n",
              "35  6.758755  65.121569  112.166141  0.776977     0.984692  1.297936  2017\n",
              "36  6.615957  68.389467  110.423179  0.749532     0.977883  1.295818  2018\n",
              "37  6.908385  70.419969  109.009666  0.783445     0.993841  1.326854  2019"
            ]
          },
          "metadata": {
            "tags": []
          },
          "execution_count": 17
        }
      ]
    },
    {
      "cell_type": "code",
      "metadata": {
        "colab": {
          "base_uri": "https://localhost:8080/"
        },
        "id": "TGzQGkFjfpIl",
        "outputId": "249e408c-269f-4e46-ed6d-80d65437c6e2"
      },
      "source": [
        "FER_new.isnull().sum()"
      ],
      "execution_count": 18,
      "outputs": [
        {
          "output_type": "execute_result",
          "data": {
            "text/plain": [
              "CHINA          0\n",
              "INDIA          0\n",
              "JAPAN          0\n",
              "UK             0\n",
              "SWITZERLAND    0\n",
              "CANADA         0\n",
              "year           0\n",
              "dtype: int64"
            ]
          },
          "metadata": {
            "tags": []
          },
          "execution_count": 18
        }
      ]
    },
    {
      "cell_type": "code",
      "metadata": {
        "colab": {
          "base_uri": "https://localhost:8080/",
          "height": 300
        },
        "id": "XDcoTs--cjdO",
        "outputId": "b767baca-d83f-4e08-b53c-53f026ac196f"
      },
      "source": [
        "FER_new.describe()"
      ],
      "execution_count": 19,
      "outputs": [
        {
          "output_type": "execute_result",
          "data": {
            "text/html": [
              "<div>\n",
              "<style scoped>\n",
              "    .dataframe tbody tr th:only-of-type {\n",
              "        vertical-align: middle;\n",
              "    }\n",
              "\n",
              "    .dataframe tbody tr th {\n",
              "        vertical-align: top;\n",
              "    }\n",
              "\n",
              "    .dataframe thead th {\n",
              "        text-align: right;\n",
              "    }\n",
              "</style>\n",
              "<table border=\"1\" class=\"dataframe\">\n",
              "  <thead>\n",
              "    <tr style=\"text-align: right;\">\n",
              "      <th></th>\n",
              "      <th>CHINA</th>\n",
              "      <th>INDIA</th>\n",
              "      <th>JAPAN</th>\n",
              "      <th>UK</th>\n",
              "      <th>SWITZERLAND</th>\n",
              "      <th>CANADA</th>\n",
              "      <th>year</th>\n",
              "    </tr>\n",
              "  </thead>\n",
              "  <tbody>\n",
              "    <tr>\n",
              "      <th>count</th>\n",
              "      <td>38.000000</td>\n",
              "      <td>38.000000</td>\n",
              "      <td>38.000000</td>\n",
              "      <td>38.000000</td>\n",
              "      <td>38.000000</td>\n",
              "      <td>38.000000</td>\n",
              "      <td>38.000000</td>\n",
              "    </tr>\n",
              "    <tr>\n",
              "      <th>mean</th>\n",
              "      <td>6.296883</td>\n",
              "      <td>38.725338</td>\n",
              "      <td>127.960016</td>\n",
              "      <td>0.636202</td>\n",
              "      <td>1.374571</td>\n",
              "      <td>1.266777</td>\n",
              "      <td>2000.500000</td>\n",
              "    </tr>\n",
              "    <tr>\n",
              "      <th>std</th>\n",
              "      <td>2.027707</td>\n",
              "      <td>18.327540</td>\n",
              "      <td>42.963562</td>\n",
              "      <td>0.071393</td>\n",
              "      <td>0.390702</td>\n",
              "      <td>0.152017</td>\n",
              "      <td>11.113055</td>\n",
              "    </tr>\n",
              "    <tr>\n",
              "      <th>min</th>\n",
              "      <td>1.892542</td>\n",
              "      <td>9.455132</td>\n",
              "      <td>79.790455</td>\n",
              "      <td>0.499772</td>\n",
              "      <td>0.888042</td>\n",
              "      <td>0.989258</td>\n",
              "      <td>1982.000000</td>\n",
              "    </tr>\n",
              "    <tr>\n",
              "      <th>25%</th>\n",
              "      <td>5.371192</td>\n",
              "      <td>23.536345</td>\n",
              "      <td>107.872266</td>\n",
              "      <td>0.580291</td>\n",
              "      <td>1.052952</td>\n",
              "      <td>1.150988</td>\n",
              "      <td>1991.250000</td>\n",
              "    </tr>\n",
              "    <tr>\n",
              "      <th>50%</th>\n",
              "      <td>6.701617</td>\n",
              "      <td>43.280306</td>\n",
              "      <td>114.920135</td>\n",
              "      <td>0.633358</td>\n",
              "      <td>1.357172</td>\n",
              "      <td>1.292577</td>\n",
              "      <td>2000.500000</td>\n",
              "    </tr>\n",
              "    <tr>\n",
              "      <th>75%</th>\n",
              "      <td>8.276919</td>\n",
              "      <td>48.100554</td>\n",
              "      <td>130.216893</td>\n",
              "      <td>0.665300</td>\n",
              "      <td>1.499414</td>\n",
              "      <td>1.365631</td>\n",
              "      <td>2009.750000</td>\n",
              "    </tr>\n",
              "    <tr>\n",
              "      <th>max</th>\n",
              "      <td>8.618743</td>\n",
              "      <td>70.419969</td>\n",
              "      <td>249.076667</td>\n",
              "      <td>0.783445</td>\n",
              "      <td>2.457125</td>\n",
              "      <td>1.570343</td>\n",
              "      <td>2019.000000</td>\n",
              "    </tr>\n",
              "  </tbody>\n",
              "</table>\n",
              "</div>"
            ],
            "text/plain": [
              "           CHINA      INDIA       JAPAN  ...  SWITZERLAND     CANADA         year\n",
              "count  38.000000  38.000000   38.000000  ...    38.000000  38.000000    38.000000\n",
              "mean    6.296883  38.725338  127.960016  ...     1.374571   1.266777  2000.500000\n",
              "std     2.027707  18.327540   42.963562  ...     0.390702   0.152017    11.113055\n",
              "min     1.892542   9.455132   79.790455  ...     0.888042   0.989258  1982.000000\n",
              "25%     5.371192  23.536345  107.872266  ...     1.052952   1.150988  1991.250000\n",
              "50%     6.701617  43.280306  114.920135  ...     1.357172   1.292577  2000.500000\n",
              "75%     8.276919  48.100554  130.216893  ...     1.499414   1.365631  2009.750000\n",
              "max     8.618743  70.419969  249.076667  ...     2.457125   1.570343  2019.000000\n",
              "\n",
              "[8 rows x 7 columns]"
            ]
          },
          "metadata": {
            "tags": []
          },
          "execution_count": 19
        }
      ]
    },
    {
      "cell_type": "markdown",
      "metadata": {
        "id": "oodBK7PMcjdP"
      },
      "source": [
        "#### decribe will give us the statistical inference of our dataset. From it one can find the minimum FER, Max FER MEan FER of a particular country."
      ]
    },
    {
      "cell_type": "code",
      "metadata": {
        "colab": {
          "base_uri": "https://localhost:8080/",
          "height": 479
        },
        "id": "RrJ_VWB9cjdP",
        "outputId": "18b0496a-65fc-4f43-d234-eb77be0408a2"
      },
      "source": [
        "plt.figure(figsize=(12,6))\n",
        "sns.boxplot(FER_new['CHINA'])\n",
        "plt.title(\"distribution of CHINA's FER\")"
      ],
      "execution_count": 21,
      "outputs": [
        {
          "output_type": "stream",
          "text": [
            "/usr/local/lib/python3.7/dist-packages/seaborn/_decorators.py:43: FutureWarning: Pass the following variable as a keyword arg: x. From version 0.12, the only valid positional argument will be `data`, and passing other arguments without an explicit keyword will result in an error or misinterpretation.\n",
            "  FutureWarning\n"
          ],
          "name": "stderr"
        },
        {
          "output_type": "execute_result",
          "data": {
            "text/plain": [
              "Text(0.5, 1.0, \"distribution of CHINA's FER\")"
            ]
          },
          "metadata": {
            "tags": []
          },
          "execution_count": 21
        },
        {
          "output_type": "display_data",
          "data": {
            "image/png": "[encoded data removed]",
            "text/plain": [
              "<Figure size 864x432 with 1 Axes>"
            ]
          },
          "metadata": {
            "tags": [],
            "needs_background": "light"
          }
        }
      ]
    },
    {
      "cell_type": "code",
      "metadata": {
        "colab": {
          "base_uri": "https://localhost:8080/"
        },
        "id": "463-pjVPcjdQ",
        "outputId": "36b2892c-38e2-4caa-9987-be091bad1f61"
      },
      "source": [
        "q0,q1,q2,q3,q4=np.percentile(FER_new['CHINA'],[0,25,50,75,100])\n",
        "IQR=q3-q1\n",
        "print(\"0th percentile of CHINA cloumn : \",q0)\n",
        "print(\"25th percentile of CHINA cloumn : \",q1)\n",
        "print(\"50th percentile of CHINA cloumn : \",q2)\n",
        "print(\"75th percentile of CHINA cloumn : \",q3)\n",
        "print(\"100th percentile of CHINA cloumn : \",q4)\n",
        "print(\"Inter quartile range of CHINA cloumn : \",IQR)"
      ],
      "execution_count": 22,
      "outputs": [
        {
          "output_type": "stream",
          "text": [
            "0th percentile of CHINA cloumn :  1.892542\n",
            "25th percentile of CHINA cloumn :  5.371192000000001\n",
            "50th percentile of CHINA cloumn :  6.7016165\n",
            "75th percentile of CHINA cloumn :  8.27691875\n",
            "100th percentile of CHINA cloumn :  8.618742999999998\n",
            "Inter quartile range of CHINA cloumn :  2.9057267499999995\n"
          ],
          "name": "stdout"
        }
      ]
    },
    {
      "cell_type": "code",
      "metadata": {
        "colab": {
          "base_uri": "https://localhost:8080/",
          "height": 479
        },
        "id": "ZQW2lksbcjdR",
        "outputId": "8395e892-f96e-4fc8-ac85-53e902c8878f"
      },
      "source": [
        "plt.figure(figsize=(12,6))\n",
        "sns.boxplot(FER_new['INDIA'])\n",
        "plt.title(\"distribution of INDIA's FER\")"
      ],
      "execution_count": 23,
      "outputs": [
        {
          "output_type": "stream",
          "text": [
            "/usr/local/lib/python3.7/dist-packages/seaborn/_decorators.py:43: FutureWarning: Pass the following variable as a keyword arg: x. From version 0.12, the only valid positional argument will be `data`, and passing other arguments without an explicit keyword will result in an error or misinterpretation.\n",
            "  FutureWarning\n"
          ],
          "name": "stderr"
        },
        {
          "output_type": "execute_result",
          "data": {
            "text/plain": [
              "Text(0.5, 1.0, \"distribution of INDIA's FER\")"
            ]
          },
          "metadata": {
            "tags": []
          },
          "execution_count": 23
        },
        {
          "output_type": "display_data",
          "data": {
            "image/png": "[encoded data removed]",
            "text/plain": [
              "<Figure size 864x432 with 1 Axes>"
            ]
          },
          "metadata": {
            "tags": [],
            "needs_background": "light"
          }
        }
      ]
    },
    {
      "cell_type": "code",
      "metadata": {
        "colab": {
          "base_uri": "https://localhost:8080/"
        },
        "id": "xJJKaGlFcjdS",
        "outputId": "601ed9b2-67e4-43c2-f21c-a69a41505889"
      },
      "source": [
        "q0,q1,q2,q3,q4=np.percentile(FER_new['INDIA'],[0,25,50,75,100])\n",
        "IQR=q3-q1\n",
        "print(\"0th percentile of INDIA cloumn : \",q0)\n",
        "print(\"25th percentile of INDIA cloumn : \",q1)\n",
        "print(\"50th percentile of INDIA cloumn : \",q2)\n",
        "print(\"75th percentile of INDIA cloumn : \",q3)\n",
        "print(\"100th percentile of INDIA cloumn : \",q4)\n",
        "print(\"Inter quartile range of INDIA cloumn : \",IQR)"
      ],
      "execution_count": 24,
      "outputs": [
        {
          "output_type": "stream",
          "text": [
            "0th percentile of INDIA cloumn :  9.455132\n",
            "25th percentile of INDIA cloumn :  23.536345499999996\n",
            "50th percentile of INDIA cloumn :  43.280305500000004\n",
            "75th percentile of INDIA cloumn :  48.10055375\n",
            "100th percentile of INDIA cloumn :  70.419969\n",
            "Inter quartile range of INDIA cloumn :  24.564208250000007\n"
          ],
          "name": "stdout"
        }
      ]
    },
    {
      "cell_type": "code",
      "metadata": {
        "colab": {
          "base_uri": "https://localhost:8080/",
          "height": 479
        },
        "id": "DOKGys_EcjdT",
        "outputId": "35b6b507-b3a6-4507-e396-73ce7ae42320"
      },
      "source": [
        "plt.figure(figsize=(12,6))\n",
        "sns.boxplot(FER_new['JAPAN'])\n",
        "plt.title(\"distribution of JAPAN's FER\")"
      ],
      "execution_count": 25,
      "outputs": [
        {
          "output_type": "stream",
          "text": [
            "/usr/local/lib/python3.7/dist-packages/seaborn/_decorators.py:43: FutureWarning: Pass the following variable as a keyword arg: x. From version 0.12, the only valid positional argument will be `data`, and passing other arguments without an explicit keyword will result in an error or misinterpretation.\n",
            "  FutureWarning\n"
          ],
          "name": "stderr"
        },
        {
          "output_type": "execute_result",
          "data": {
            "text/plain": [
              "Text(0.5, 1.0, \"distribution of JAPAN's FER\")"
            ]
          },
          "metadata": {
            "tags": []
          },
          "execution_count": 25
        },
        {
          "output_type": "display_data",
          "data": {
            "image/png": "[encoded data removed]",
            "text/plain": [
              "<Figure size 864x432 with 1 Axes>"
            ]
          },
          "metadata": {
            "tags": [],
            "needs_background": "light"
          }
        }
      ]
    },
    {
      "cell_type": "code",
      "metadata": {
        "colab": {
          "base_uri": "https://localhost:8080/"
        },
        "id": "JFamcF-6cjdT",
        "outputId": "3e3f1fd3-d4a0-4a3b-d354-e7ba80987d22"
      },
      "source": [
        "q0,q1,q2,q3,q4=np.percentile(FER_new['JAPAN'],[0,25,50,75,100])\n",
        "IQR=q3-q1\n",
        "print(\"0th percentile of JAPAN cloumn : \",q0)\n",
        "print(\"25th percentile of JAPAN cloumn : \",q1)\n",
        "print(\"50th percentile of JAPAN cloumn : \",q2)\n",
        "print(\"75th percentile of JAPAN cloumn : \",q3)\n",
        "print(\"100th percentile of JAPAN cloumn : \",q4)\n",
        "print(\"Inter quartile range of JAPAN cloumn : \",IQR)"
      ],
      "execution_count": 26,
      "outputs": [
        {
          "output_type": "stream",
          "text": [
            "0th percentile of JAPAN cloumn :  79.79045500000002\n",
            "25th percentile of JAPAN cloumn :  107.87226575\n",
            "50th percentile of JAPAN cloumn :  114.9201345\n",
            "75th percentile of JAPAN cloumn :  130.2168925\n",
            "100th percentile of JAPAN cloumn :  249.076667\n",
            "Inter quartile range of JAPAN cloumn :  22.344626750000003\n"
          ],
          "name": "stdout"
        }
      ]
    },
    {
      "cell_type": "code",
      "metadata": {
        "colab": {
          "base_uri": "https://localhost:8080/",
          "height": 479
        },
        "id": "TnKq02RhcjdT",
        "outputId": "98507fb9-f458-4144-e9d5-9f2d96ec037c"
      },
      "source": [
        "plt.figure(figsize=(12,6))\n",
        "sns.boxplot(FER_new['UK'])\n",
        "plt.title(\"distribution of UK FER\")"
      ],
      "execution_count": 27,
      "outputs": [
        {
          "output_type": "stream",
          "text": [
            "/usr/local/lib/python3.7/dist-packages/seaborn/_decorators.py:43: FutureWarning: Pass the following variable as a keyword arg: x. From version 0.12, the only valid positional argument will be `data`, and passing other arguments without an explicit keyword will result in an error or misinterpretation.\n",
            "  FutureWarning\n"
          ],
          "name": "stderr"
        },
        {
          "output_type": "execute_result",
          "data": {
            "text/plain": [
              "Text(0.5, 1.0, 'distribution of UK FER')"
            ]
          },
          "metadata": {
            "tags": []
          },
          "execution_count": 27
        },
        {
          "output_type": "display_data",
          "data": {
            "image/png": "[encoded data removed]",
            "text/plain": [
              "<Figure size 864x432 with 1 Axes>"
            ]
          },
          "metadata": {
            "tags": [],
            "needs_background": "light"
          }
        }
      ]
    },
    {
      "cell_type": "code",
      "metadata": {
        "colab": {
          "base_uri": "https://localhost:8080/"
        },
        "id": "Y5F0dAbDcjdT",
        "outputId": "c4f5f611-69ef-441a-a9dd-36ce8f157249"
      },
      "source": [
        "q0,q1,q2,q3,q4=np.percentile(FER_new['UK'],[0,25,50,75,100])\n",
        "IQR=q3-q1\n",
        "print(\"0th percentile of UK cloumn : \",q0)\n",
        "print(\"25th percentile of UK cloumn : \",q1)\n",
        "print(\"50th percentile of UK cloumn : \",q2)\n",
        "print(\"75th percentile of UK cloumn : \",q3)\n",
        "print(\"100th percentile of UK cloumn : \",q4)\n",
        "print(\"Inter quartile range of UK cloumn : \",IQR)"
      ],
      "execution_count": 28,
      "outputs": [
        {
          "output_type": "stream",
          "text": [
            "0th percentile of UK cloumn :  0.4997720000000001\n",
            "25th percentile of UK cloumn :  0.58029125\n",
            "50th percentile of UK cloumn :  0.6333575\n",
            "75th percentile of UK cloumn :  0.6653005\n",
            "100th percentile of UK cloumn :  0.783445\n",
            "Inter quartile range of UK cloumn :  0.08500924999999993\n"
          ],
          "name": "stdout"
        }
      ]
    },
    {
      "cell_type": "code",
      "metadata": {
        "colab": {
          "base_uri": "https://localhost:8080/",
          "height": 479
        },
        "id": "W01gv8MycjdT",
        "outputId": "bb8f042c-2758-4e8e-a36c-af3ac7158e5b"
      },
      "source": [
        "plt.figure(figsize=(12,6))\n",
        "sns.boxplot(FER_new['SWITZERLAND'])\n",
        "plt.title(\"distribution of SWITZERLAND FER\")"
      ],
      "execution_count": 29,
      "outputs": [
        {
          "output_type": "stream",
          "text": [
            "/usr/local/lib/python3.7/dist-packages/seaborn/_decorators.py:43: FutureWarning: Pass the following variable as a keyword arg: x. From version 0.12, the only valid positional argument will be `data`, and passing other arguments without an explicit keyword will result in an error or misinterpretation.\n",
            "  FutureWarning\n"
          ],
          "name": "stderr"
        },
        {
          "output_type": "execute_result",
          "data": {
            "text/plain": [
              "Text(0.5, 1.0, 'distribution of SWITZERLAND FER')"
            ]
          },
          "metadata": {
            "tags": []
          },
          "execution_count": 29
        },
        {
          "output_type": "display_data",
          "data": {
            "image/png": "[encoded data removed]",
            "text/plain": [
              "<Figure size 864x432 with 1 Axes>"
            ]
          },
          "metadata": {
            "tags": [],
            "needs_background": "light"
          }
        }
      ]
    },
    {
      "cell_type": "code",
      "metadata": {
        "colab": {
          "base_uri": "https://localhost:8080/"
        },
        "id": "pJonfQIYcjdU",
        "outputId": "1f4bd30b-8c9e-4130-8f08-c661da39bd39"
      },
      "source": [
        "q0,q1,q2,q3,q4=np.percentile(FER_new['SWITZERLAND'],[0,25,50,75,100])\n",
        "IQR=q3-q1\n",
        "print(\"0th percentile of SWITZERLAND cloumn : \",q0)\n",
        "print(\"25th percentile of SWITZERLAND cloumn : \",q1)\n",
        "print(\"50th percentile of SWITZERLAND column : \",q2)\n",
        "print(\"75th percentile of SWITZERLAND cloumn : \",q3)\n",
        "print(\"100th percentile of SWITZERLAND cloumn : \",q4)\n",
        "print(\"Inter quartile range of SWITZERLAND cloumn : \",IQR)"
      ],
      "execution_count": 30,
      "outputs": [
        {
          "output_type": "stream",
          "text": [
            "0th percentile of SWITZERLAND cloumn :  0.888042\n",
            "25th percentile of SWITZERLAND cloumn :  1.052952\n",
            "50th percentile of SWITZERLAND column :  1.357172\n",
            "75th percentile of SWITZERLAND cloumn :  1.4994142499999998\n",
            "100th percentile of SWITZERLAND cloumn :  2.457125\n",
            "Inter quartile range of SWITZERLAND cloumn :  0.4464622499999997\n"
          ],
          "name": "stdout"
        }
      ]
    },
    {
      "cell_type": "code",
      "metadata": {
        "colab": {
          "base_uri": "https://localhost:8080/",
          "height": 479
        },
        "id": "W-E_Va_7cjdV",
        "outputId": "1ff494df-1e0d-4a98-a28d-455d9d558424"
      },
      "source": [
        "plt.figure(figsize=(12,6))\n",
        "sns.boxplot(FER_new['CANADA'])\n",
        "plt.title(\"distribution of CANADA FER\")"
      ],
      "execution_count": 31,
      "outputs": [
        {
          "output_type": "stream",
          "text": [
            "/usr/local/lib/python3.7/dist-packages/seaborn/_decorators.py:43: FutureWarning: Pass the following variable as a keyword arg: x. From version 0.12, the only valid positional argument will be `data`, and passing other arguments without an explicit keyword will result in an error or misinterpretation.\n",
            "  FutureWarning\n"
          ],
          "name": "stderr"
        },
        {
          "output_type": "execute_result",
          "data": {
            "text/plain": [
              "Text(0.5, 1.0, 'distribution of CANADA FER')"
            ]
          },
          "metadata": {
            "tags": []
          },
          "execution_count": 31
        },
        {
          "output_type": "display_data",
          "data": {
            "image/png": "[encoded data removed]",
            "text/plain": [
              "<Figure size 864x432 with 1 Axes>"
            ]
          },
          "metadata": {
            "tags": [],
            "needs_background": "light"
          }
        }
      ]
    },
    {
      "cell_type": "code",
      "metadata": {
        "colab": {
          "base_uri": "https://localhost:8080/"
        },
        "id": "sDrW3b6zcjdV",
        "outputId": "be9bac6e-e1f7-4006-c455-5a74e072a1f3"
      },
      "source": [
        "q0,q1,q2,q3,q4=np.percentile(FER_new['CANADA'],[0,25,50,75,100])\n",
        "IQR=q3-q1\n",
        "print(\"0th percentile of CANADA cloumn : \",q0)\n",
        "print(\"25th percentile of CANADA cloumn : \",q1)\n",
        "print(\"50th percentile of CANADA cloumn : \",q2)\n",
        "print(\"75th percentile of CANADA cloumn : \",q3)\n",
        "print(\"100th percentile of CANADA cloumn : \",q4)\n",
        "print(\"Inter quartile range of CANADA cloumn : \",IQR)"
      ],
      "execution_count": 32,
      "outputs": [
        {
          "output_type": "stream",
          "text": [
            "0th percentile of CANADA cloumn :  0.989258\n",
            "25th percentile of CANADA cloumn :  1.1509880000000001\n",
            "50th percentile of CANADA cloumn :  1.292577\n",
            "75th percentile of CANADA cloumn :  1.3656314999999999\n",
            "100th percentile of CANADA cloumn :  1.570343\n",
            "Inter quartile range of CANADA cloumn :  0.21464349999999977\n"
          ],
          "name": "stdout"
        }
      ]
    },
    {
      "cell_type": "code",
      "metadata": {
        "colab": {
          "base_uri": "https://localhost:8080/",
          "height": 269
        },
        "id": "65tNoFSecjdV",
        "outputId": "129b820a-b61a-4576-bfc2-5df8fc48bac4"
      },
      "source": [
        "FER_new.corr()"
      ],
      "execution_count": 33,
      "outputs": [
        {
          "output_type": "execute_result",
          "data": {
            "text/html": [
              "<div>\n",
              "<style scoped>\n",
              "    .dataframe tbody tr th:only-of-type {\n",
              "        vertical-align: middle;\n",
              "    }\n",
              "\n",
              "    .dataframe tbody tr th {\n",
              "        vertical-align: top;\n",
              "    }\n",
              "\n",
              "    .dataframe thead th {\n",
              "        text-align: right;\n",
              "    }\n",
              "</style>\n",
              "<table border=\"1\" class=\"dataframe\">\n",
              "  <thead>\n",
              "    <tr style=\"text-align: right;\">\n",
              "      <th></th>\n",
              "      <th>CHINA</th>\n",
              "      <th>INDIA</th>\n",
              "      <th>JAPAN</th>\n",
              "      <th>UK</th>\n",
              "      <th>SWITZERLAND</th>\n",
              "      <th>CANADA</th>\n",
              "      <th>year</th>\n",
              "    </tr>\n",
              "  </thead>\n",
              "  <tbody>\n",
              "    <tr>\n",
              "      <th>CHINA</th>\n",
              "      <td>1.000000</td>\n",
              "      <td>0.657804</td>\n",
              "      <td>-0.774977</td>\n",
              "      <td>-0.147279</td>\n",
              "      <td>-0.570688</td>\n",
              "      <td>0.246403</td>\n",
              "      <td>0.575777</td>\n",
              "    </tr>\n",
              "    <tr>\n",
              "      <th>INDIA</th>\n",
              "      <td>0.657804</td>\n",
              "      <td>1.000000</td>\n",
              "      <td>-0.686436</td>\n",
              "      <td>0.248341</td>\n",
              "      <td>-0.776589</td>\n",
              "      <td>-0.054742</td>\n",
              "      <td>0.969982</td>\n",
              "    </tr>\n",
              "    <tr>\n",
              "      <th>JAPAN</th>\n",
              "      <td>-0.774977</td>\n",
              "      <td>-0.686436</td>\n",
              "      <td>1.000000</td>\n",
              "      <td>0.186534</td>\n",
              "      <td>0.872610</td>\n",
              "      <td>0.185730</td>\n",
              "      <td>-0.704906</td>\n",
              "    </tr>\n",
              "    <tr>\n",
              "      <th>UK</th>\n",
              "      <td>-0.147279</td>\n",
              "      <td>0.248341</td>\n",
              "      <td>0.186534</td>\n",
              "      <td>1.000000</td>\n",
              "      <td>0.156857</td>\n",
              "      <td>0.373912</td>\n",
              "      <td>0.174764</td>\n",
              "    </tr>\n",
              "    <tr>\n",
              "      <th>SWITZERLAND</th>\n",
              "      <td>-0.570688</td>\n",
              "      <td>-0.776589</td>\n",
              "      <td>0.872610</td>\n",
              "      <td>0.156857</td>\n",
              "      <td>1.000000</td>\n",
              "      <td>0.420654</td>\n",
              "      <td>-0.840039</td>\n",
              "    </tr>\n",
              "    <tr>\n",
              "      <th>CANADA</th>\n",
              "      <td>0.246403</td>\n",
              "      <td>-0.054742</td>\n",
              "      <td>0.185730</td>\n",
              "      <td>0.373912</td>\n",
              "      <td>0.420654</td>\n",
              "      <td>1.000000</td>\n",
              "      <td>-0.262291</td>\n",
              "    </tr>\n",
              "    <tr>\n",
              "      <th>year</th>\n",
              "      <td>0.575777</td>\n",
              "      <td>0.969982</td>\n",
              "      <td>-0.704906</td>\n",
              "      <td>0.174764</td>\n",
              "      <td>-0.840039</td>\n",
              "      <td>-0.262291</td>\n",
              "      <td>1.000000</td>\n",
              "    </tr>\n",
              "  </tbody>\n",
              "</table>\n",
              "</div>"
            ],
            "text/plain": [
              "                CHINA     INDIA     JAPAN  ...  SWITZERLAND    CANADA      year\n",
              "CHINA        1.000000  0.657804 -0.774977  ...    -0.570688  0.246403  0.575777\n",
              "INDIA        0.657804  1.000000 -0.686436  ...    -0.776589 -0.054742  0.969982\n",
              "JAPAN       -0.774977 -0.686436  1.000000  ...     0.872610  0.185730 -0.704906\n",
              "UK          -0.147279  0.248341  0.186534  ...     0.156857  0.373912  0.174764\n",
              "SWITZERLAND -0.570688 -0.776589  0.872610  ...     1.000000  0.420654 -0.840039\n",
              "CANADA       0.246403 -0.054742  0.185730  ...     0.420654  1.000000 -0.262291\n",
              "year         0.575777  0.969982 -0.704906  ...    -0.840039 -0.262291  1.000000\n",
              "\n",
              "[7 rows x 7 columns]"
            ]
          },
          "metadata": {
            "tags": []
          },
          "execution_count": 33
        }
      ]
    },
    {
      "cell_type": "code",
      "metadata": {
        "colab": {
          "base_uri": "https://localhost:8080/",
          "height": 350
        },
        "id": "1_9o4AERcjdV",
        "outputId": "d8322a03-ac5d-4a12-984d-f2a83c749a60"
      },
      "source": [
        "sns.heatmap(FER_new.corr(), annot = True, vmin=-1, vmax=1, center= 0, cmap= 'coolwarm')"
      ],
      "execution_count": 34,
      "outputs": [
        {
          "output_type": "execute_result",
          "data": {
            "text/plain": [
              "<matplotlib.axes._subplots.AxesSubplot at 0x7fe075afae10>"
            ]
          },
          "metadata": {
            "tags": []
          },
          "execution_count": 34
        },
        {
          "output_type": "display_data",
          "data": {
            "image/png": "[encoded data removed]",
            "text/plain": [
              "<Figure size 432x288 with 2 Axes>"
            ]
          },
          "metadata": {
            "tags": [],
            "needs_background": "light"
          }
        }
      ]
    },
    {
      "cell_type": "markdown",
      "metadata": {
        "id": "tmiTBwQOcjdW"
      },
      "source": [
        "### Heatmap with dark colors shows positive relationship between fers of different countries and light color shows the inverse relationship between countries.\n",
        "- SWITZERLAND and JAPAN has the positive relationship over FER over the years followed by INDIA and CHINA similarly INDIA and SWITZERLAND has the inverser FER over years.\n"
      ]
    },
    {
      "cell_type": "markdown",
      "metadata": {
        "id": "Kvqgp9LmcjdX"
      },
      "source": [
        "## Ploting line graph against year for each counties"
      ]
    },
    {
      "cell_type": "code",
      "metadata": {
        "colab": {
          "base_uri": "https://localhost:8080/",
          "height": 382
        },
        "id": "QFLmaK-9cjdX",
        "outputId": "078c42d7-3a6c-46e4-db81-27df878cbe7c"
      },
      "source": [
        "plt.figure(figsize=(18,6))\n",
        "sns.lineplot(x=FER_new['year'],y=FER_new['CHINA'],marker='.')\n",
        "plt.title(\"FER of china\")"
      ],
      "execution_count": 35,
      "outputs": [
        {
          "output_type": "execute_result",
          "data": {
            "text/plain": [
              "Text(0.5, 1.0, 'FER of china')"
            ]
          },
          "metadata": {
            "tags": []
          },
          "execution_count": 35
        },
        {
          "output_type": "display_data",
          "data": {
            "image/png": "[encoded data removed]",
            "text/plain": [
              "<Figure size 1296x432 with 1 Axes>"
            ]
          },
          "metadata": {
            "tags": [],
            "needs_background": "light"
          }
        }
      ]
    },
    {
      "cell_type": "markdown",
      "metadata": {
        "id": "kEAv8vvDcjdX"
      },
      "source": [
        "#### line chart of GDP of China shows that it starts increasing from 1981- 1987 with a  slight decrease in the year 1988 and again increase with much increase in 1989 and keeps on increasing till 1994 with a sudden decreases till year 1996 and remains stable till 2005. It fluctuate till 2015 and then it increases. "
      ]
    },
    {
      "cell_type": "code",
      "metadata": {
        "colab": {
          "base_uri": "https://localhost:8080/",
          "height": 380
        },
        "id": "7E3cRYHDcjdY",
        "outputId": "c9b3c302-4c7a-443d-f523-6d1ebaaf11b7"
      },
      "source": [
        "plt.figure(figsize=(18,6))\n",
        "sns.lineplot(x=FER_new['year'],y=FER_new['INDIA'],marker='.')\n",
        "plt.title(\"FER of India\")"
      ],
      "execution_count": 36,
      "outputs": [
        {
          "output_type": "execute_result",
          "data": {
            "text/plain": [
              "Text(0.5, 1.0, 'FER of India')"
            ]
          },
          "metadata": {
            "tags": []
          },
          "execution_count": 36
        },
        {
          "output_type": "display_data",
          "data": {
            "image/png": "[encoded data removed]",
            "text/plain": [
              "<Figure size 1296x432 with 1 Axes>"
            ]
          },
          "metadata": {
            "tags": [],
            "needs_background": "light"
          }
        }
      ]
    },
    {
      "cell_type": "markdown",
      "metadata": {
        "id": "37FIDmuBcjdY"
      },
      "source": [
        "#### line graph of FER of India shows that it keeps on fluctuating between increasing and decreasing of FER.\n",
        "\n",
        "\n",
        "\n"
      ]
    },
    {
      "cell_type": "code",
      "metadata": {
        "colab": {
          "base_uri": "https://localhost:8080/",
          "height": 378
        },
        "id": "D6cHybjCcjdY",
        "outputId": "00ce88ba-8d05-4e7e-aae3-e376c9b93d0b"
      },
      "source": [
        "plt.figure(figsize=(18,6))\n",
        "sns.lineplot(x=FER_new['year'],y=FER_new['JAPAN'],marker='.')\n",
        "plt.title(\"FER of Japan\")"
      ],
      "execution_count": 37,
      "outputs": [
        {
          "output_type": "execute_result",
          "data": {
            "text/plain": [
              "Text(0.5, 1.0, 'FER of Japan')"
            ]
          },
          "metadata": {
            "tags": []
          },
          "execution_count": 37
        },
        {
          "output_type": "display_data",
          "data": {
            "image/png": "[encoded data removed]",
            "text/plain": [
              "<Figure size 1296x432 with 1 Axes>"
            ]
          },
          "metadata": {
            "tags": [],
            "needs_background": "light"
          }
        }
      ]
    },
    {
      "cell_type": "code",
      "metadata": {
        "colab": {
          "base_uri": "https://localhost:8080/",
          "height": 377
        },
        "id": "Xbzmu5ogcjdY",
        "outputId": "41fe8477-a5df-4933-caae-de99dd5d327a"
      },
      "source": [
        "plt.figure(figsize=(18,6))\n",
        "sns.lineplot(x=FER_new['year'],y=FER_new['UK'],marker='.')\n",
        "plt.title(\"FER of UK\")"
      ],
      "execution_count": 38,
      "outputs": [
        {
          "output_type": "execute_result",
          "data": {
            "text/plain": [
              "Text(0.5, 1.0, 'FER of UK')"
            ]
          },
          "metadata": {
            "tags": []
          },
          "execution_count": 38
        },
        {
          "output_type": "display_data",
          "data": {
            "image/png": "[encoded data removed]",
            "text/plain": [
              "<Figure size 1296x432 with 1 Axes>"
            ]
          },
          "metadata": {
            "tags": [],
            "needs_background": "light"
          }
        }
      ]
    },
    {
      "cell_type": "code",
      "metadata": {
        "id": "VTqRQP8ucjdZ"
      },
      "source": [
        ""
      ],
      "execution_count": null,
      "outputs": []
    },
    {
      "cell_type": "code",
      "metadata": {
        "colab": {
          "base_uri": "https://localhost:8080/",
          "height": 379
        },
        "id": "FypvzBXBcjdZ",
        "outputId": "12ed4ba6-4582-471a-8f49-0230c3f95f13"
      },
      "source": [
        "plt.figure(figsize=(18,6))\n",
        "sns.lineplot(x=FER_new['year'],y=FER_new['SWITZERLAND'],marker='.')\n",
        "plt.title(\"FER of SWITZERLAND\")"
      ],
      "execution_count": 39,
      "outputs": [
        {
          "output_type": "execute_result",
          "data": {
            "text/plain": [
              "Text(0.5, 1.0, 'FER of SWITZERLAND')"
            ]
          },
          "metadata": {
            "tags": []
          },
          "execution_count": 39
        },
        {
          "output_type": "display_data",
          "data": {
            "image/png": "[encoded data removed]",
            "text/plain": [
              "<Figure size 1296x432 with 1 Axes>"
            ]
          },
          "metadata": {
            "tags": [],
            "needs_background": "light"
          }
        }
      ]
    },
    {
      "cell_type": "code",
      "metadata": {
        "id": "L6X96LWEcjda"
      },
      "source": [
        ""
      ],
      "execution_count": null,
      "outputs": []
    },
    {
      "cell_type": "code",
      "metadata": {
        "colab": {
          "base_uri": "https://localhost:8080/",
          "height": 379
        },
        "id": "3utR4VxNcjda",
        "outputId": "6eb5a584-202d-47bb-a1f1-90f89f78c821"
      },
      "source": [
        "plt.figure(figsize=(18,6))\n",
        "sns.lineplot(x=FER_new['year'],y=FER_new['CANADA'],marker='.')\n",
        "plt.title(\"FER of Canada\")"
      ],
      "execution_count": 40,
      "outputs": [
        {
          "output_type": "execute_result",
          "data": {
            "text/plain": [
              "Text(0.5, 1.0, 'FER of Canada')"
            ]
          },
          "metadata": {
            "tags": []
          },
          "execution_count": 40
        },
        {
          "output_type": "display_data",
          "data": {
            "image/png": "[encoded data removed]",
            "text/plain": [
              "<Figure size 1296x432 with 1 Axes>"
            ]
          },
          "metadata": {
            "tags": [],
            "needs_background": "light"
          }
        }
      ]
    },
    {
      "cell_type": "code",
      "metadata": {
        "id": "Mcg8oG5Hcjdb"
      },
      "source": [
        ""
      ],
      "execution_count": null,
      "outputs": []
    },
    {
      "cell_type": "code",
      "metadata": {
        "id": "zvIPCBfDcjdb"
      },
      "source": [
        ""
      ],
      "execution_count": null,
      "outputs": []
    },
    {
      "cell_type": "code",
      "metadata": {
        "id": "PVxo4pc7cjdb"
      },
      "source": [
        "new_FER = FER_new\n",
        "new_FER = new_FER.set_index('year')"
      ],
      "execution_count": 41,
      "outputs": []
    },
    {
      "cell_type": "code",
      "metadata": {
        "colab": {
          "base_uri": "https://localhost:8080/",
          "height": 530
        },
        "id": "yS0kRjSxcjdc",
        "outputId": "9ece4a3d-5d6a-4e8e-d40a-7d1037916c1b"
      },
      "source": [
        "plt.figure(figsize = (23,12))\n",
        "sns.lineplot(data = new_FER)"
      ],
      "execution_count": 42,
      "outputs": [
        {
          "output_type": "execute_result",
          "data": {
            "text/plain": [
              "<matplotlib.axes._subplots.AxesSubplot at 0x7fe06c80b5d0>"
            ]
          },
          "metadata": {
            "tags": []
          },
          "execution_count": 42
        },
        {
          "output_type": "display_data",
          "data": {
            "image/png": "[encoded data removed]",
            "text/plain": [
              "<Figure size 1656x864 with 1 Axes>"
            ]
          },
          "metadata": {
            "tags": [],
            "needs_background": "light"
          }
        }
      ]
    },
    {
      "cell_type": "code",
      "metadata": {
        "id": "PaAqvUM1cjdc",
        "outputId": "0d52b886-4742-4fde-f690-2299756f7933"
      },
      "source": [
        "pip install plotly==4.14.3"
      ],
      "execution_count": null,
      "outputs": [
        {
          "output_type": "stream",
          "text": [
            "Requirement already satisfied: plotly==4.14.3 in c:\\users\\dell\\anaconda3\\lib\\site-packages (4.14.3)\n",
            "Requirement already satisfied: retrying>=1.3.3 in c:\\users\\dell\\anaconda3\\lib\\site-packages (from plotly==4.14.3) (1.3.3)\n",
            "Requirement already satisfied: six in c:\\users\\dell\\anaconda3\\lib\\site-packages (from plotly==4.14.3) (1.12.0)\n",
            "Note: you may need to restart the kernel to use updated packages.\n"
          ],
          "name": "stdout"
        }
      ]
    },
    {
      "cell_type": "code",
      "metadata": {
        "id": "Iq8vv01Lcjdd"
      },
      "source": [
        "import plotly\n",
        "import plotly.offline as pyo\n",
        "import plotly.graph_objs as go"
      ],
      "execution_count": 43,
      "outputs": []
    },
    {
      "cell_type": "code",
      "metadata": {
        "colab": {
          "base_uri": "https://localhost:8080/",
          "height": 36
        },
        "id": "yDF44SEwcjdd",
        "outputId": "9b32358b-5651-4950-97a0-1bda66dc76b6"
      },
      "source": [
        "pdata1=[go.Scatter(x=FER_new['year'],y=FER_new['CHINA'],mode='lines',name=\"line\")]\n",
        "layout1=go.Layout(title=\"china FER\" , xaxis=dict(title='YEAR'),yaxis=dict(title='FER'))\n",
        "figure1=go.Figure(data=pdata1,layout=layout1)\n",
        "pyo.plot(figure1, filename = 'CHINA_FER.html')"
      ],
      "execution_count": 50,
      "outputs": [
        {
          "output_type": "execute_result",
          "data": {
            "application/vnd.google.colaboratory.intrinsic+json": {
              "type": "string"
            },
            "text/plain": [
              "'CHINA_FER.html'"
            ]
          },
          "metadata": {
            "tags": []
          },
          "execution_count": 50
        }
      ]
    },
    {
      "cell_type": "code",
      "metadata": {
        "colab": {
          "base_uri": "https://localhost:8080/",
          "height": 36
        },
        "id": "c-NrNzVmcjdd",
        "outputId": "15afae66-3500-4bac-c778-425b34746b2e"
      },
      "source": [
        "pdata2=[go.Scatter(x=FER_new['year'],y=FER_new['INDIA'],mode='lines',name=\"line\")]\n",
        "layout2=go.Layout(title=\"INDIA FER\" , xaxis=dict(title='YEAR'),yaxis=dict(title='FER'))\n",
        "figure2=go.Figure(data=pdata2,layout=layout2)\n",
        "pyo.plot(figure2, filename = 'INDIA_FER.html')"
      ],
      "execution_count": 51,
      "outputs": [
        {
          "output_type": "execute_result",
          "data": {
            "application/vnd.google.colaboratory.intrinsic+json": {
              "type": "string"
            },
            "text/plain": [
              "'INDIA_FER.html'"
            ]
          },
          "metadata": {
            "tags": []
          },
          "execution_count": 51
        }
      ]
    },
    {
      "cell_type": "code",
      "metadata": {
        "colab": {
          "base_uri": "https://localhost:8080/",
          "height": 36
        },
        "id": "LrmYNS90cjde",
        "outputId": "cdb2be85-a6bd-4cb0-a00f-0de947d02ff5"
      },
      "source": [
        "pdata3=[go.Scatter(x=FER_new['year'],y=FER_new['JAPAN'],mode='lines',name=\"line\")]\n",
        "layout3=go.Layout(title=\"JAPAN FER\" , xaxis=dict(title='YEAR'),yaxis=dict(title='FER'))\n",
        "figure3=go.Figure(data=pdata3,layout=layout3)\n",
        "pyo.plot(figure3, filename = 'JAPAN_FER.html')"
      ],
      "execution_count": 52,
      "outputs": [
        {
          "output_type": "execute_result",
          "data": {
            "application/vnd.google.colaboratory.intrinsic+json": {
              "type": "string"
            },
            "text/plain": [
              "'JAPAN_FER.html'"
            ]
          },
          "metadata": {
            "tags": []
          },
          "execution_count": 52
        }
      ]
    },
    {
      "cell_type": "code",
      "metadata": {
        "colab": {
          "base_uri": "https://localhost:8080/",
          "height": 36
        },
        "id": "_wCcO9fBcjdf",
        "outputId": "7d878baf-5766-4061-aac0-5b13ec34756c"
      },
      "source": [
        "pdata4=[go.Scatter(x=FER_new['year'],y=FER_new['UK'],mode='lines',name=\"line\")]\n",
        "layout4=go.Layout(title=\"UK FER\" , xaxis=dict(title='YEAR'),yaxis=dict(title='FER'))\n",
        "figure4=go.Figure(data=pdata4,layout=layout4)\n",
        "pyo.plot(figure4, filename = 'UK_FER.html')"
      ],
      "execution_count": 53,
      "outputs": [
        {
          "output_type": "execute_result",
          "data": {
            "application/vnd.google.colaboratory.intrinsic+json": {
              "type": "string"
            },
            "text/plain": [
              "'UK_FER.html'"
            ]
          },
          "metadata": {
            "tags": []
          },
          "execution_count": 53
        }
      ]
    },
    {
      "cell_type": "code",
      "metadata": {
        "colab": {
          "base_uri": "https://localhost:8080/",
          "height": 36
        },
        "id": "zofmBjchcjdg",
        "outputId": "b362814d-2670-43f4-fb20-a5f7ef8e9e9c"
      },
      "source": [
        "pdata5=[go.Scatter(x=FER_new['year'],y=FER_new['SWITZERLAND'],mode='lines',name=\"line\")]\n",
        "layout5=go.Layout(title=\"SWITZERLAND FER\" , xaxis=dict(title='YEAR'),yaxis=dict(title='FER'))\n",
        "figure5=go.Figure(data=pdata5,layout=layout5)\n",
        "pyo.plot(figure5, filename = 'SWITZERLAND_FER.html')"
      ],
      "execution_count": 54,
      "outputs": [
        {
          "output_type": "execute_result",
          "data": {
            "application/vnd.google.colaboratory.intrinsic+json": {
              "type": "string"
            },
            "text/plain": [
              "'SWITZERLAND_FER.html'"
            ]
          },
          "metadata": {
            "tags": []
          },
          "execution_count": 54
        }
      ]
    },
    {
      "cell_type": "code",
      "metadata": {
        "colab": {
          "base_uri": "https://localhost:8080/",
          "height": 36
        },
        "id": "YR79e6pNcjdg",
        "outputId": "db273b7b-2693-4848-d024-a6dbe75d5e27"
      },
      "source": [
        "pdata6=[go.Scatter(x=FER_new['year'],y=FER_new['CANADA'],mode='lines',name=\"line\")]\n",
        "layout6=go.Layout(title=\"CANADA FER\" , xaxis=dict(title='YEAR'),yaxis=dict(title='FER'))\n",
        "figure6=go.Figure(data=pdata6,layout=layout6)\n",
        "pyo.plot(figure6, filename = 'CANADA_FER.html')"
      ],
      "execution_count": 55,
      "outputs": [
        {
          "output_type": "execute_result",
          "data": {
            "application/vnd.google.colaboratory.intrinsic+json": {
              "type": "string"
            },
            "text/plain": [
              "'CANADA_FER.html'"
            ]
          },
          "metadata": {
            "tags": []
          },
          "execution_count": 55
        }
      ]
    },
    {
      "cell_type": "code",
      "metadata": {
        "id": "GZfNiCLicjdg"
      },
      "source": [
        ""
      ],
      "execution_count": null,
      "outputs": []
    }
  ]
}
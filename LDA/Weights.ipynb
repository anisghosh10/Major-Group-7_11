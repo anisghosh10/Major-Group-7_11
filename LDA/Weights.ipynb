{
  "nbformat": 4,
  "nbformat_minor": 0,
  "metadata": {
    "colab": {
      "name": "Weights",
      "provenance": []
    },
    "kernelspec": {
      "name": "python3",
      "display_name": "Python 3"
    }
  },
  "cells": [
    {
      "cell_type": "code",
      "metadata": {
        "id": "Ax_UvVzzixT_"
      },
      "source": [
        "import pandas as pd\r\n",
        "import numpy as np"
      ],
      "execution_count": null,
      "outputs": []
    },
    {
      "cell_type": "code",
      "metadata": {
        "id": "iIMudDJajM7I"
      },
      "source": [
        "n_topics = [5,10,15,20,25,30,40,50]\r\n",
        "no_years = 2020-1981"
      ],
      "execution_count": null,
      "outputs": []
    },
    {
      "cell_type": "code",
      "metadata": {
        "colab": {
          "base_uri": "https://localhost:8080/"
        },
        "id": "Jd1VuGr1jT3I",
        "outputId": "fd5dc6a3-d0d7-456e-fded-ee9940907f2b"
      },
      "source": [
        "for n in n_topics:\r\n",
        "    distribution = pd.read_csv(f\"/content/drive/MyDrive/Distributions/dist_{n}.csv\")\r\n",
        "    weights = np.zeros((no_years, n))\r\n",
        "    start=0\r\n",
        "    for i in range(1981, 2020):\r\n",
        "        df = pd.read_csv(f\"/content/drive/MyDrive/articler_data/new_article_{i}.csv\")\r\n",
        "        year = df.dropna()\r\n",
        "        year_data = distribution.iloc[start:start+len(year),:]\r\n",
        "        yearly_sum = np.sum(year_data, axis=0)/len(year)\r\n",
        "        weights[i-1981] = yearly_sum\r\n",
        "        start = start + len(year)\r\n",
        "    wts_df = pd.DataFrame(weights)\r\n",
        "    wts_df.to_csv(f'/content/drive/MyDrive/weights/weights_{n}.csv', index=False)\r\n",
        "    print(n, 'done')"
      ],
      "execution_count": null,
      "outputs": [
        {
          "output_type": "stream",
          "text": [
            "5 done\n",
            "10 done\n",
            "15 done\n",
            "20 done\n",
            "25 done\n",
            "30 done\n",
            "40 done\n",
            "50 done\n"
          ],
          "name": "stdout"
        }
      ]
    },
    {
      "cell_type": "code",
      "metadata": {
        "id": "sRZ6t9fEkd0J"
      },
      "source": [
        ""
      ],
      "execution_count": null,
      "outputs": []
    },
    {
      "cell_type": "code",
      "metadata": {
        "id": "Py1lhhkVmC1y"
      },
      "source": [
        ""
      ],
      "execution_count": null,
      "outputs": []
    },
    {
      "cell_type": "code",
      "metadata": {
        "id": "KmStLz9qmE8f"
      },
      "source": [
        ""
      ],
      "execution_count": null,
      "outputs": []
    },
    {
      "cell_type": "code",
      "metadata": {
        "id": "Y8eYtpqCmG5Q"
      },
      "source": [
        ""
      ],
      "execution_count": null,
      "outputs": []
    },
    {
      "cell_type": "code",
      "metadata": {
        "id": "WzH69VSJmVSH"
      },
      "source": [
        ""
      ],
      "execution_count": null,
      "outputs": []
    },
    {
      "cell_type": "code",
      "metadata": {
        "id": "ZNYFLf5dmgco"
      },
      "source": [
        ""
      ],
      "execution_count": null,
      "outputs": []
    }
  ]
}